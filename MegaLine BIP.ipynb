{
 "cells": [
  {
   "cell_type": "markdown",
   "metadata": {
    "id": "3rYiDeEH0q0f"
   },
   "source": [
    "# ¿Cuál es la mejor tarifa?\n",
    "\n",
    "Trabajas como analista para el operador de telecomunicaciones Megaline. La empresa ofrece a sus clientes dos tarifas de prepago, Surf y Ultimate. El departamento comercial quiere saber cuál de las tarifas genera más ingresos para poder ajustar el presupuesto de publicidad.\n",
    "\n",
    "Vas a realizar un análisis preliminar de las tarifas basado en una selección de clientes relativamente pequeña. Tendrás los datos de 500 clientes de Megaline: quiénes son los clientes, de dónde son, qué tarifa usan, así como la cantidad de llamadas que hicieron y los mensajes de texto que enviaron en 2018. Tu trabajo es analizar el comportamiento de los clientes y determinar qué tarifa de prepago genera más ingresos."
   ]
  },
  {
   "cell_type": "markdown",
   "metadata": {},
   "source": [
    "## Diccionario de datos\n",
    "### Users\n",
    "- <b>user_id</b>: Identificador de usuario.\n",
    "- <b>first_name</b>: Nombre\n",
    "- <b>last_name</b>: Apellido\n",
    "- <b>age</b>: Edad\n",
    "- <b>reg_date</b>: Fecha de suscripción\n",
    "- <b>churn_date</b>: Fecha en que dejó de usar el servicio\n",
    "- <b>city</b>: Ciudad de residencia\n",
    "- <b>plan</b>: Nombre de la tarifa\n",
    "\n",
    "### Calls\n",
    "- <b>id</b>: Identificador de la llamada\n",
    "- <b>call_date</b>: Fecha de la llamada\n",
    "- <b>duration</b>: Furación de la llamada (en minutos)\n",
    "- <b>user_id</b>: Identificador del usuario que realiza la llamada\n",
    "\n",
    "### Messages\n",
    "- <b>id</b>: Identificador del SMS\n",
    "- <b>message_date</b>: Fecha del SMS\n",
    "- <b>user_id</b>: Identificador del usuario que manda el SMS\n",
    "\n",
    "### Internet\n",
    "- <b>id</b>: Identificador de la sesión\n",
    "- <b>mb_used</b>: Volumen de datos gastados en la sesión (en MB)\n",
    "- <b>session_date</b>: Fecha de la sesión web\n",
    "- <b>user_id</b>: identificador del usuario\n",
    "\n",
    "### Plans\n",
    "- <b>plan_name</b>: Nombre de la tarifa\n",
    "- <b>usd_monthly_fee</b>: Pago mensual en dólares\n",
    "- <b>minutes_included</b>: Minutos incluidos al mes\n",
    "- <b>messages_included</b>: SMS incluidos al mes\n",
    "- <b>mb_per_month_included</b>: Datos incluidos al mes (en megabytes)\n",
    "- <b>usd_per_minute</b>: Precio por minuto exedido\n",
    "- <b>usd_per_message</b>: Precio por SMS exedido\n",
    "- <b>usd_per_gb</b>: Precio por gigabyte exedido"
   ]
  },
  {
   "cell_type": "markdown",
   "metadata": {},
   "source": [
    "El propósito de este proyecto es comparar dos planes de servicio de la empresa Megaline y encontrar cuál de los dos genera más ingresos.\n",
    "Los pasos que seguiré son:\n",
    "- Importar las <b>librerías</b> necesarias\n",
    "- Cargar los Datasets en <b>Dataframes de Pandas</b>\n",
    "- Analizar los DataFrames y <b>corregir errores</b>\n",
    "- Cambiar todas las columnas con <b>fechas al tipo datetime</b> de pandas\n",
    "- Formular una <b>H<sub>0</sub></b> y una <b>H<sub>1</sub></b>\n",
    "- Hacer las <b>pruebas estadísticas</b> pertinentes para las hipótesis"
   ]
  },
  {
   "cell_type": "markdown",
   "metadata": {
    "id": "MQi4IPy70q0y"
   },
   "source": [
    "# Inicialización"
   ]
  },
  {
   "cell_type": "code",
   "execution_count": 1,
   "metadata": {
    "id": "MtYIuBxu0q0z"
   },
   "outputs": [],
   "source": [
    "# Cargar todas las librerías\n",
    "import pandas as pd\n",
    "from scipy import stats as st\n",
    "import numpy as np\n",
    "import matplotlib.pyplot as plt"
   ]
  },
  {
   "cell_type": "markdown",
   "metadata": {
    "id": "4ysWWC5i0q00"
   },
   "source": [
    "# Cargar datos"
   ]
  },
  {
   "cell_type": "code",
   "execution_count": 2,
   "metadata": {
    "id": "CCqPW7rS0q01"
   },
   "outputs": [],
   "source": [
    "# Carga los archivos de datos en diferentes DataFrames\n",
    "user = pd.read_csv('/datasets/megaline_users.csv')\n",
    "call = pd.read_csv('/datasets/megaline_calls.csv')\n",
    "web = pd.read_csv('/datasets/megaline_internet.csv')\n",
    "msg = pd.read_csv('/datasets/megaline_messages.csv')\n",
    "plan = pd.read_csv('/datasets/megaline_plans.csv')"
   ]
  },
  {
   "cell_type": "code",
   "execution_count": 3,
   "metadata": {},
   "outputs": [],
   "source": [
    "date_format = '%Y-%m-%d'\n",
    "mes = ['Jan', 'Feb', 'Mar', 'Apr', 'May', 'Jun', 'Jul', 'Aug', 'Sep', 'Oct', 'Nov', 'Dec']"
   ]
  },
  {
   "cell_type": "markdown",
   "metadata": {
    "id": "69qqoJ3r0q01"
   },
   "source": [
    "# Preparar los datos"
   ]
  },
  {
   "cell_type": "markdown",
   "metadata": {
    "id": "ohBhimvH0q01"
   },
   "source": [
    "## Tarifas"
   ]
  },
  {
   "cell_type": "code",
   "execution_count": 4,
   "metadata": {
    "id": "GptqP3Q40q02"
   },
   "outputs": [
    {
     "name": "stdout",
     "output_type": "stream",
     "text": [
      "<class 'pandas.core.frame.DataFrame'>\n",
      "RangeIndex: 2 entries, 0 to 1\n",
      "Data columns (total 8 columns):\n",
      " #   Column                 Non-Null Count  Dtype  \n",
      "---  ------                 --------------  -----  \n",
      " 0   messages_included      2 non-null      int64  \n",
      " 1   mb_per_month_included  2 non-null      int64  \n",
      " 2   minutes_included       2 non-null      int64  \n",
      " 3   usd_monthly_pay        2 non-null      int64  \n",
      " 4   usd_per_gb             2 non-null      int64  \n",
      " 5   usd_per_message        2 non-null      float64\n",
      " 6   usd_per_minute         2 non-null      float64\n",
      " 7   plan_name              2 non-null      object \n",
      "dtypes: float64(2), int64(5), object(1)\n",
      "memory usage: 256.0+ bytes\n"
     ]
    }
   ],
   "source": [
    "# Imprime la información general/resumida sobre el DataFrame de las tarifas\n",
    "plan.info()"
   ]
  },
  {
   "cell_type": "code",
   "execution_count": 5,
   "metadata": {
    "id": "64xzjwL70q02"
   },
   "outputs": [
    {
     "data": {
      "text/html": [
       "<div>\n",
       "<style scoped>\n",
       "    .dataframe tbody tr th:only-of-type {\n",
       "        vertical-align: middle;\n",
       "    }\n",
       "\n",
       "    .dataframe tbody tr th {\n",
       "        vertical-align: top;\n",
       "    }\n",
       "\n",
       "    .dataframe thead th {\n",
       "        text-align: right;\n",
       "    }\n",
       "</style>\n",
       "<table border=\"1\" class=\"dataframe\">\n",
       "  <thead>\n",
       "    <tr style=\"text-align: right;\">\n",
       "      <th></th>\n",
       "      <th>messages_included</th>\n",
       "      <th>mb_per_month_included</th>\n",
       "      <th>minutes_included</th>\n",
       "      <th>usd_monthly_pay</th>\n",
       "      <th>usd_per_gb</th>\n",
       "      <th>usd_per_message</th>\n",
       "      <th>usd_per_minute</th>\n",
       "      <th>plan_name</th>\n",
       "    </tr>\n",
       "  </thead>\n",
       "  <tbody>\n",
       "    <tr>\n",
       "      <th>0</th>\n",
       "      <td>50</td>\n",
       "      <td>15360</td>\n",
       "      <td>500</td>\n",
       "      <td>20</td>\n",
       "      <td>10</td>\n",
       "      <td>0.03</td>\n",
       "      <td>0.03</td>\n",
       "      <td>surf</td>\n",
       "    </tr>\n",
       "    <tr>\n",
       "      <th>1</th>\n",
       "      <td>1000</td>\n",
       "      <td>30720</td>\n",
       "      <td>3000</td>\n",
       "      <td>70</td>\n",
       "      <td>7</td>\n",
       "      <td>0.01</td>\n",
       "      <td>0.01</td>\n",
       "      <td>ultimate</td>\n",
       "    </tr>\n",
       "  </tbody>\n",
       "</table>\n",
       "</div>"
      ],
      "text/plain": [
       "   messages_included  mb_per_month_included  minutes_included  \\\n",
       "0                 50                  15360               500   \n",
       "1               1000                  30720              3000   \n",
       "\n",
       "   usd_monthly_pay  usd_per_gb  usd_per_message  usd_per_minute plan_name  \n",
       "0               20          10             0.03            0.03      surf  \n",
       "1               70           7             0.01            0.01  ultimate  "
      ]
     },
     "execution_count": 5,
     "metadata": {},
     "output_type": "execute_result"
    }
   ],
   "source": [
    "# Imprime una muestra de los datos para las tarifas\n",
    "plan.head()"
   ]
  },
  {
   "cell_type": "markdown",
   "metadata": {},
   "source": [
    "No hay datos Ausentes en el DataFrame, tambien está correcta toda la información<br>\n",
    "Solo me gustaría cambiar los nombres de las columnas"
   ]
  },
  {
   "cell_type": "markdown",
   "metadata": {
    "id": "R3C05i1l0q03"
   },
   "source": [
    "### Cambiar nombres de Columnas"
   ]
  },
  {
   "cell_type": "code",
   "execution_count": 6,
   "metadata": {
    "id": "Y7SVmjGn0q03"
   },
   "outputs": [],
   "source": [
    "# Cambio los nombres en el DataFrame plan por nombres más cortos pero igualmente adecuados\n",
    "plan.columns = ['inc_msg', 'inc_mb', 'inc_min', 'plan_cost', 'extra_gb', 'extra_msg', 'extra_min', 'name']"
   ]
  },
  {
   "cell_type": "markdown",
   "metadata": {
    "id": "1n2X6WXf0q04"
   },
   "source": [
    "## Usuarios/as"
   ]
  },
  {
   "cell_type": "code",
   "execution_count": 7,
   "metadata": {
    "id": "2NgjWFqx0q05"
   },
   "outputs": [
    {
     "name": "stdout",
     "output_type": "stream",
     "text": [
      "<class 'pandas.core.frame.DataFrame'>\n",
      "RangeIndex: 500 entries, 0 to 499\n",
      "Data columns (total 8 columns):\n",
      " #   Column      Non-Null Count  Dtype \n",
      "---  ------      --------------  ----- \n",
      " 0   user_id     500 non-null    int64 \n",
      " 1   first_name  500 non-null    object\n",
      " 2   last_name   500 non-null    object\n",
      " 3   age         500 non-null    int64 \n",
      " 4   city        500 non-null    object\n",
      " 5   reg_date    500 non-null    object\n",
      " 6   plan        500 non-null    object\n",
      " 7   churn_date  34 non-null     object\n",
      "dtypes: int64(2), object(6)\n",
      "memory usage: 31.4+ KB\n"
     ]
    }
   ],
   "source": [
    "# Imprime la información general/resumida sobre el DataFrame de usuarios\n",
    "user.info()"
   ]
  },
  {
   "cell_type": "code",
   "execution_count": 8,
   "metadata": {
    "id": "1IN1L9uh0q05"
   },
   "outputs": [
    {
     "data": {
      "text/html": [
       "<div>\n",
       "<style scoped>\n",
       "    .dataframe tbody tr th:only-of-type {\n",
       "        vertical-align: middle;\n",
       "    }\n",
       "\n",
       "    .dataframe tbody tr th {\n",
       "        vertical-align: top;\n",
       "    }\n",
       "\n",
       "    .dataframe thead th {\n",
       "        text-align: right;\n",
       "    }\n",
       "</style>\n",
       "<table border=\"1\" class=\"dataframe\">\n",
       "  <thead>\n",
       "    <tr style=\"text-align: right;\">\n",
       "      <th></th>\n",
       "      <th>user_id</th>\n",
       "      <th>first_name</th>\n",
       "      <th>last_name</th>\n",
       "      <th>age</th>\n",
       "      <th>city</th>\n",
       "      <th>reg_date</th>\n",
       "      <th>plan</th>\n",
       "      <th>churn_date</th>\n",
       "    </tr>\n",
       "  </thead>\n",
       "  <tbody>\n",
       "    <tr>\n",
       "      <th>106</th>\n",
       "      <td>1106</td>\n",
       "      <td>Eddy</td>\n",
       "      <td>Garrison</td>\n",
       "      <td>47</td>\n",
       "      <td>New York-Newark-Jersey City, NY-NJ-PA MSA</td>\n",
       "      <td>2018-05-10</td>\n",
       "      <td>surf</td>\n",
       "      <td>2018-11-14</td>\n",
       "    </tr>\n",
       "    <tr>\n",
       "      <th>351</th>\n",
       "      <td>1351</td>\n",
       "      <td>Kyle</td>\n",
       "      <td>Grimes</td>\n",
       "      <td>47</td>\n",
       "      <td>San Antonio-New Braunfels, TX MSA</td>\n",
       "      <td>2018-09-05</td>\n",
       "      <td>ultimate</td>\n",
       "      <td>NaN</td>\n",
       "    </tr>\n",
       "    <tr>\n",
       "      <th>209</th>\n",
       "      <td>1209</td>\n",
       "      <td>Garret</td>\n",
       "      <td>Paul</td>\n",
       "      <td>63</td>\n",
       "      <td>Los Angeles-Long Beach-Anaheim, CA MSA</td>\n",
       "      <td>2018-08-28</td>\n",
       "      <td>surf</td>\n",
       "      <td>NaN</td>\n",
       "    </tr>\n",
       "    <tr>\n",
       "      <th>381</th>\n",
       "      <td>1381</td>\n",
       "      <td>German</td>\n",
       "      <td>Burris</td>\n",
       "      <td>44</td>\n",
       "      <td>Austin-Round Rock-Georgetown, TX MSA</td>\n",
       "      <td>2018-08-30</td>\n",
       "      <td>surf</td>\n",
       "      <td>NaN</td>\n",
       "    </tr>\n",
       "    <tr>\n",
       "      <th>241</th>\n",
       "      <td>1241</td>\n",
       "      <td>Lala</td>\n",
       "      <td>Walls</td>\n",
       "      <td>24</td>\n",
       "      <td>Richmond, VA MSA</td>\n",
       "      <td>2018-08-27</td>\n",
       "      <td>surf</td>\n",
       "      <td>NaN</td>\n",
       "    </tr>\n",
       "  </tbody>\n",
       "</table>\n",
       "</div>"
      ],
      "text/plain": [
       "     user_id first_name last_name  age  \\\n",
       "106     1106       Eddy  Garrison   47   \n",
       "351     1351       Kyle    Grimes   47   \n",
       "209     1209     Garret      Paul   63   \n",
       "381     1381     German    Burris   44   \n",
       "241     1241       Lala     Walls   24   \n",
       "\n",
       "                                          city    reg_date      plan  \\\n",
       "106  New York-Newark-Jersey City, NY-NJ-PA MSA  2018-05-10      surf   \n",
       "351          San Antonio-New Braunfels, TX MSA  2018-09-05  ultimate   \n",
       "209     Los Angeles-Long Beach-Anaheim, CA MSA  2018-08-28      surf   \n",
       "381       Austin-Round Rock-Georgetown, TX MSA  2018-08-30      surf   \n",
       "241                           Richmond, VA MSA  2018-08-27      surf   \n",
       "\n",
       "     churn_date  \n",
       "106  2018-11-14  \n",
       "351         NaN  \n",
       "209         NaN  \n",
       "381         NaN  \n",
       "241         NaN  "
      ]
     },
     "execution_count": 8,
     "metadata": {},
     "output_type": "execute_result"
    }
   ],
   "source": [
    "# Imprime una muestra de datos para usuarios\n",
    "user.sample(5)"
   ]
  },
  {
   "cell_type": "markdown",
   "metadata": {},
   "source": [
    "El DataFRame user tiene valores ausentes en su columna churn_date, el resto de columnas no tiene datos ausentes.<br>\n",
    "No hay IDs duplicadas.<br>\n",
    "Las fechas no están en tipo datetime<br>\n",
    "Los nombres de columnas están bien"
   ]
  },
  {
   "cell_type": "markdown",
   "metadata": {
    "id": "BX5FQh_I0q06"
   },
   "source": [
    "### Corregir los datos"
   ]
  },
  {
   "cell_type": "code",
   "execution_count": 9,
   "metadata": {
    "id": "yUqX-K0C0q07"
   },
   "outputs": [],
   "source": [
    "# CAmbio los tipos de datos para las columnas con fechas a Datetime\n",
    "user['churn_date'] = pd.to_datetime(user['churn_date'] ,format=date_format)\n",
    "user['reg_date'] = pd.to_datetime(user['reg_date'] ,format=date_format)"
   ]
  },
  {
   "cell_type": "markdown",
   "metadata": {
    "id": "ycwuARJp0q07"
   },
   "source": [
    "### Enriquecer los datos"
   ]
  },
  {
   "cell_type": "markdown",
   "metadata": {
    "id": "iq0AaBS90q08"
   },
   "source": [
    "No encontre ninguna manera de agregar nuevas columnas de manera que fuese útil"
   ]
  },
  {
   "cell_type": "markdown",
   "metadata": {
    "id": "o7MeKCid0q08"
   },
   "source": [
    "## Llamadas"
   ]
  },
  {
   "cell_type": "code",
   "execution_count": 10,
   "metadata": {
    "id": "6dDlnoDm0q08"
   },
   "outputs": [
    {
     "name": "stdout",
     "output_type": "stream",
     "text": [
      "<class 'pandas.core.frame.DataFrame'>\n",
      "RangeIndex: 137735 entries, 0 to 137734\n",
      "Data columns (total 4 columns):\n",
      " #   Column     Non-Null Count   Dtype  \n",
      "---  ------     --------------   -----  \n",
      " 0   id         137735 non-null  object \n",
      " 1   user_id    137735 non-null  int64  \n",
      " 2   call_date  137735 non-null  object \n",
      " 3   duration   137735 non-null  float64\n",
      "dtypes: float64(1), int64(1), object(2)\n",
      "memory usage: 4.2+ MB\n"
     ]
    }
   ],
   "source": [
    "# Imprime la información general/resumida sobre el DataFrame de las llamadas\n",
    "call.info()"
   ]
  },
  {
   "cell_type": "code",
   "execution_count": 11,
   "metadata": {
    "id": "kuh1vlNB0q09"
   },
   "outputs": [
    {
     "data": {
      "text/html": [
       "<div>\n",
       "<style scoped>\n",
       "    .dataframe tbody tr th:only-of-type {\n",
       "        vertical-align: middle;\n",
       "    }\n",
       "\n",
       "    .dataframe tbody tr th {\n",
       "        vertical-align: top;\n",
       "    }\n",
       "\n",
       "    .dataframe thead th {\n",
       "        text-align: right;\n",
       "    }\n",
       "</style>\n",
       "<table border=\"1\" class=\"dataframe\">\n",
       "  <thead>\n",
       "    <tr style=\"text-align: right;\">\n",
       "      <th></th>\n",
       "      <th>id</th>\n",
       "      <th>user_id</th>\n",
       "      <th>call_date</th>\n",
       "      <th>duration</th>\n",
       "    </tr>\n",
       "  </thead>\n",
       "  <tbody>\n",
       "    <tr>\n",
       "      <th>49654</th>\n",
       "      <td>1179_313</td>\n",
       "      <td>1179</td>\n",
       "      <td>2018-08-04</td>\n",
       "      <td>19.12</td>\n",
       "    </tr>\n",
       "    <tr>\n",
       "      <th>27081</th>\n",
       "      <td>1101_408</td>\n",
       "      <td>1101</td>\n",
       "      <td>2018-07-14</td>\n",
       "      <td>8.53</td>\n",
       "    </tr>\n",
       "    <tr>\n",
       "      <th>109337</th>\n",
       "      <td>1385_407</td>\n",
       "      <td>1385</td>\n",
       "      <td>2018-08-18</td>\n",
       "      <td>13.95</td>\n",
       "    </tr>\n",
       "    <tr>\n",
       "      <th>131356</th>\n",
       "      <td>1472_316</td>\n",
       "      <td>1472</td>\n",
       "      <td>2018-09-18</td>\n",
       "      <td>13.39</td>\n",
       "    </tr>\n",
       "    <tr>\n",
       "      <th>112919</th>\n",
       "      <td>1397_614</td>\n",
       "      <td>1397</td>\n",
       "      <td>2018-07-17</td>\n",
       "      <td>0.00</td>\n",
       "    </tr>\n",
       "  </tbody>\n",
       "</table>\n",
       "</div>"
      ],
      "text/plain": [
       "              id  user_id   call_date  duration\n",
       "49654   1179_313     1179  2018-08-04     19.12\n",
       "27081   1101_408     1101  2018-07-14      8.53\n",
       "109337  1385_407     1385  2018-08-18     13.95\n",
       "131356  1472_316     1472  2018-09-18     13.39\n",
       "112919  1397_614     1397  2018-07-17      0.00"
      ]
     },
     "execution_count": 11,
     "metadata": {},
     "output_type": "execute_result"
    }
   ],
   "source": [
    "# Imprime una muestra de datos para las llamadas\n",
    "call.sample(5)"
   ]
  },
  {
   "cell_type": "markdown",
   "metadata": {},
   "source": [
    "La fecha no está en tipo datetime<br>\n",
    "La duración debe redondearse hacia arriba<br>\n",
    "Puede ser buena idea tener el mes en su columna individual"
   ]
  },
  {
   "cell_type": "markdown",
   "metadata": {
    "id": "S7hzxmbX0q0-"
   },
   "source": [
    "### Corregir los datos"
   ]
  },
  {
   "cell_type": "code",
   "execution_count": 12,
   "metadata": {
    "id": "S2r8xA4f0q0-"
   },
   "outputs": [],
   "source": [
    "# Fecha a tipo Datetime\n",
    "call['call_date'] = pd.to_datetime(call['call_date'] , format=date_format)\n",
    "# Duración de llamadas redondeada hacia arriba\n",
    "call['duration'] = call['duration'].apply(np.ceil).astype(int)"
   ]
  },
  {
   "cell_type": "markdown",
   "metadata": {
    "id": "KrMgTrlG0q0_"
   },
   "source": [
    "### Enriquecer los datos"
   ]
  },
  {
   "cell_type": "code",
   "execution_count": 13,
   "metadata": {
    "id": "iZ1avpA_0q0_"
   },
   "outputs": [],
   "source": [
    "# Extraer el mes en una nueva columna\n",
    "call['month'] = call['call_date'].apply(lambda time: mes[time.month - 1])"
   ]
  },
  {
   "cell_type": "markdown",
   "metadata": {
    "id": "mOUZSi180q0_"
   },
   "source": [
    "## Mensajes"
   ]
  },
  {
   "cell_type": "code",
   "execution_count": 14,
   "metadata": {
    "id": "R-bYJpdV0q1A"
   },
   "outputs": [
    {
     "name": "stdout",
     "output_type": "stream",
     "text": [
      "<class 'pandas.core.frame.DataFrame'>\n",
      "RangeIndex: 76051 entries, 0 to 76050\n",
      "Data columns (total 3 columns):\n",
      " #   Column        Non-Null Count  Dtype \n",
      "---  ------        --------------  ----- \n",
      " 0   id            76051 non-null  object\n",
      " 1   user_id       76051 non-null  int64 \n",
      " 2   message_date  76051 non-null  object\n",
      "dtypes: int64(1), object(2)\n",
      "memory usage: 1.7+ MB\n"
     ]
    }
   ],
   "source": [
    "# Imprime la información general/resumida sobre el DataFrame de los mensajes\n",
    "msg.info()"
   ]
  },
  {
   "cell_type": "code",
   "execution_count": 15,
   "metadata": {
    "id": "mCEl2iGE0q1A"
   },
   "outputs": [
    {
     "data": {
      "text/html": [
       "<div>\n",
       "<style scoped>\n",
       "    .dataframe tbody tr th:only-of-type {\n",
       "        vertical-align: middle;\n",
       "    }\n",
       "\n",
       "    .dataframe tbody tr th {\n",
       "        vertical-align: top;\n",
       "    }\n",
       "\n",
       "    .dataframe thead th {\n",
       "        text-align: right;\n",
       "    }\n",
       "</style>\n",
       "<table border=\"1\" class=\"dataframe\">\n",
       "  <thead>\n",
       "    <tr style=\"text-align: right;\">\n",
       "      <th></th>\n",
       "      <th>id</th>\n",
       "      <th>user_id</th>\n",
       "      <th>message_date</th>\n",
       "    </tr>\n",
       "  </thead>\n",
       "  <tbody>\n",
       "    <tr>\n",
       "      <th>37734</th>\n",
       "      <td>1249_293</td>\n",
       "      <td>1249</td>\n",
       "      <td>2018-08-14</td>\n",
       "    </tr>\n",
       "    <tr>\n",
       "      <th>60026</th>\n",
       "      <td>1381_139</td>\n",
       "      <td>1381</td>\n",
       "      <td>2018-10-22</td>\n",
       "    </tr>\n",
       "    <tr>\n",
       "      <th>188</th>\n",
       "      <td>1001_367</td>\n",
       "      <td>1001</td>\n",
       "      <td>2018-10-26</td>\n",
       "    </tr>\n",
       "    <tr>\n",
       "      <th>62219</th>\n",
       "      <td>1391_223</td>\n",
       "      <td>1391</td>\n",
       "      <td>2018-11-19</td>\n",
       "    </tr>\n",
       "    <tr>\n",
       "      <th>8471</th>\n",
       "      <td>1061_477</td>\n",
       "      <td>1061</td>\n",
       "      <td>2018-11-29</td>\n",
       "    </tr>\n",
       "  </tbody>\n",
       "</table>\n",
       "</div>"
      ],
      "text/plain": [
       "             id  user_id message_date\n",
       "37734  1249_293     1249   2018-08-14\n",
       "60026  1381_139     1381   2018-10-22\n",
       "188    1001_367     1001   2018-10-26\n",
       "62219  1391_223     1391   2018-11-19\n",
       "8471   1061_477     1061   2018-11-29"
      ]
     },
     "execution_count": 15,
     "metadata": {},
     "output_type": "execute_result"
    }
   ],
   "source": [
    "# Imprime una muestra de datos para los mensajes\n",
    "msg.sample(5)"
   ]
  },
  {
   "cell_type": "markdown",
   "metadata": {},
   "source": [
    "La fecha no está en tipo datetime.<br>\n",
    "Puede ser buena idea tener el mes en su columna individual"
   ]
  },
  {
   "cell_type": "markdown",
   "metadata": {
    "id": "Sprfak900q1B"
   },
   "source": [
    "### Corregir los datos"
   ]
  },
  {
   "cell_type": "code",
   "execution_count": 16,
   "metadata": {
    "id": "vsllvkoa0q1B"
   },
   "outputs": [],
   "source": [
    "# Fecha a tipo Datetime\n",
    "msg['message_date'] = pd.to_datetime(msg['message_date'] , format=date_format)"
   ]
  },
  {
   "cell_type": "markdown",
   "metadata": {
    "id": "HvLid7iD0q1B"
   },
   "source": [
    "### Enriquecer los datos"
   ]
  },
  {
   "cell_type": "code",
   "execution_count": 17,
   "metadata": {
    "id": "zYEXZac10q1C"
   },
   "outputs": [],
   "source": [
    "# Extraer el mes del mensaje en una nueva columna\n",
    "msg['month'] = msg['message_date'].apply(lambda time: mes[time.month - 1])"
   ]
  },
  {
   "cell_type": "markdown",
   "metadata": {
    "id": "bStkaxn40q1C"
   },
   "source": [
    "## Internet"
   ]
  },
  {
   "cell_type": "code",
   "execution_count": 18,
   "metadata": {
    "id": "e-Uz5qyn0q1C"
   },
   "outputs": [
    {
     "name": "stdout",
     "output_type": "stream",
     "text": [
      "<class 'pandas.core.frame.DataFrame'>\n",
      "RangeIndex: 104825 entries, 0 to 104824\n",
      "Data columns (total 4 columns):\n",
      " #   Column        Non-Null Count   Dtype  \n",
      "---  ------        --------------   -----  \n",
      " 0   id            104825 non-null  object \n",
      " 1   user_id       104825 non-null  int64  \n",
      " 2   session_date  104825 non-null  object \n",
      " 3   mb_used       104825 non-null  float64\n",
      "dtypes: float64(1), int64(1), object(2)\n",
      "memory usage: 3.2+ MB\n"
     ]
    }
   ],
   "source": [
    "# Imprime la información general/resumida sobre el DataFrame de internet\n",
    "web.info()"
   ]
  },
  {
   "cell_type": "code",
   "execution_count": 19,
   "metadata": {
    "id": "9r3x_XLw0q1C"
   },
   "outputs": [
    {
     "data": {
      "text/html": [
       "<div>\n",
       "<style scoped>\n",
       "    .dataframe tbody tr th:only-of-type {\n",
       "        vertical-align: middle;\n",
       "    }\n",
       "\n",
       "    .dataframe tbody tr th {\n",
       "        vertical-align: top;\n",
       "    }\n",
       "\n",
       "    .dataframe thead th {\n",
       "        text-align: right;\n",
       "    }\n",
       "</style>\n",
       "<table border=\"1\" class=\"dataframe\">\n",
       "  <thead>\n",
       "    <tr style=\"text-align: right;\">\n",
       "      <th></th>\n",
       "      <th>id</th>\n",
       "      <th>user_id</th>\n",
       "      <th>session_date</th>\n",
       "      <th>mb_used</th>\n",
       "    </tr>\n",
       "  </thead>\n",
       "  <tbody>\n",
       "    <tr>\n",
       "      <th>70761</th>\n",
       "      <td>1331_12</td>\n",
       "      <td>1331</td>\n",
       "      <td>2018-11-08</td>\n",
       "      <td>569.74</td>\n",
       "    </tr>\n",
       "    <tr>\n",
       "      <th>17279</th>\n",
       "      <td>1077_399</td>\n",
       "      <td>1077</td>\n",
       "      <td>2018-04-15</td>\n",
       "      <td>302.19</td>\n",
       "    </tr>\n",
       "    <tr>\n",
       "      <th>41099</th>\n",
       "      <td>1185_136</td>\n",
       "      <td>1185</td>\n",
       "      <td>2018-04-21</td>\n",
       "      <td>67.29</td>\n",
       "    </tr>\n",
       "    <tr>\n",
       "      <th>68100</th>\n",
       "      <td>1317_43</td>\n",
       "      <td>1317</td>\n",
       "      <td>2018-12-04</td>\n",
       "      <td>511.36</td>\n",
       "    </tr>\n",
       "    <tr>\n",
       "      <th>41433</th>\n",
       "      <td>1185_470</td>\n",
       "      <td>1185</td>\n",
       "      <td>2018-05-18</td>\n",
       "      <td>57.08</td>\n",
       "    </tr>\n",
       "  </tbody>\n",
       "</table>\n",
       "</div>"
      ],
      "text/plain": [
       "             id  user_id session_date  mb_used\n",
       "70761   1331_12     1331   2018-11-08   569.74\n",
       "17279  1077_399     1077   2018-04-15   302.19\n",
       "41099  1185_136     1185   2018-04-21    67.29\n",
       "68100   1317_43     1317   2018-12-04   511.36\n",
       "41433  1185_470     1185   2018-05-18    57.08"
      ]
     },
     "execution_count": 19,
     "metadata": {},
     "output_type": "execute_result"
    }
   ],
   "source": [
    "# Imprime una muestra de datos para el tráfico de internet\n",
    "web.sample(5)"
   ]
  },
  {
   "cell_type": "markdown",
   "metadata": {},
   "source": [
    "La fecha no está en tipo datetime.<br>\n",
    "Puede ser buena idea tener el mes en su columna individual"
   ]
  },
  {
   "cell_type": "markdown",
   "metadata": {
    "id": "yA0tkPFg0q1D"
   },
   "source": [
    "### Corregir los datos"
   ]
  },
  {
   "cell_type": "code",
   "execution_count": 20,
   "metadata": {
    "id": "zVeanzdd0q1E"
   },
   "outputs": [],
   "source": [
    "# Fecha a tipo Datetime\n",
    "web['session_date'] = pd.to_datetime(web['session_date'] , format=date_format)"
   ]
  },
  {
   "cell_type": "markdown",
   "metadata": {
    "id": "e8_mLF4a0q1E"
   },
   "source": [
    "### Enriquecer los datos"
   ]
  },
  {
   "cell_type": "code",
   "execution_count": 21,
   "metadata": {
    "id": "ESiYPIEK0q1E"
   },
   "outputs": [],
   "source": [
    "# Extraer el mes en una nueva columna\n",
    "web['month'] = web['session_date'].apply(lambda time: mes[time.month - 1])"
   ]
  },
  {
   "cell_type": "markdown",
   "metadata": {
    "id": "3UA2cqIW0q1E"
   },
   "source": [
    "# Estudiar las condiciones de las tarifas"
   ]
  },
  {
   "cell_type": "code",
   "execution_count": 22,
   "metadata": {
    "id": "i409op8p0q1F"
   },
   "outputs": [
    {
     "data": {
      "text/html": [
       "<div>\n",
       "<style scoped>\n",
       "    .dataframe tbody tr th:only-of-type {\n",
       "        vertical-align: middle;\n",
       "    }\n",
       "\n",
       "    .dataframe tbody tr th {\n",
       "        vertical-align: top;\n",
       "    }\n",
       "\n",
       "    .dataframe thead th {\n",
       "        text-align: right;\n",
       "    }\n",
       "</style>\n",
       "<table border=\"1\" class=\"dataframe\">\n",
       "  <thead>\n",
       "    <tr style=\"text-align: right;\">\n",
       "      <th></th>\n",
       "      <th>inc_msg</th>\n",
       "      <th>inc_mb</th>\n",
       "      <th>inc_min</th>\n",
       "      <th>plan_cost</th>\n",
       "      <th>extra_gb</th>\n",
       "      <th>extra_msg</th>\n",
       "      <th>extra_min</th>\n",
       "      <th>name</th>\n",
       "    </tr>\n",
       "  </thead>\n",
       "  <tbody>\n",
       "    <tr>\n",
       "      <th>0</th>\n",
       "      <td>50</td>\n",
       "      <td>15360</td>\n",
       "      <td>500</td>\n",
       "      <td>20</td>\n",
       "      <td>10</td>\n",
       "      <td>0.03</td>\n",
       "      <td>0.03</td>\n",
       "      <td>surf</td>\n",
       "    </tr>\n",
       "    <tr>\n",
       "      <th>1</th>\n",
       "      <td>1000</td>\n",
       "      <td>30720</td>\n",
       "      <td>3000</td>\n",
       "      <td>70</td>\n",
       "      <td>7</td>\n",
       "      <td>0.01</td>\n",
       "      <td>0.01</td>\n",
       "      <td>ultimate</td>\n",
       "    </tr>\n",
       "  </tbody>\n",
       "</table>\n",
       "</div>"
      ],
      "text/plain": [
       "   inc_msg  inc_mb  inc_min  plan_cost  extra_gb  extra_msg  extra_min  \\\n",
       "0       50   15360      500         20        10       0.03       0.03   \n",
       "1     1000   30720     3000         70         7       0.01       0.01   \n",
       "\n",
       "       name  \n",
       "0      surf  \n",
       "1  ultimate  "
      ]
     },
     "execution_count": 22,
     "metadata": {},
     "output_type": "execute_result"
    }
   ],
   "source": [
    "# Imprime las condiciones de la tarifa y asegúrate de que te quedan claras\n",
    "plan"
   ]
  },
  {
   "cell_type": "markdown",
   "metadata": {
    "id": "hMR1tP5d0q1F"
   },
   "source": [
    "# Agregar datos por usuario"
   ]
  },
  {
   "cell_type": "code",
   "execution_count": 23,
   "metadata": {
    "id": "A332cedB0q1G"
   },
   "outputs": [
    {
     "data": {
      "text/html": [
       "<div>\n",
       "<style scoped>\n",
       "    .dataframe tbody tr th:only-of-type {\n",
       "        vertical-align: middle;\n",
       "    }\n",
       "\n",
       "    .dataframe tbody tr th {\n",
       "        vertical-align: top;\n",
       "    }\n",
       "\n",
       "    .dataframe thead th {\n",
       "        text-align: right;\n",
       "    }\n",
       "</style>\n",
       "<table border=\"1\" class=\"dataframe\">\n",
       "  <thead>\n",
       "    <tr style=\"text-align: right;\">\n",
       "      <th>month</th>\n",
       "      <th>Jan</th>\n",
       "      <th>Feb</th>\n",
       "      <th>Mar</th>\n",
       "      <th>Apr</th>\n",
       "      <th>May</th>\n",
       "      <th>Jun</th>\n",
       "      <th>Jul</th>\n",
       "      <th>Aug</th>\n",
       "      <th>Sep</th>\n",
       "      <th>Oct</th>\n",
       "      <th>Nov</th>\n",
       "      <th>Dec</th>\n",
       "    </tr>\n",
       "    <tr>\n",
       "      <th>user_id</th>\n",
       "      <th></th>\n",
       "      <th></th>\n",
       "      <th></th>\n",
       "      <th></th>\n",
       "      <th></th>\n",
       "      <th></th>\n",
       "      <th></th>\n",
       "      <th></th>\n",
       "      <th></th>\n",
       "      <th></th>\n",
       "      <th></th>\n",
       "      <th></th>\n",
       "    </tr>\n",
       "  </thead>\n",
       "  <tbody>\n",
       "    <tr>\n",
       "      <th>1000</th>\n",
       "      <td>0</td>\n",
       "      <td>0</td>\n",
       "      <td>0</td>\n",
       "      <td>0</td>\n",
       "      <td>0</td>\n",
       "      <td>0</td>\n",
       "      <td>0</td>\n",
       "      <td>0</td>\n",
       "      <td>0</td>\n",
       "      <td>0</td>\n",
       "      <td>0</td>\n",
       "      <td>16</td>\n",
       "    </tr>\n",
       "    <tr>\n",
       "      <th>1001</th>\n",
       "      <td>0</td>\n",
       "      <td>0</td>\n",
       "      <td>0</td>\n",
       "      <td>0</td>\n",
       "      <td>0</td>\n",
       "      <td>0</td>\n",
       "      <td>0</td>\n",
       "      <td>27</td>\n",
       "      <td>49</td>\n",
       "      <td>65</td>\n",
       "      <td>64</td>\n",
       "      <td>56</td>\n",
       "    </tr>\n",
       "    <tr>\n",
       "      <th>1002</th>\n",
       "      <td>0</td>\n",
       "      <td>0</td>\n",
       "      <td>0</td>\n",
       "      <td>0</td>\n",
       "      <td>0</td>\n",
       "      <td>0</td>\n",
       "      <td>0</td>\n",
       "      <td>0</td>\n",
       "      <td>0</td>\n",
       "      <td>11</td>\n",
       "      <td>55</td>\n",
       "      <td>47</td>\n",
       "    </tr>\n",
       "    <tr>\n",
       "      <th>1003</th>\n",
       "      <td>0</td>\n",
       "      <td>0</td>\n",
       "      <td>0</td>\n",
       "      <td>0</td>\n",
       "      <td>0</td>\n",
       "      <td>0</td>\n",
       "      <td>0</td>\n",
       "      <td>0</td>\n",
       "      <td>0</td>\n",
       "      <td>0</td>\n",
       "      <td>0</td>\n",
       "      <td>149</td>\n",
       "    </tr>\n",
       "    <tr>\n",
       "      <th>1004</th>\n",
       "      <td>0</td>\n",
       "      <td>0</td>\n",
       "      <td>0</td>\n",
       "      <td>0</td>\n",
       "      <td>21</td>\n",
       "      <td>44</td>\n",
       "      <td>49</td>\n",
       "      <td>49</td>\n",
       "      <td>42</td>\n",
       "      <td>61</td>\n",
       "      <td>54</td>\n",
       "      <td>50</td>\n",
       "    </tr>\n",
       "  </tbody>\n",
       "</table>\n",
       "</div>"
      ],
      "text/plain": [
       "month    Jan  Feb  Mar  Apr  May  Jun  Jul  Aug  Sep  Oct  Nov  Dec\n",
       "user_id                                                            \n",
       "1000       0    0    0    0    0    0    0    0    0    0    0   16\n",
       "1001       0    0    0    0    0    0    0   27   49   65   64   56\n",
       "1002       0    0    0    0    0    0    0    0    0   11   55   47\n",
       "1003       0    0    0    0    0    0    0    0    0    0    0  149\n",
       "1004       0    0    0    0   21   44   49   49   42   61   54   50"
      ]
     },
     "execution_count": 23,
     "metadata": {},
     "output_type": "execute_result"
    }
   ],
   "source": [
    "# Calcula el número de llamadas hechas por cada usuario al mes. Guarda el resultado.\n",
    "user_call = pd.pivot_table(call, index='user_id', columns='month', values='id', aggfunc='count', fill_value=0)\n",
    "user_call = user_call[mes]\n",
    "user_call.head()"
   ]
  },
  {
   "cell_type": "code",
   "execution_count": 24,
   "metadata": {
    "id": "aw2cmuql0q1G"
   },
   "outputs": [
    {
     "data": {
      "text/html": [
       "<div>\n",
       "<style scoped>\n",
       "    .dataframe tbody tr th:only-of-type {\n",
       "        vertical-align: middle;\n",
       "    }\n",
       "\n",
       "    .dataframe tbody tr th {\n",
       "        vertical-align: top;\n",
       "    }\n",
       "\n",
       "    .dataframe thead th {\n",
       "        text-align: right;\n",
       "    }\n",
       "</style>\n",
       "<table border=\"1\" class=\"dataframe\">\n",
       "  <thead>\n",
       "    <tr style=\"text-align: right;\">\n",
       "      <th>month</th>\n",
       "      <th>Jan</th>\n",
       "      <th>Feb</th>\n",
       "      <th>Mar</th>\n",
       "      <th>Apr</th>\n",
       "      <th>May</th>\n",
       "      <th>Jun</th>\n",
       "      <th>Jul</th>\n",
       "      <th>Aug</th>\n",
       "      <th>Sep</th>\n",
       "      <th>Oct</th>\n",
       "      <th>Nov</th>\n",
       "      <th>Dec</th>\n",
       "    </tr>\n",
       "    <tr>\n",
       "      <th>user_id</th>\n",
       "      <th></th>\n",
       "      <th></th>\n",
       "      <th></th>\n",
       "      <th></th>\n",
       "      <th></th>\n",
       "      <th></th>\n",
       "      <th></th>\n",
       "      <th></th>\n",
       "      <th></th>\n",
       "      <th></th>\n",
       "      <th></th>\n",
       "      <th></th>\n",
       "    </tr>\n",
       "  </thead>\n",
       "  <tbody>\n",
       "    <tr>\n",
       "      <th>1000</th>\n",
       "      <td>0</td>\n",
       "      <td>0</td>\n",
       "      <td>0</td>\n",
       "      <td>0</td>\n",
       "      <td>0</td>\n",
       "      <td>0</td>\n",
       "      <td>0</td>\n",
       "      <td>0</td>\n",
       "      <td>0</td>\n",
       "      <td>0</td>\n",
       "      <td>0</td>\n",
       "      <td>124</td>\n",
       "    </tr>\n",
       "    <tr>\n",
       "      <th>1001</th>\n",
       "      <td>0</td>\n",
       "      <td>0</td>\n",
       "      <td>0</td>\n",
       "      <td>0</td>\n",
       "      <td>0</td>\n",
       "      <td>0</td>\n",
       "      <td>0</td>\n",
       "      <td>182</td>\n",
       "      <td>315</td>\n",
       "      <td>393</td>\n",
       "      <td>426</td>\n",
       "      <td>412</td>\n",
       "    </tr>\n",
       "    <tr>\n",
       "      <th>1002</th>\n",
       "      <td>0</td>\n",
       "      <td>0</td>\n",
       "      <td>0</td>\n",
       "      <td>0</td>\n",
       "      <td>0</td>\n",
       "      <td>0</td>\n",
       "      <td>0</td>\n",
       "      <td>0</td>\n",
       "      <td>0</td>\n",
       "      <td>59</td>\n",
       "      <td>386</td>\n",
       "      <td>384</td>\n",
       "    </tr>\n",
       "    <tr>\n",
       "      <th>1003</th>\n",
       "      <td>0</td>\n",
       "      <td>0</td>\n",
       "      <td>0</td>\n",
       "      <td>0</td>\n",
       "      <td>0</td>\n",
       "      <td>0</td>\n",
       "      <td>0</td>\n",
       "      <td>0</td>\n",
       "      <td>0</td>\n",
       "      <td>0</td>\n",
       "      <td>0</td>\n",
       "      <td>1104</td>\n",
       "    </tr>\n",
       "    <tr>\n",
       "      <th>1004</th>\n",
       "      <td>0</td>\n",
       "      <td>0</td>\n",
       "      <td>0</td>\n",
       "      <td>0</td>\n",
       "      <td>193</td>\n",
       "      <td>275</td>\n",
       "      <td>381</td>\n",
       "      <td>354</td>\n",
       "      <td>301</td>\n",
       "      <td>365</td>\n",
       "      <td>476</td>\n",
       "      <td>427</td>\n",
       "    </tr>\n",
       "  </tbody>\n",
       "</table>\n",
       "</div>"
      ],
      "text/plain": [
       "month    Jan  Feb  Mar  Apr  May  Jun  Jul  Aug  Sep  Oct  Nov   Dec\n",
       "user_id                                                             \n",
       "1000       0    0    0    0    0    0    0    0    0    0    0   124\n",
       "1001       0    0    0    0    0    0    0  182  315  393  426   412\n",
       "1002       0    0    0    0    0    0    0    0    0   59  386   384\n",
       "1003       0    0    0    0    0    0    0    0    0    0    0  1104\n",
       "1004       0    0    0    0  193  275  381  354  301  365  476   427"
      ]
     },
     "execution_count": 24,
     "metadata": {},
     "output_type": "execute_result"
    }
   ],
   "source": [
    "# Calcula la cantidad de minutos usados por cada usuario al mes. Guarda el resultado.\n",
    "user_min = pd.pivot_table(call, index='user_id', columns='month', values='duration', aggfunc='sum', fill_value=0)\n",
    "user_min = user_min[mes]\n",
    "user_min.head()"
   ]
  },
  {
   "cell_type": "code",
   "execution_count": 25,
   "metadata": {
    "id": "CcQvNHn60q1G"
   },
   "outputs": [
    {
     "data": {
      "text/html": [
       "<div>\n",
       "<style scoped>\n",
       "    .dataframe tbody tr th:only-of-type {\n",
       "        vertical-align: middle;\n",
       "    }\n",
       "\n",
       "    .dataframe tbody tr th {\n",
       "        vertical-align: top;\n",
       "    }\n",
       "\n",
       "    .dataframe thead th {\n",
       "        text-align: right;\n",
       "    }\n",
       "</style>\n",
       "<table border=\"1\" class=\"dataframe\">\n",
       "  <thead>\n",
       "    <tr style=\"text-align: right;\">\n",
       "      <th>month</th>\n",
       "      <th>Jan</th>\n",
       "      <th>Feb</th>\n",
       "      <th>Mar</th>\n",
       "      <th>Apr</th>\n",
       "      <th>May</th>\n",
       "      <th>Jun</th>\n",
       "      <th>Jul</th>\n",
       "      <th>Aug</th>\n",
       "      <th>Sep</th>\n",
       "      <th>Oct</th>\n",
       "      <th>Nov</th>\n",
       "      <th>Dec</th>\n",
       "    </tr>\n",
       "    <tr>\n",
       "      <th>user_id</th>\n",
       "      <th></th>\n",
       "      <th></th>\n",
       "      <th></th>\n",
       "      <th></th>\n",
       "      <th></th>\n",
       "      <th></th>\n",
       "      <th></th>\n",
       "      <th></th>\n",
       "      <th></th>\n",
       "      <th></th>\n",
       "      <th></th>\n",
       "      <th></th>\n",
       "    </tr>\n",
       "  </thead>\n",
       "  <tbody>\n",
       "    <tr>\n",
       "      <th>1000</th>\n",
       "      <td>0</td>\n",
       "      <td>0</td>\n",
       "      <td>0</td>\n",
       "      <td>0</td>\n",
       "      <td>0</td>\n",
       "      <td>0</td>\n",
       "      <td>0</td>\n",
       "      <td>0</td>\n",
       "      <td>0</td>\n",
       "      <td>0</td>\n",
       "      <td>0</td>\n",
       "      <td>11</td>\n",
       "    </tr>\n",
       "    <tr>\n",
       "      <th>1001</th>\n",
       "      <td>0</td>\n",
       "      <td>0</td>\n",
       "      <td>0</td>\n",
       "      <td>0</td>\n",
       "      <td>0</td>\n",
       "      <td>0</td>\n",
       "      <td>0</td>\n",
       "      <td>30</td>\n",
       "      <td>44</td>\n",
       "      <td>53</td>\n",
       "      <td>36</td>\n",
       "      <td>44</td>\n",
       "    </tr>\n",
       "    <tr>\n",
       "      <th>1002</th>\n",
       "      <td>0</td>\n",
       "      <td>0</td>\n",
       "      <td>0</td>\n",
       "      <td>0</td>\n",
       "      <td>0</td>\n",
       "      <td>0</td>\n",
       "      <td>0</td>\n",
       "      <td>0</td>\n",
       "      <td>0</td>\n",
       "      <td>15</td>\n",
       "      <td>32</td>\n",
       "      <td>41</td>\n",
       "    </tr>\n",
       "  </tbody>\n",
       "</table>\n",
       "</div>"
      ],
      "text/plain": [
       "month    Jan  Feb  Mar  Apr  May  Jun  Jul  Aug  Sep  Oct  Nov  Dec\n",
       "user_id                                                            \n",
       "1000       0    0    0    0    0    0    0    0    0    0    0   11\n",
       "1001       0    0    0    0    0    0    0   30   44   53   36   44\n",
       "1002       0    0    0    0    0    0    0    0    0   15   32   41"
      ]
     },
     "execution_count": 25,
     "metadata": {},
     "output_type": "execute_result"
    }
   ],
   "source": [
    "# Calcula el número de mensajes enviados por cada usuario al mes. Guarda el resultado.\n",
    "user_msg = pd.pivot_table(msg, index='user_id', columns='month', values='id', aggfunc='count', fill_value=0)\n",
    "user_msg = user_msg[mes]\n",
    "user_msg.head(3)"
   ]
  },
  {
   "cell_type": "code",
   "execution_count": 26,
   "metadata": {
    "id": "H1AqN2eG0q1H"
   },
   "outputs": [
    {
     "data": {
      "text/html": [
       "<div>\n",
       "<style scoped>\n",
       "    .dataframe tbody tr th:only-of-type {\n",
       "        vertical-align: middle;\n",
       "    }\n",
       "\n",
       "    .dataframe tbody tr th {\n",
       "        vertical-align: top;\n",
       "    }\n",
       "\n",
       "    .dataframe thead th {\n",
       "        text-align: right;\n",
       "    }\n",
       "</style>\n",
       "<table border=\"1\" class=\"dataframe\">\n",
       "  <thead>\n",
       "    <tr style=\"text-align: right;\">\n",
       "      <th>month</th>\n",
       "      <th>Jan</th>\n",
       "      <th>Feb</th>\n",
       "      <th>Mar</th>\n",
       "      <th>Apr</th>\n",
       "      <th>May</th>\n",
       "      <th>Jun</th>\n",
       "      <th>Jul</th>\n",
       "      <th>Aug</th>\n",
       "      <th>Sep</th>\n",
       "      <th>Oct</th>\n",
       "      <th>Nov</th>\n",
       "      <th>Dec</th>\n",
       "    </tr>\n",
       "    <tr>\n",
       "      <th>user_id</th>\n",
       "      <th></th>\n",
       "      <th></th>\n",
       "      <th></th>\n",
       "      <th></th>\n",
       "      <th></th>\n",
       "      <th></th>\n",
       "      <th></th>\n",
       "      <th></th>\n",
       "      <th></th>\n",
       "      <th></th>\n",
       "      <th></th>\n",
       "      <th></th>\n",
       "    </tr>\n",
       "  </thead>\n",
       "  <tbody>\n",
       "    <tr>\n",
       "      <th>1000</th>\n",
       "      <td>0.0</td>\n",
       "      <td>0.0</td>\n",
       "      <td>0.0</td>\n",
       "      <td>0.0</td>\n",
       "      <td>0.00</td>\n",
       "      <td>0.00</td>\n",
       "      <td>0.00</td>\n",
       "      <td>0.00</td>\n",
       "      <td>0.00</td>\n",
       "      <td>0.00</td>\n",
       "      <td>0.00</td>\n",
       "      <td>1901.47</td>\n",
       "    </tr>\n",
       "    <tr>\n",
       "      <th>1001</th>\n",
       "      <td>0.0</td>\n",
       "      <td>0.0</td>\n",
       "      <td>0.0</td>\n",
       "      <td>0.0</td>\n",
       "      <td>0.00</td>\n",
       "      <td>0.00</td>\n",
       "      <td>0.00</td>\n",
       "      <td>6919.15</td>\n",
       "      <td>13314.82</td>\n",
       "      <td>22330.49</td>\n",
       "      <td>18504.30</td>\n",
       "      <td>19369.18</td>\n",
       "    </tr>\n",
       "    <tr>\n",
       "      <th>1002</th>\n",
       "      <td>0.0</td>\n",
       "      <td>0.0</td>\n",
       "      <td>0.0</td>\n",
       "      <td>0.0</td>\n",
       "      <td>0.00</td>\n",
       "      <td>0.00</td>\n",
       "      <td>0.00</td>\n",
       "      <td>0.00</td>\n",
       "      <td>0.00</td>\n",
       "      <td>6552.01</td>\n",
       "      <td>19345.08</td>\n",
       "      <td>14396.24</td>\n",
       "    </tr>\n",
       "    <tr>\n",
       "      <th>1003</th>\n",
       "      <td>0.0</td>\n",
       "      <td>0.0</td>\n",
       "      <td>0.0</td>\n",
       "      <td>0.0</td>\n",
       "      <td>0.00</td>\n",
       "      <td>0.00</td>\n",
       "      <td>0.00</td>\n",
       "      <td>0.00</td>\n",
       "      <td>0.00</td>\n",
       "      <td>0.00</td>\n",
       "      <td>0.00</td>\n",
       "      <td>27044.14</td>\n",
       "    </tr>\n",
       "    <tr>\n",
       "      <th>1004</th>\n",
       "      <td>0.0</td>\n",
       "      <td>0.0</td>\n",
       "      <td>0.0</td>\n",
       "      <td>0.0</td>\n",
       "      <td>6547.21</td>\n",
       "      <td>20672.82</td>\n",
       "      <td>24516.62</td>\n",
       "      <td>27981.74</td>\n",
       "      <td>18852.72</td>\n",
       "      <td>14541.63</td>\n",
       "      <td>21850.78</td>\n",
       "      <td>21389.29</td>\n",
       "    </tr>\n",
       "  </tbody>\n",
       "</table>\n",
       "</div>"
      ],
      "text/plain": [
       "month    Jan  Feb  Mar  Apr      May       Jun       Jul       Aug       Sep  \\\n",
       "user_id                                                                        \n",
       "1000     0.0  0.0  0.0  0.0     0.00      0.00      0.00      0.00      0.00   \n",
       "1001     0.0  0.0  0.0  0.0     0.00      0.00      0.00   6919.15  13314.82   \n",
       "1002     0.0  0.0  0.0  0.0     0.00      0.00      0.00      0.00      0.00   \n",
       "1003     0.0  0.0  0.0  0.0     0.00      0.00      0.00      0.00      0.00   \n",
       "1004     0.0  0.0  0.0  0.0  6547.21  20672.82  24516.62  27981.74  18852.72   \n",
       "\n",
       "month         Oct       Nov       Dec  \n",
       "user_id                                \n",
       "1000         0.00      0.00   1901.47  \n",
       "1001     22330.49  18504.30  19369.18  \n",
       "1002      6552.01  19345.08  14396.24  \n",
       "1003         0.00      0.00  27044.14  \n",
       "1004     14541.63  21850.78  21389.29  "
      ]
     },
     "execution_count": 26,
     "metadata": {},
     "output_type": "execute_result"
    }
   ],
   "source": [
    "# Calcula el volumen del tráfico de Internet usado por cada usuario al mes. Guarda el resultado.\n",
    "user_mb = pd.pivot_table(web, index='user_id', columns='month', values='mb_used', aggfunc='sum', fill_value=0)\n",
    "user_mb = user_mb[mes]\n",
    "user_mb.head()"
   ]
  },
  {
   "cell_type": "markdown",
   "metadata": {
    "id": "VDfYXnj80q1H"
   },
   "source": [
    "Los tablas de los datos agregados muestran que en enero casi no hay registros de consumo para muchos de los clientes en esta muestra y, la candidad de registros va aumentando conforme avanza el año mes a mes.<br><br>\n",
    "A continuacion agrego todos esas tablas en una sola."
   ]
  },
  {
   "cell_type": "code",
   "execution_count": 27,
   "metadata": {},
   "outputs": [],
   "source": [
    "user_use = user[['user_id', 'plan']]"
   ]
  },
  {
   "cell_type": "code",
   "execution_count": 28,
   "metadata": {
    "id": "FW99ykyf0q1H"
   },
   "outputs": [],
   "source": [
    "# Fusiona los datos de llamadas, minutos, mensajes e Internet con base en user_id y month\n",
    "user_use_cm = user_call.merge(user_min, left_index=True, right_index=True, how='outer', suffixes=['_call', '_min'])\n",
    "user_use_mw = user_msg.merge(user_mb, left_index=True, right_index=True, how='outer', suffixes=['_msg', '_web'])\n",
    "user_u = user_use_cm.merge(user_use_mw, left_index=True, right_index=True, how='outer', suffixes=False)\n",
    "user_use = user_use.merge(user_u, left_on='user_id', right_index=True, how='outer')\n",
    "del user_use_cm, user_use_mw, user_u"
   ]
  },
  {
   "cell_type": "markdown",
   "metadata": {},
   "source": [
    "Hay 10 Clientes que no tienen información de consumo en el año dado,<br>\n",
    "El clientte con el <b>ID 1129</b> por ejemplo"
   ]
  },
  {
   "cell_type": "code",
   "execution_count": 29,
   "metadata": {
    "id": "0dNOXHag0q1H"
   },
   "outputs": [],
   "source": [
    "# Añade la información de la tarifa\n",
    "user_use = user_use.merge(plan, left_on='plan', right_on='name', how='left', suffixes=False)\n",
    "user_use = user_use.drop(columns=['name'])\n",
    "for column in user_use.columns:\n",
    "    user_use[column] = user_use[column].fillna(0)"
   ]
  },
  {
   "cell_type": "code",
   "execution_count": 30,
   "metadata": {},
   "outputs": [
    {
     "data": {
      "text/html": [
       "<div>\n",
       "<style scoped>\n",
       "    .dataframe tbody tr th:only-of-type {\n",
       "        vertical-align: middle;\n",
       "    }\n",
       "\n",
       "    .dataframe tbody tr th {\n",
       "        vertical-align: top;\n",
       "    }\n",
       "\n",
       "    .dataframe thead th {\n",
       "        text-align: right;\n",
       "    }\n",
       "</style>\n",
       "<table border=\"1\" class=\"dataframe\">\n",
       "  <thead>\n",
       "    <tr style=\"text-align: right;\">\n",
       "      <th></th>\n",
       "      <th>user_id</th>\n",
       "      <th>plan</th>\n",
       "      <th>Jan_call</th>\n",
       "      <th>Feb_call</th>\n",
       "      <th>Mar_call</th>\n",
       "      <th>Apr_call</th>\n",
       "      <th>May_call</th>\n",
       "      <th>Jun_call</th>\n",
       "      <th>Jul_call</th>\n",
       "      <th>Aug_call</th>\n",
       "      <th>...</th>\n",
       "      <th>Oct_web</th>\n",
       "      <th>Nov_web</th>\n",
       "      <th>Dec_web</th>\n",
       "      <th>inc_msg</th>\n",
       "      <th>inc_mb</th>\n",
       "      <th>inc_min</th>\n",
       "      <th>plan_cost</th>\n",
       "      <th>extra_gb</th>\n",
       "      <th>extra_msg</th>\n",
       "      <th>extra_min</th>\n",
       "    </tr>\n",
       "  </thead>\n",
       "  <tbody>\n",
       "    <tr>\n",
       "      <th>0</th>\n",
       "      <td>1000</td>\n",
       "      <td>ultimate</td>\n",
       "      <td>0.0</td>\n",
       "      <td>0.0</td>\n",
       "      <td>0.0</td>\n",
       "      <td>0.0</td>\n",
       "      <td>0.0</td>\n",
       "      <td>0.0</td>\n",
       "      <td>0.0</td>\n",
       "      <td>0.0</td>\n",
       "      <td>...</td>\n",
       "      <td>0.00</td>\n",
       "      <td>0.00</td>\n",
       "      <td>1901.47</td>\n",
       "      <td>1000</td>\n",
       "      <td>30720</td>\n",
       "      <td>3000</td>\n",
       "      <td>70</td>\n",
       "      <td>7</td>\n",
       "      <td>0.01</td>\n",
       "      <td>0.01</td>\n",
       "    </tr>\n",
       "    <tr>\n",
       "      <th>1</th>\n",
       "      <td>1001</td>\n",
       "      <td>surf</td>\n",
       "      <td>0.0</td>\n",
       "      <td>0.0</td>\n",
       "      <td>0.0</td>\n",
       "      <td>0.0</td>\n",
       "      <td>0.0</td>\n",
       "      <td>0.0</td>\n",
       "      <td>0.0</td>\n",
       "      <td>27.0</td>\n",
       "      <td>...</td>\n",
       "      <td>22330.49</td>\n",
       "      <td>18504.30</td>\n",
       "      <td>19369.18</td>\n",
       "      <td>50</td>\n",
       "      <td>15360</td>\n",
       "      <td>500</td>\n",
       "      <td>20</td>\n",
       "      <td>10</td>\n",
       "      <td>0.03</td>\n",
       "      <td>0.03</td>\n",
       "    </tr>\n",
       "    <tr>\n",
       "      <th>2</th>\n",
       "      <td>1002</td>\n",
       "      <td>surf</td>\n",
       "      <td>0.0</td>\n",
       "      <td>0.0</td>\n",
       "      <td>0.0</td>\n",
       "      <td>0.0</td>\n",
       "      <td>0.0</td>\n",
       "      <td>0.0</td>\n",
       "      <td>0.0</td>\n",
       "      <td>0.0</td>\n",
       "      <td>...</td>\n",
       "      <td>6552.01</td>\n",
       "      <td>19345.08</td>\n",
       "      <td>14396.24</td>\n",
       "      <td>50</td>\n",
       "      <td>15360</td>\n",
       "      <td>500</td>\n",
       "      <td>20</td>\n",
       "      <td>10</td>\n",
       "      <td>0.03</td>\n",
       "      <td>0.03</td>\n",
       "    </tr>\n",
       "    <tr>\n",
       "      <th>3</th>\n",
       "      <td>1003</td>\n",
       "      <td>surf</td>\n",
       "      <td>0.0</td>\n",
       "      <td>0.0</td>\n",
       "      <td>0.0</td>\n",
       "      <td>0.0</td>\n",
       "      <td>0.0</td>\n",
       "      <td>0.0</td>\n",
       "      <td>0.0</td>\n",
       "      <td>0.0</td>\n",
       "      <td>...</td>\n",
       "      <td>0.00</td>\n",
       "      <td>0.00</td>\n",
       "      <td>27044.14</td>\n",
       "      <td>50</td>\n",
       "      <td>15360</td>\n",
       "      <td>500</td>\n",
       "      <td>20</td>\n",
       "      <td>10</td>\n",
       "      <td>0.03</td>\n",
       "      <td>0.03</td>\n",
       "    </tr>\n",
       "    <tr>\n",
       "      <th>4</th>\n",
       "      <td>1004</td>\n",
       "      <td>surf</td>\n",
       "      <td>0.0</td>\n",
       "      <td>0.0</td>\n",
       "      <td>0.0</td>\n",
       "      <td>0.0</td>\n",
       "      <td>21.0</td>\n",
       "      <td>44.0</td>\n",
       "      <td>49.0</td>\n",
       "      <td>49.0</td>\n",
       "      <td>...</td>\n",
       "      <td>14541.63</td>\n",
       "      <td>21850.78</td>\n",
       "      <td>21389.29</td>\n",
       "      <td>50</td>\n",
       "      <td>15360</td>\n",
       "      <td>500</td>\n",
       "      <td>20</td>\n",
       "      <td>10</td>\n",
       "      <td>0.03</td>\n",
       "      <td>0.03</td>\n",
       "    </tr>\n",
       "  </tbody>\n",
       "</table>\n",
       "<p>5 rows × 57 columns</p>\n",
       "</div>"
      ],
      "text/plain": [
       "   user_id      plan  Jan_call  Feb_call  Mar_call  Apr_call  May_call  \\\n",
       "0     1000  ultimate       0.0       0.0       0.0       0.0       0.0   \n",
       "1     1001      surf       0.0       0.0       0.0       0.0       0.0   \n",
       "2     1002      surf       0.0       0.0       0.0       0.0       0.0   \n",
       "3     1003      surf       0.0       0.0       0.0       0.0       0.0   \n",
       "4     1004      surf       0.0       0.0       0.0       0.0      21.0   \n",
       "\n",
       "   Jun_call  Jul_call  Aug_call  ...   Oct_web   Nov_web   Dec_web  inc_msg  \\\n",
       "0       0.0       0.0       0.0  ...      0.00      0.00   1901.47     1000   \n",
       "1       0.0       0.0      27.0  ...  22330.49  18504.30  19369.18       50   \n",
       "2       0.0       0.0       0.0  ...   6552.01  19345.08  14396.24       50   \n",
       "3       0.0       0.0       0.0  ...      0.00      0.00  27044.14       50   \n",
       "4      44.0      49.0      49.0  ...  14541.63  21850.78  21389.29       50   \n",
       "\n",
       "   inc_mb  inc_min  plan_cost  extra_gb  extra_msg  extra_min  \n",
       "0   30720     3000         70         7       0.01       0.01  \n",
       "1   15360      500         20        10       0.03       0.03  \n",
       "2   15360      500         20        10       0.03       0.03  \n",
       "3   15360      500         20        10       0.03       0.03  \n",
       "4   15360      500         20        10       0.03       0.03  \n",
       "\n",
       "[5 rows x 57 columns]"
      ]
     },
     "execution_count": 30,
     "metadata": {},
     "output_type": "execute_result"
    }
   ],
   "source": [
    "user_use.head()"
   ]
  },
  {
   "cell_type": "markdown",
   "metadata": {
    "id": "1IwGo4wg0q1I"
   },
   "source": [
    "Con todos los datos en una sola tabla es más sencillo calcular las tarifas mensuales de cada usuario usando la función apply()"
   ]
  },
  {
   "cell_type": "code",
   "execution_count": 31,
   "metadata": {
    "id": "5FGCf_c60q1I"
   },
   "outputs": [],
   "source": [
    "# Definición de la función que ayuda a calcular el ingreso\n",
    "month = mes[0] # Variable que define el mes para el cual se hace el cálculo\n",
    "def calc_income(row): # Recibe una fila como argumento\n",
    "    # OBTENR LOS DATOS DE CONSUMO EN EL MES\n",
    "    # Obtiene el costo del plan segun la fila\n",
    "    plan_cost = row['plan_cost']\n",
    "    # Obtiene los minutos en llamada según el mes ej. mes[0] es 'Jan' ---> 'Jan' + '_min' = 'Jan_min'\n",
    "    mins = row[month + '_min']\n",
    "    # Obtiene los mensajes mandados en el mes dado\n",
    "    msg = row[month + '_msg']\n",
    "    # Obtiene los Megabytes consumidos en el mes dado y los convierte a Gigabytes redondeando los decimales hacia arriba\n",
    "    web = np.ceil(row[month + '_web'] / 1024)\n",
    "    \n",
    "    # OBTENER LOS DATOS DE CONSUMO QUE EXEDEN EL PLAN\n",
    "    # Fórmula ---> (Consumido - Incluído) * (Consumido >= Incluído)\n",
    "    # Obtiene los minutos extra de consumo\n",
    "    x_mins = (mins - row['inc_min']) * (mins >= row['inc_min'])\n",
    "    # Obtiene los mensajes extra de consumo\n",
    "    x_msg = (msg - row['inc_msg']) * (msg >= row['inc_msg'])\n",
    "    # Obtiene los Gigabytes extra de consumo\n",
    "    x_web = (web - row['inc_mb']/1024) * (web >= row['inc_mb']/1024)\n",
    "    \n",
    "    # Calcula la Tarifa por mes según el plan y el consumo\n",
    "    if mins + msg + web == 0:\n",
    "        income = 0 # Cuando no hay datos de consumo la tarifa será 0\n",
    "    else:\n",
    "        income = plan_cost + (x_mins * row['extra_min']) + (x_msg * row['extra_msg']) + (x_web * row['extra_gb'])\n",
    "    \n",
    "    return income"
   ]
  },
  {
   "cell_type": "code",
   "execution_count": 32,
   "metadata": {},
   "outputs": [],
   "source": [
    "# Calcula el ingreso mensual para cada usuario\n",
    "for i in range(12): # 12 iteraciones de 0 a 11\n",
    "    # Cambia el mes en cada iteración\n",
    "    month = mes[i]\n",
    "    # Calcula el ingreso para cada usuario segun el mes en la variable month\n",
    "    user_use[month] = user_use.apply(calc_income, axis=1) "
   ]
  },
  {
   "cell_type": "code",
   "execution_count": 33,
   "metadata": {},
   "outputs": [
    {
     "data": {
      "text/html": [
       "<div>\n",
       "<style scoped>\n",
       "    .dataframe tbody tr th:only-of-type {\n",
       "        vertical-align: middle;\n",
       "    }\n",
       "\n",
       "    .dataframe tbody tr th {\n",
       "        vertical-align: top;\n",
       "    }\n",
       "\n",
       "    .dataframe thead th {\n",
       "        text-align: right;\n",
       "    }\n",
       "</style>\n",
       "<table border=\"1\" class=\"dataframe\">\n",
       "  <thead>\n",
       "    <tr style=\"text-align: right;\">\n",
       "      <th></th>\n",
       "      <th>Jan</th>\n",
       "      <th>Feb</th>\n",
       "      <th>Mar</th>\n",
       "      <th>Apr</th>\n",
       "      <th>May</th>\n",
       "      <th>Jun</th>\n",
       "      <th>Jul</th>\n",
       "      <th>Aug</th>\n",
       "      <th>Sep</th>\n",
       "      <th>Oct</th>\n",
       "      <th>Nov</th>\n",
       "      <th>Dec</th>\n",
       "    </tr>\n",
       "  </thead>\n",
       "  <tbody>\n",
       "    <tr>\n",
       "      <th>0</th>\n",
       "      <td>0.0</td>\n",
       "      <td>0.0</td>\n",
       "      <td>0.0</td>\n",
       "      <td>0.0</td>\n",
       "      <td>0.0</td>\n",
       "      <td>0.0</td>\n",
       "      <td>0.0</td>\n",
       "      <td>0.0</td>\n",
       "      <td>0.0</td>\n",
       "      <td>0.00</td>\n",
       "      <td>0.0</td>\n",
       "      <td>70.00</td>\n",
       "    </tr>\n",
       "    <tr>\n",
       "      <th>1</th>\n",
       "      <td>0.0</td>\n",
       "      <td>0.0</td>\n",
       "      <td>0.0</td>\n",
       "      <td>0.0</td>\n",
       "      <td>0.0</td>\n",
       "      <td>0.0</td>\n",
       "      <td>0.0</td>\n",
       "      <td>20.0</td>\n",
       "      <td>20.0</td>\n",
       "      <td>90.09</td>\n",
       "      <td>60.0</td>\n",
       "      <td>60.00</td>\n",
       "    </tr>\n",
       "    <tr>\n",
       "      <th>2</th>\n",
       "      <td>0.0</td>\n",
       "      <td>0.0</td>\n",
       "      <td>0.0</td>\n",
       "      <td>0.0</td>\n",
       "      <td>0.0</td>\n",
       "      <td>0.0</td>\n",
       "      <td>0.0</td>\n",
       "      <td>0.0</td>\n",
       "      <td>0.0</td>\n",
       "      <td>20.00</td>\n",
       "      <td>60.0</td>\n",
       "      <td>20.00</td>\n",
       "    </tr>\n",
       "    <tr>\n",
       "      <th>3</th>\n",
       "      <td>0.0</td>\n",
       "      <td>0.0</td>\n",
       "      <td>0.0</td>\n",
       "      <td>0.0</td>\n",
       "      <td>0.0</td>\n",
       "      <td>0.0</td>\n",
       "      <td>0.0</td>\n",
       "      <td>0.0</td>\n",
       "      <td>0.0</td>\n",
       "      <td>0.00</td>\n",
       "      <td>0.0</td>\n",
       "      <td>158.12</td>\n",
       "    </tr>\n",
       "    <tr>\n",
       "      <th>4</th>\n",
       "      <td>0.0</td>\n",
       "      <td>0.0</td>\n",
       "      <td>0.0</td>\n",
       "      <td>0.0</td>\n",
       "      <td>20.0</td>\n",
       "      <td>80.0</td>\n",
       "      <td>110.0</td>\n",
       "      <td>150.0</td>\n",
       "      <td>60.0</td>\n",
       "      <td>20.00</td>\n",
       "      <td>90.0</td>\n",
       "      <td>80.00</td>\n",
       "    </tr>\n",
       "  </tbody>\n",
       "</table>\n",
       "</div>"
      ],
      "text/plain": [
       "   Jan  Feb  Mar  Apr   May   Jun    Jul    Aug   Sep    Oct   Nov     Dec\n",
       "0  0.0  0.0  0.0  0.0   0.0   0.0    0.0    0.0   0.0   0.00   0.0   70.00\n",
       "1  0.0  0.0  0.0  0.0   0.0   0.0    0.0   20.0  20.0  90.09  60.0   60.00\n",
       "2  0.0  0.0  0.0  0.0   0.0   0.0    0.0    0.0   0.0  20.00  60.0   20.00\n",
       "3  0.0  0.0  0.0  0.0   0.0   0.0    0.0    0.0   0.0   0.00   0.0  158.12\n",
       "4  0.0  0.0  0.0  0.0  20.0  80.0  110.0  150.0  60.0  20.00  90.0   80.00"
      ]
     },
     "execution_count": 33,
     "metadata": {},
     "output_type": "execute_result"
    }
   ],
   "source": [
    "# Muestra de las tarifas mensuales por usuario\n",
    "user_income = user_use.loc[:, mes[0]:]\n",
    "user_income.head()"
   ]
  },
  {
   "cell_type": "markdown",
   "metadata": {
    "id": "-jtyHzJb0q1I"
   },
   "source": [
    "# Estudia el comportamiento de usuario"
   ]
  },
  {
   "cell_type": "markdown",
   "metadata": {},
   "source": [
    "## Cantidad de usuarios por plan"
   ]
  },
  {
   "cell_type": "code",
   "execution_count": 34,
   "metadata": {},
   "outputs": [
    {
     "data": {
      "image/png": "[encoded data removed]",
      "text/plain": [
       "<Figure size 640x480 with 1 Axes>"
      ]
     },
     "metadata": {},
     "output_type": "display_data"
    }
   ],
   "source": [
    "users_by_plan = user.groupby('plan')['user_id'].count()\n",
    "users_by_plan.plot(kind='bar', rot=0)\n",
    "plt.title('There is 2 time more Surf subscribers')\n",
    "plt.xlabel('Plan')\n",
    "plt.ylabel('Users')\n",
    "plt.grid(True, alpha=0.1)\n",
    "plt.show()"
   ]
  },
  {
   "cell_type": "markdown",
   "metadata": {},
   "source": [
    "Como hay dos veces mas usuarios en Surf que Ultimate, Naturalmente, puede haber doble de mensajes y consumo en general para los usuarios de Surf (cuando no se trabaje con promedios)."
   ]
  },
  {
   "cell_type": "markdown",
   "metadata": {
    "id": "vtW4CJEe0q1J"
   },
   "source": [
    "### Llamadas"
   ]
  },
  {
   "cell_type": "code",
   "execution_count": 35,
   "metadata": {
    "scrolled": true
   },
   "outputs": [
    {
     "data": {
      "text/html": [
       "<div>\n",
       "<style scoped>\n",
       "    .dataframe tbody tr th:only-of-type {\n",
       "        vertical-align: middle;\n",
       "    }\n",
       "\n",
       "    .dataframe tbody tr th {\n",
       "        vertical-align: top;\n",
       "    }\n",
       "\n",
       "    .dataframe thead th {\n",
       "        text-align: right;\n",
       "    }\n",
       "</style>\n",
       "<table border=\"1\" class=\"dataframe\">\n",
       "  <thead>\n",
       "    <tr style=\"text-align: right;\">\n",
       "      <th></th>\n",
       "      <th>id</th>\n",
       "      <th>user_id</th>\n",
       "      <th>call_date</th>\n",
       "      <th>duration</th>\n",
       "      <th>month</th>\n",
       "      <th>plan</th>\n",
       "    </tr>\n",
       "  </thead>\n",
       "  <tbody>\n",
       "    <tr>\n",
       "      <th>123445</th>\n",
       "      <td>1435_75</td>\n",
       "      <td>1435</td>\n",
       "      <td>2018-12-01</td>\n",
       "      <td>1</td>\n",
       "      <td>Dec</td>\n",
       "      <td>ultimate</td>\n",
       "    </tr>\n",
       "    <tr>\n",
       "      <th>107279</th>\n",
       "      <td>1381_16</td>\n",
       "      <td>1381</td>\n",
       "      <td>2018-12-06</td>\n",
       "      <td>3</td>\n",
       "      <td>Dec</td>\n",
       "      <td>surf</td>\n",
       "    </tr>\n",
       "    <tr>\n",
       "      <th>16621</th>\n",
       "      <td>1064_479</td>\n",
       "      <td>1064</td>\n",
       "      <td>2018-08-25</td>\n",
       "      <td>0</td>\n",
       "      <td>Aug</td>\n",
       "      <td>surf</td>\n",
       "    </tr>\n",
       "    <tr>\n",
       "      <th>75658</th>\n",
       "      <td>1268_162</td>\n",
       "      <td>1268</td>\n",
       "      <td>2018-04-01</td>\n",
       "      <td>18</td>\n",
       "      <td>Apr</td>\n",
       "      <td>surf</td>\n",
       "    </tr>\n",
       "    <tr>\n",
       "      <th>44235</th>\n",
       "      <td>1160_251</td>\n",
       "      <td>1160</td>\n",
       "      <td>2018-06-22</td>\n",
       "      <td>14</td>\n",
       "      <td>Jun</td>\n",
       "      <td>surf</td>\n",
       "    </tr>\n",
       "  </tbody>\n",
       "</table>\n",
       "</div>"
      ],
      "text/plain": [
       "              id  user_id  call_date  duration month      plan\n",
       "123445   1435_75     1435 2018-12-01         1   Dec  ultimate\n",
       "107279   1381_16     1381 2018-12-06         3   Dec      surf\n",
       "16621   1064_479     1064 2018-08-25         0   Aug      surf\n",
       "75658   1268_162     1268 2018-04-01        18   Apr      surf\n",
       "44235   1160_251     1160 2018-06-22        14   Jun      surf"
      ]
     },
     "execution_count": 35,
     "metadata": {},
     "output_type": "execute_result"
    }
   ],
   "source": [
    "planes = user[['user_id','plan']]\n",
    "user_c = call.merge(planes, on='user_id', how='left')\n",
    "user_c.sample(5)"
   ]
  },
  {
   "cell_type": "code",
   "execution_count": 36,
   "metadata": {},
   "outputs": [
    {
     "data": {
      "text/html": [
       "<div>\n",
       "<style scoped>\n",
       "    .dataframe tbody tr th:only-of-type {\n",
       "        vertical-align: middle;\n",
       "    }\n",
       "\n",
       "    .dataframe tbody tr th {\n",
       "        vertical-align: top;\n",
       "    }\n",
       "\n",
       "    .dataframe thead th {\n",
       "        text-align: right;\n",
       "    }\n",
       "</style>\n",
       "<table border=\"1\" class=\"dataframe\">\n",
       "  <thead>\n",
       "    <tr style=\"text-align: right;\">\n",
       "      <th></th>\n",
       "      <th>surf</th>\n",
       "      <th>ultimate</th>\n",
       "    </tr>\n",
       "  </thead>\n",
       "  <tbody>\n",
       "    <tr>\n",
       "      <th>count</th>\n",
       "      <td>75877.000000</td>\n",
       "      <td>35024.000000</td>\n",
       "    </tr>\n",
       "    <tr>\n",
       "      <th>mean</th>\n",
       "      <td>8.888372</td>\n",
       "      <td>8.848904</td>\n",
       "    </tr>\n",
       "    <tr>\n",
       "      <th>std</th>\n",
       "      <td>5.360272</td>\n",
       "      <td>5.344112</td>\n",
       "    </tr>\n",
       "    <tr>\n",
       "      <th>min</th>\n",
       "      <td>1.000000</td>\n",
       "      <td>1.000000</td>\n",
       "    </tr>\n",
       "    <tr>\n",
       "      <th>25%</th>\n",
       "      <td>5.000000</td>\n",
       "      <td>5.000000</td>\n",
       "    </tr>\n",
       "    <tr>\n",
       "      <th>50%</th>\n",
       "      <td>8.000000</td>\n",
       "      <td>8.000000</td>\n",
       "    </tr>\n",
       "    <tr>\n",
       "      <th>75%</th>\n",
       "      <td>12.000000</td>\n",
       "      <td>12.000000</td>\n",
       "    </tr>\n",
       "    <tr>\n",
       "      <th>max</th>\n",
       "      <td>38.000000</td>\n",
       "      <td>37.000000</td>\n",
       "    </tr>\n",
       "  </tbody>\n",
       "</table>\n",
       "</div>"
      ],
      "text/plain": [
       "               surf      ultimate\n",
       "count  75877.000000  35024.000000\n",
       "mean       8.888372      8.848904\n",
       "std        5.360272      5.344112\n",
       "min        1.000000      1.000000\n",
       "25%        5.000000      5.000000\n",
       "50%        8.000000      8.000000\n",
       "75%       12.000000     12.000000\n",
       "max       38.000000     37.000000"
      ]
     },
     "execution_count": 36,
     "metadata": {},
     "output_type": "execute_result"
    }
   ],
   "source": [
    "# Reemplacé todos los 0.0 con NaN para que no sean tomados en cuenta en los valores estadísticos descriptivos\n",
    "# esto considerando que las llamadas que duraron 0.0 min son llamadas no contestadas,\n",
    "# además teniendo en cuenta que nos interesa la duración de las llamadas\n",
    "user_c = user_c.replace(0.0, np.NaN)\n",
    "\n",
    "duration_surf = user_c[user_c['plan'] == 'surf']['duration']\n",
    "duration_ultimate = user_c[user_c['plan'] == 'ultimate']['duration']\n",
    "duration_by_plan = pd.DataFrame({'surf':duration_surf, 'ultimate':duration_ultimate})\n",
    "duration_by_plan.describe()"
   ]
  },
  {
   "cell_type": "code",
   "execution_count": 37,
   "metadata": {},
   "outputs": [
    {
     "data": {
      "image/png": "[encoded data removed]",
      "text/plain": [
       "<Figure size 640x480 with 1 Axes>"
      ]
     },
     "metadata": {},
     "output_type": "display_data"
    }
   ],
   "source": [
    "duration_by_plan.plot(kind='box')\n",
    "plt.title('Duration is practicaly the same for both plans')\n",
    "plt.xlabel('Plan')\n",
    "plt.ylabel('Duration (min)')\n",
    "plt.grid(True, alpha=0.1)\n",
    "plt.show()"
   ]
  },
  {
   "cell_type": "markdown",
   "metadata": {},
   "source": [
    "La diferencia más grande a simple vista en loa duración de las llamadas para ambos planes son los valores atípicos<br>\n",
    "La media es 8.8 min para cada plan y la desviación estandar es 5.3 min para ambos planes también, por lo que en esencia son lo mismo, la duración para promedio de llamadas en ambos planes es la misma."
   ]
  },
  {
   "cell_type": "code",
   "execution_count": 38,
   "metadata": {
    "id": "Jf5v5--k0q1J"
   },
   "outputs": [],
   "source": [
    "# Compara la duración promedio de llamadas por cada plan y por cada mes. Traza un gráfico de barras para visualizarla.\n",
    "mean_duration_by_plan = pd.pivot_table(user_c,\n",
    "                                      index='month', columns='plan', values='duration', aggfunc='mean')\n",
    "mean_duration_by_plan = mean_duration_by_plan.reindex(mes)"
   ]
  },
  {
   "cell_type": "code",
   "execution_count": 39,
   "metadata": {},
   "outputs": [
    {
     "data": {
      "text/plain": [
       "<matplotlib.legend.Legend at 0x7ff74d516f40>"
      ]
     },
     "execution_count": 39,
     "metadata": {},
     "output_type": "execute_result"
    },
    {
     "data": {
      "image/png": "[encoded data removed]",
      "text/plain": [
       "<Figure size 640x480 with 1 Axes>"
      ]
     },
     "metadata": {},
     "output_type": "display_data"
    }
   ],
   "source": [
    "mean_duration_by_plan.plot(kind='bar', title='Calls average duration is around 7 minutes', rot=0)\n",
    "plt.xlabel('Month')\n",
    "plt.ylabel('Call average duration (min)')\n",
    "plt.grid(True, alpha=0.25)\n",
    "plt.legend(loc='lower center')"
   ]
  },
  {
   "cell_type": "code",
   "execution_count": 40,
   "metadata": {
    "id": "QoLqW1S_0q1J"
   },
   "outputs": [
    {
     "data": {
      "image/png": "[encoded data removed]",
      "text/plain": [
       "<Figure size 640x480 with 1 Axes>"
      ]
     },
     "metadata": {},
     "output_type": "display_data"
    }
   ],
   "source": [
    "# Compara el número de minutos mensuales que necesitan los usuarios de cada plan. Traza un histograma.\n",
    "call_surf = user_c[user_c['plan'] == 'surf']\n",
    "call_ulti = user_c[user_c['plan'] == 'ultimate']\n",
    "\n",
    "call_surf['duration'].plot(kind='hist', bins=35, rot=0)\n",
    "call_ulti['duration'].plot(kind='hist', bins=35, rot=0)\n",
    "plt.title('Surf users use twice as double')\n",
    "plt.xlabel('Cal duration')\n",
    "plt.ylabel('Frequency of calls')\n",
    "plt.grid(True, alpha=0.25)\n",
    "plt.legend(['surf', 'ultimate'],loc='upper right')\n",
    "plt.show()"
   ]
  },
  {
   "cell_type": "markdown",
   "metadata": {
    "id": "bLS9T8OH0q1K"
   },
   "source": [
    "Ahora haré el mismo cálculo para los planes pero por mes"
   ]
  },
  {
   "cell_type": "code",
   "execution_count": 41,
   "metadata": {
    "id": "oSndbAnt0q1K"
   },
   "outputs": [
    {
     "data": {
      "text/html": [
       "<div>\n",
       "<style scoped>\n",
       "    .dataframe tbody tr th:only-of-type {\n",
       "        vertical-align: middle;\n",
       "    }\n",
       "\n",
       "    .dataframe tbody tr th {\n",
       "        vertical-align: top;\n",
       "    }\n",
       "\n",
       "    .dataframe thead th {\n",
       "        text-align: right;\n",
       "    }\n",
       "</style>\n",
       "<table border=\"1\" class=\"dataframe\">\n",
       "  <thead>\n",
       "    <tr style=\"text-align: right;\">\n",
       "      <th></th>\n",
       "      <th>mean_surf</th>\n",
       "      <th>var_surf</th>\n",
       "      <th>std_surf</th>\n",
       "      <th>mean_ulti</th>\n",
       "      <th>var_ulti</th>\n",
       "      <th>std_ulti</th>\n",
       "    </tr>\n",
       "    <tr>\n",
       "      <th>month</th>\n",
       "      <th></th>\n",
       "      <th></th>\n",
       "      <th></th>\n",
       "      <th></th>\n",
       "      <th></th>\n",
       "      <th></th>\n",
       "    </tr>\n",
       "  </thead>\n",
       "  <tbody>\n",
       "    <tr>\n",
       "      <th>Jan</th>\n",
       "      <td>8.458333</td>\n",
       "      <td>21.785461</td>\n",
       "      <td>4.667490</td>\n",
       "      <td>9.105882</td>\n",
       "      <td>28.786275</td>\n",
       "      <td>5.365284</td>\n",
       "    </tr>\n",
       "    <tr>\n",
       "      <th>Feb</th>\n",
       "      <td>8.969799</td>\n",
       "      <td>29.712890</td>\n",
       "      <td>5.450953</td>\n",
       "      <td>8.525680</td>\n",
       "      <td>28.910702</td>\n",
       "      <td>5.376867</td>\n",
       "    </tr>\n",
       "    <tr>\n",
       "      <th>Mar</th>\n",
       "      <td>8.714122</td>\n",
       "      <td>27.254961</td>\n",
       "      <td>5.220628</td>\n",
       "      <td>8.316629</td>\n",
       "      <td>28.668924</td>\n",
       "      <td>5.354337</td>\n",
       "    </tr>\n",
       "    <tr>\n",
       "      <th>Apr</th>\n",
       "      <td>8.854912</td>\n",
       "      <td>28.061600</td>\n",
       "      <td>5.297320</td>\n",
       "      <td>8.626829</td>\n",
       "      <td>27.362405</td>\n",
       "      <td>5.230909</td>\n",
       "    </tr>\n",
       "    <tr>\n",
       "      <th>May</th>\n",
       "      <td>8.933798</td>\n",
       "      <td>29.059804</td>\n",
       "      <td>5.390715</td>\n",
       "      <td>8.837959</td>\n",
       "      <td>29.000750</td>\n",
       "      <td>5.385234</td>\n",
       "    </tr>\n",
       "    <tr>\n",
       "      <th>Jun</th>\n",
       "      <td>8.948877</td>\n",
       "      <td>29.830291</td>\n",
       "      <td>5.461711</td>\n",
       "      <td>8.801111</td>\n",
       "      <td>28.260423</td>\n",
       "      <td>5.316053</td>\n",
       "    </tr>\n",
       "    <tr>\n",
       "      <th>Jul</th>\n",
       "      <td>8.817490</td>\n",
       "      <td>28.134647</td>\n",
       "      <td>5.304210</td>\n",
       "      <td>9.018253</td>\n",
       "      <td>28.884378</td>\n",
       "      <td>5.374419</td>\n",
       "    </tr>\n",
       "    <tr>\n",
       "      <th>Aug</th>\n",
       "      <td>8.882086</td>\n",
       "      <td>28.368766</td>\n",
       "      <td>5.326234</td>\n",
       "      <td>8.779930</td>\n",
       "      <td>28.408262</td>\n",
       "      <td>5.329940</td>\n",
       "    </tr>\n",
       "    <tr>\n",
       "      <th>Sep</th>\n",
       "      <td>8.859978</td>\n",
       "      <td>29.431268</td>\n",
       "      <td>5.425059</td>\n",
       "      <td>8.941540</td>\n",
       "      <td>28.293705</td>\n",
       "      <td>5.319183</td>\n",
       "    </tr>\n",
       "    <tr>\n",
       "      <th>Oct</th>\n",
       "      <td>8.846174</td>\n",
       "      <td>28.382433</td>\n",
       "      <td>5.327517</td>\n",
       "      <td>8.834689</td>\n",
       "      <td>28.925876</td>\n",
       "      <td>5.378278</td>\n",
       "    </tr>\n",
       "    <tr>\n",
       "      <th>Nov</th>\n",
       "      <td>8.857745</td>\n",
       "      <td>28.338384</td>\n",
       "      <td>5.323381</td>\n",
       "      <td>8.912358</td>\n",
       "      <td>29.214768</td>\n",
       "      <td>5.405069</td>\n",
       "    </tr>\n",
       "    <tr>\n",
       "      <th>Dec</th>\n",
       "      <td>8.972786</td>\n",
       "      <td>29.083287</td>\n",
       "      <td>5.392892</td>\n",
       "      <td>8.805284</td>\n",
       "      <td>27.965257</td>\n",
       "      <td>5.288219</td>\n",
       "    </tr>\n",
       "  </tbody>\n",
       "</table>\n",
       "</div>"
      ],
      "text/plain": [
       "       mean_surf   var_surf  std_surf  mean_ulti   var_ulti  std_ulti\n",
       "month                                                                \n",
       "Jan     8.458333  21.785461  4.667490   9.105882  28.786275  5.365284\n",
       "Feb     8.969799  29.712890  5.450953   8.525680  28.910702  5.376867\n",
       "Mar     8.714122  27.254961  5.220628   8.316629  28.668924  5.354337\n",
       "Apr     8.854912  28.061600  5.297320   8.626829  27.362405  5.230909\n",
       "May     8.933798  29.059804  5.390715   8.837959  29.000750  5.385234\n",
       "Jun     8.948877  29.830291  5.461711   8.801111  28.260423  5.316053\n",
       "Jul     8.817490  28.134647  5.304210   9.018253  28.884378  5.374419\n",
       "Aug     8.882086  28.368766  5.326234   8.779930  28.408262  5.329940\n",
       "Sep     8.859978  29.431268  5.425059   8.941540  28.293705  5.319183\n",
       "Oct     8.846174  28.382433  5.327517   8.834689  28.925876  5.378278\n",
       "Nov     8.857745  28.338384  5.323381   8.912358  29.214768  5.405069\n",
       "Dec     8.972786  29.083287  5.392892   8.805284  27.965257  5.288219"
      ]
     },
     "execution_count": 41,
     "metadata": {},
     "output_type": "execute_result"
    }
   ],
   "source": [
    "# Calcula la media y la varianza de la duración mensual de llamadas.\n",
    "# duration_mean_variance_standardev\n",
    "duration_surf = user_c[user_c['plan'] == 'surf']\n",
    "duration_mvs_surf = duration_surf.groupby('month')['duration'].agg(['mean', 'var'])\n",
    "duration_mvs_surf['std'] = duration_mvs_surf['var'].apply(np.sqrt)\n",
    "\n",
    "duration_ulti = user_c[user_c['plan'] == 'ultimate']\n",
    "duration_mvs_ulti = duration_ulti.groupby('month')['duration'].agg(['mean', 'var'])\n",
    "duration_mvs_ulti['std'] = duration_mvs_ulti['var'].apply(np.sqrt)\n",
    "\n",
    "duration_mvs = duration_mvs_surf.merge(duration_mvs_ulti, left_index=True, right_index=True, suffixes=['_surf', '_ulti'])\n",
    "duration_mvs = duration_mvs.reindex(mes)\n",
    "duration_mvs"
   ]
  },
  {
   "cell_type": "markdown",
   "metadata": {},
   "source": [
    "Aun haciendo el calculo por mes, las duraciones promedio de las llamadas en cada plan siguen estando muy cerca de 8.8."
   ]
  },
  {
   "cell_type": "code",
   "execution_count": 42,
   "metadata": {
    "id": "nZzoRUKc0q1K"
   },
   "outputs": [
    {
     "data": {
      "image/png": "[encoded data removed]",
      "text/plain": [
       "<Figure size 640x480 with 1 Axes>"
      ]
     },
     "metadata": {},
     "output_type": "display_data"
    },
    {
     "data": {
      "image/png": "[encoded data removed]",
      "text/plain": [
       "<Figure size 640x480 with 1 Axes>"
      ]
     },
     "metadata": {},
     "output_type": "display_data"
    }
   ],
   "source": [
    "# Traza un diagrama de caja para visualizar la distribución de la duración mensual de llamadas\n",
    "duration_mvs[['mean_surf', 'mean_ulti']].plot(kind='box').set_xticklabels(['Surf', 'Ultimate'])\n",
    "plt.title('Difference in Average duration is minimal')\n",
    "plt.xlabel('Plan')\n",
    "plt.ylabel('Duration (min)')\n",
    "# plt.ylim([0, 7.4]) with this line the graph is barely noticeable\n",
    "plt.grid(True, alpha=0.1)\n",
    "plt.show()\n",
    "\n",
    "duration_mvs[['var_surf', 'var_ulti']].plot(kind='box').set_xticklabels(['Surf', 'Ultimate'])\n",
    "plt.title('Variance in both plans is pretty much the same')\n",
    "plt.xlabel('Plan')\n",
    "plt.ylabel('Variance (min)')\n",
    "plt.grid(True, alpha=0.1)\n",
    "plt.show()\n",
    "\n",
    "# la grafica para std luce igual que para var, puesto que std esta basado en var"
   ]
  },
  {
   "cell_type": "markdown",
   "metadata": {},
   "source": [
    "- Tanto en <b>Surf</b> como en <b>ultimate</b> la duracion promedio y la desviación estándar es la misma, 8.8 y 5.3 respectivamente, con estos datos es posible decir que, al menos la duracion promedio para las llamadas en ambbos planes es la misma.\n",
    "- Estos datos tampoco varían mes a mes por lo que podemos asumir que constantemente la duración promedio de las llamadas ha sido de 8.8 min."
   ]
  },
  {
   "cell_type": "markdown",
   "metadata": {
    "id": "8idKy8Wh0q1L"
   },
   "source": [
    "### Mensajes"
   ]
  },
  {
   "cell_type": "code",
   "execution_count": 43,
   "metadata": {
    "id": "NXLxiTit0q1L"
   },
   "outputs": [
    {
     "data": {
      "text/html": [
       "<div>\n",
       "<style scoped>\n",
       "    .dataframe tbody tr th:only-of-type {\n",
       "        vertical-align: middle;\n",
       "    }\n",
       "\n",
       "    .dataframe tbody tr th {\n",
       "        vertical-align: top;\n",
       "    }\n",
       "\n",
       "    .dataframe thead th {\n",
       "        text-align: right;\n",
       "    }\n",
       "</style>\n",
       "<table border=\"1\" class=\"dataframe\">\n",
       "  <thead>\n",
       "    <tr style=\"text-align: right;\">\n",
       "      <th>plan</th>\n",
       "      <th>surf</th>\n",
       "      <th>ultimate</th>\n",
       "    </tr>\n",
       "  </thead>\n",
       "  <tbody>\n",
       "    <tr>\n",
       "      <th>count</th>\n",
       "      <td>12.000000</td>\n",
       "      <td>12.000000</td>\n",
       "    </tr>\n",
       "    <tr>\n",
       "      <th>mean</th>\n",
       "      <td>33.309767</td>\n",
       "      <td>39.472325</td>\n",
       "    </tr>\n",
       "    <tr>\n",
       "      <th>std</th>\n",
       "      <td>9.179563</td>\n",
       "      <td>10.327408</td>\n",
       "    </tr>\n",
       "    <tr>\n",
       "      <th>min</th>\n",
       "      <td>21.000000</td>\n",
       "      <td>20.666667</td>\n",
       "    </tr>\n",
       "    <tr>\n",
       "      <th>25%</th>\n",
       "      <td>23.609375</td>\n",
       "      <td>33.270089</td>\n",
       "    </tr>\n",
       "    <tr>\n",
       "      <th>50%</th>\n",
       "      <td>34.780747</td>\n",
       "      <td>42.773050</td>\n",
       "    </tr>\n",
       "    <tr>\n",
       "      <th>75%</th>\n",
       "      <td>39.780658</td>\n",
       "      <td>47.133632</td>\n",
       "    </tr>\n",
       "    <tr>\n",
       "      <th>max</th>\n",
       "      <td>48.326772</td>\n",
       "      <td>53.936508</td>\n",
       "    </tr>\n",
       "  </tbody>\n",
       "</table>\n",
       "</div>"
      ],
      "text/plain": [
       "plan        surf   ultimate\n",
       "count  12.000000  12.000000\n",
       "mean   33.309767  39.472325\n",
       "std     9.179563  10.327408\n",
       "min    21.000000  20.666667\n",
       "25%    23.609375  33.270089\n",
       "50%    34.780747  42.773050\n",
       "75%    39.780658  47.133632\n",
       "max    48.326772  53.936508"
      ]
     },
     "execution_count": 43,
     "metadata": {},
     "output_type": "execute_result"
    }
   ],
   "source": [
    "# Comprara el número de mensajes que tienden a enviar cada mes los usuarios de cada plan\n",
    "msg_plan = msg.merge(user, on='user_id', how='left')\n",
    "msg_plan = msg_plan[['user_id', 'month', 'plan']]\n",
    "\n",
    "msg_num_by_plan_month = pd.pivot_table(msg_plan, index='month', columns='plan', values='user_id', aggfunc='count')\n",
    "msg_num_by_plan_month = msg_num_by_plan_month.reindex(mes)\n",
    "\n",
    "msg_user_count = pd.pivot_table(msg_plan, index='month', columns='plan', values='user_id', aggfunc=pd.Series.nunique)\n",
    "msg_user_count = msg_user_count.reindex(mes)\n",
    "\n",
    "msg_mean_num_by_user = msg_num_by_plan_month / msg_user_count\n",
    "msg_mean_num_by_user.describe()"
   ]
  },
  {
   "cell_type": "code",
   "execution_count": 44,
   "metadata": {},
   "outputs": [
    {
     "data": {
      "image/png": "[encoded data removed]",
      "text/plain": [
       "<Figure size 640x480 with 1 Axes>"
      ]
     },
     "metadata": {},
     "output_type": "display_data"
    }
   ],
   "source": [
    "msg_mean_num_by_user.plot(kind='box')\n",
    "plt.title('Ultimate users sent more messages')\n",
    "plt.xlabel('Plan')\n",
    "plt.ylabel('Average Messages sent by user')\n",
    "plt.grid(True, alpha=0.1)\n",
    "plt.show()"
   ]
  },
  {
   "cell_type": "code",
   "execution_count": 45,
   "metadata": {},
   "outputs": [
    {
     "data": {
      "image/png": "[encoded data removed]",
      "text/plain": [
       "<Figure size 640x480 with 1 Axes>"
      ]
     },
     "metadata": {},
     "output_type": "display_data"
    },
    {
     "data": {
      "image/png": "[encoded data removed]",
      "text/plain": [
       "<Figure size 640x480 with 1 Axes>"
      ]
     },
     "metadata": {},
     "output_type": "display_data"
    }
   ],
   "source": [
    "msg_mean_num_by_user.plot(kind='bar', rot=0, width=0.7)\n",
    "plt.title('Ultimate Subscribers sent more Messages')\n",
    "plt.xlabel('Month')\n",
    "plt.ylabel('Average Messages Sent by User')\n",
    "plt.legend(['Surf', 'Ultimate'])\n",
    "plt.grid(True, alpha=0.1)\n",
    "plt.show()\n",
    "\n",
    "msg_num_by_plan_month.plot(kind='bar', rot=0, width=0.7)\n",
    "plt.title('The amount of messages sent by Surf users is naturally double')\n",
    "plt.xlabel('Month')\n",
    "plt.ylabel('Total Messages Sent')\n",
    "plt.legend(['Surf', 'Ultimate'])\n",
    "plt.grid(True, alpha=0.1)\n",
    "plt.show()"
   ]
  },
  {
   "cell_type": "markdown",
   "metadata": {
    "id": "390SSL480q1M"
   },
   "source": [
    "- Aunque la cantidad total de mensajes mandados por los usuarios de surf es 2 veces mayor que de los usuarios de ultimate, la cantidad de mensajes mandados en promedio por usuario es ligeramente mayor para los usuarios ultimate."
   ]
  },
  {
   "cell_type": "markdown",
   "metadata": {
    "id": "42YSypXz0q1M"
   },
   "source": [
    "### Internet"
   ]
  },
  {
   "cell_type": "code",
   "execution_count": 46,
   "metadata": {
    "id": "lSuKPtjh0q1M"
   },
   "outputs": [
    {
     "data": {
      "text/html": [
       "<div>\n",
       "<style scoped>\n",
       "    .dataframe tbody tr th:only-of-type {\n",
       "        vertical-align: middle;\n",
       "    }\n",
       "\n",
       "    .dataframe tbody tr th {\n",
       "        vertical-align: top;\n",
       "    }\n",
       "\n",
       "    .dataframe thead th {\n",
       "        text-align: right;\n",
       "    }\n",
       "</style>\n",
       "<table border=\"1\" class=\"dataframe\">\n",
       "  <thead>\n",
       "    <tr style=\"text-align: right;\">\n",
       "      <th></th>\n",
       "      <th>user_id</th>\n",
       "      <th>mb_used</th>\n",
       "      <th>month</th>\n",
       "      <th>plan</th>\n",
       "    </tr>\n",
       "  </thead>\n",
       "  <tbody>\n",
       "    <tr>\n",
       "      <th>0</th>\n",
       "      <td>1000</td>\n",
       "      <td>89.86</td>\n",
       "      <td>Dec</td>\n",
       "      <td>ultimate</td>\n",
       "    </tr>\n",
       "    <tr>\n",
       "      <th>1</th>\n",
       "      <td>1000</td>\n",
       "      <td>NaN</td>\n",
       "      <td>Dec</td>\n",
       "      <td>ultimate</td>\n",
       "    </tr>\n",
       "    <tr>\n",
       "      <th>2</th>\n",
       "      <td>1000</td>\n",
       "      <td>660.40</td>\n",
       "      <td>Dec</td>\n",
       "      <td>ultimate</td>\n",
       "    </tr>\n",
       "    <tr>\n",
       "      <th>3</th>\n",
       "      <td>1000</td>\n",
       "      <td>270.99</td>\n",
       "      <td>Dec</td>\n",
       "      <td>ultimate</td>\n",
       "    </tr>\n",
       "    <tr>\n",
       "      <th>4</th>\n",
       "      <td>1000</td>\n",
       "      <td>880.22</td>\n",
       "      <td>Dec</td>\n",
       "      <td>ultimate</td>\n",
       "    </tr>\n",
       "    <tr>\n",
       "      <th>...</th>\n",
       "      <td>...</td>\n",
       "      <td>...</td>\n",
       "      <td>...</td>\n",
       "      <td>...</td>\n",
       "    </tr>\n",
       "    <tr>\n",
       "      <th>104820</th>\n",
       "      <td>1499</td>\n",
       "      <td>218.06</td>\n",
       "      <td>Oct</td>\n",
       "      <td>surf</td>\n",
       "    </tr>\n",
       "    <tr>\n",
       "      <th>104821</th>\n",
       "      <td>1499</td>\n",
       "      <td>304.72</td>\n",
       "      <td>Dec</td>\n",
       "      <td>surf</td>\n",
       "    </tr>\n",
       "    <tr>\n",
       "      <th>104822</th>\n",
       "      <td>1499</td>\n",
       "      <td>292.75</td>\n",
       "      <td>Sep</td>\n",
       "      <td>surf</td>\n",
       "    </tr>\n",
       "    <tr>\n",
       "      <th>104823</th>\n",
       "      <td>1499</td>\n",
       "      <td>NaN</td>\n",
       "      <td>Dec</td>\n",
       "      <td>surf</td>\n",
       "    </tr>\n",
       "    <tr>\n",
       "      <th>104824</th>\n",
       "      <td>1499</td>\n",
       "      <td>758.31</td>\n",
       "      <td>Dec</td>\n",
       "      <td>surf</td>\n",
       "    </tr>\n",
       "  </tbody>\n",
       "</table>\n",
       "<p>104825 rows × 4 columns</p>\n",
       "</div>"
      ],
      "text/plain": [
       "        user_id  mb_used month      plan\n",
       "0          1000    89.86   Dec  ultimate\n",
       "1          1000      NaN   Dec  ultimate\n",
       "2          1000   660.40   Dec  ultimate\n",
       "3          1000   270.99   Dec  ultimate\n",
       "4          1000   880.22   Dec  ultimate\n",
       "...         ...      ...   ...       ...\n",
       "104820     1499   218.06   Oct      surf\n",
       "104821     1499   304.72   Dec      surf\n",
       "104822     1499   292.75   Sep      surf\n",
       "104823     1499      NaN   Dec      surf\n",
       "104824     1499   758.31   Dec      surf\n",
       "\n",
       "[104825 rows x 4 columns]"
      ]
     },
     "execution_count": 46,
     "metadata": {},
     "output_type": "execute_result"
    }
   ],
   "source": [
    "# Compara la cantidad de tráfico de Internet consumido por usuarios por plan\n",
    "web_usage = web.merge(user, on='user_id', how='left', suffixes=False)\n",
    "web_usage = web_usage[['user_id', 'mb_used', 'month', 'plan']]\n",
    "web_usage = web_usage.replace(0.0, np.NaN)\n",
    "web_usage"
   ]
  },
  {
   "cell_type": "code",
   "execution_count": 47,
   "metadata": {
    "id": "wnh8jYXi0q1N"
   },
   "outputs": [
    {
     "data": {
      "text/html": [
       "<div>\n",
       "<style scoped>\n",
       "    .dataframe tbody tr th:only-of-type {\n",
       "        vertical-align: middle;\n",
       "    }\n",
       "\n",
       "    .dataframe tbody tr th {\n",
       "        vertical-align: top;\n",
       "    }\n",
       "\n",
       "    .dataframe thead th {\n",
       "        text-align: right;\n",
       "    }\n",
       "</style>\n",
       "<table border=\"1\" class=\"dataframe\">\n",
       "  <thead>\n",
       "    <tr style=\"text-align: right;\">\n",
       "      <th>plan</th>\n",
       "      <th>surf</th>\n",
       "      <th>ultimate</th>\n",
       "    </tr>\n",
       "  </thead>\n",
       "  <tbody>\n",
       "    <tr>\n",
       "      <th>count</th>\n",
       "      <td>12.000000</td>\n",
       "      <td>12.000000</td>\n",
       "    </tr>\n",
       "    <tr>\n",
       "      <th>mean</th>\n",
       "      <td>14605.241252</td>\n",
       "      <td>16226.581745</td>\n",
       "    </tr>\n",
       "    <tr>\n",
       "      <th>std</th>\n",
       "      <td>3691.186183</td>\n",
       "      <td>3065.343307</td>\n",
       "    </tr>\n",
       "    <tr>\n",
       "      <th>min</th>\n",
       "      <td>4874.860000</td>\n",
       "      <td>6918.092500</td>\n",
       "    </tr>\n",
       "    <tr>\n",
       "      <th>25%</th>\n",
       "      <td>13066.274643</td>\n",
       "      <td>16288.971996</td>\n",
       "    </tr>\n",
       "    <tr>\n",
       "      <th>50%</th>\n",
       "      <td>16039.607337</td>\n",
       "      <td>17001.777445</td>\n",
       "    </tr>\n",
       "    <tr>\n",
       "      <th>75%</th>\n",
       "      <td>16970.654038</td>\n",
       "      <td>17788.899035</td>\n",
       "    </tr>\n",
       "    <tr>\n",
       "      <th>max</th>\n",
       "      <td>18189.669590</td>\n",
       "      <td>18323.191854</td>\n",
       "    </tr>\n",
       "  </tbody>\n",
       "</table>\n",
       "</div>"
      ],
      "text/plain": [
       "plan           surf      ultimate\n",
       "count     12.000000     12.000000\n",
       "mean   14605.241252  16226.581745\n",
       "std     3691.186183   3065.343307\n",
       "min     4874.860000   6918.092500\n",
       "25%    13066.274643  16288.971996\n",
       "50%    16039.607337  17001.777445\n",
       "75%    16970.654038  17788.899035\n",
       "max    18189.669590  18323.191854"
      ]
     },
     "execution_count": 47,
     "metadata": {},
     "output_type": "execute_result"
    }
   ],
   "source": [
    "web_usage_by_plan_mb = pd.pivot_table(web_usage, index='month', columns='plan', values='mb_used', aggfunc='sum')\n",
    "web_usage_by_plan_mb = web_usage_by_plan_mb.reindex(mes)\n",
    "\n",
    "web_usage_by_plan_un = pd.pivot_table(web_usage, index='month', columns='plan', values='user_id', aggfunc=pd.Series.nunique)\n",
    "web_usage_by_plan_un = web_usage_by_plan_un.reindex(mes)\n",
    "\n",
    "web_usage_by_plan = web_usage_by_plan_mb / web_usage_by_plan_un\n",
    "web_usage_by_plan.describe()"
   ]
  },
  {
   "cell_type": "code",
   "execution_count": 48,
   "metadata": {},
   "outputs": [
    {
     "data": {
      "image/png": "[encoded data removed]",
      "text/plain": [
       "<Figure size 640x480 with 1 Axes>"
      ]
     },
     "metadata": {},
     "output_type": "display_data"
    }
   ],
   "source": [
    "web_usage_by_plan.plot(kind='box')\n",
    "plt.title('Ultimate suscribers consume slightly more MB')\n",
    "plt.xlabel('Plan')\n",
    "plt.ylabel('Average MB consumed by user')\n",
    "plt.grid(True, alpha=0.1)\n",
    "plt.show()"
   ]
  },
  {
   "cell_type": "code",
   "execution_count": 49,
   "metadata": {
    "id": "5VlyJ9ry0q1N"
   },
   "outputs": [
    {
     "data": {
      "image/png": "[encoded data removed]",
      "text/plain": [
       "<Figure size 640x480 with 1 Axes>"
      ]
     },
     "metadata": {},
     "output_type": "display_data"
    }
   ],
   "source": [
    "web_usage_by_plan.plot(kind='bar', rot=0)\n",
    "plt.title('Ultimate subscribers used slightly more MB than Surf')\n",
    "plt.xlabel('Month')\n",
    "plt.ylabel('Average MB used by customer')\n",
    "plt.grid(True, alpha=0.1)\n",
    "plt.legend(['Surf', 'Ultimate'], loc='lower center')\n",
    "plt.show()"
   ]
  },
  {
   "cell_type": "code",
   "execution_count": 50,
   "metadata": {},
   "outputs": [
    {
     "name": "stdout",
     "output_type": "stream",
     "text": [
      "valor p: 0.25429193151486496\n",
      "No se puede rechazar la hipótesis nula\n"
     ]
    }
   ],
   "source": [
    "# Prueba las hipótesis H0 - los consumos de MB en ambos planes es el mismo\n",
    "surf_mb = web_usage_by_plan['surf']\n",
    "ulti_mb = web_usage_by_plan['ultimate']\n",
    "\n",
    "alpha = 0.05\n",
    "\n",
    "results = st.ttest_ind(surf_mb, ulti_mb)\n",
    "\n",
    "print('valor p:', results.pvalue)\n",
    "\n",
    "if (results.pvalue < alpha):\n",
    "    print(\"La hipotesis Nula es rechazada\")\n",
    "else:\n",
    "    print(\"No se puede rechazar la hipótesis nula\")"
   ]
  },
  {
   "cell_type": "markdown",
   "metadata": {
    "id": "UN9zwuMP0q1N"
   },
   "source": [
    "- Aunque en apariencia los usuarios ultimate usan más MB, no es así, dado que el valor-p es 0.25, eso indica que el 25% de las veces obtendríamos un valor tan extremo como el dado en el consumo de MB para esta muestra, eso es una probabilidad muy alta y por eso no podemos decir que sean diferentes los consumos de MB en los diferentes planes."
   ]
  },
  {
   "cell_type": "markdown",
   "metadata": {
    "id": "tCijq3260q1N"
   },
   "source": [
    "## Ingreso"
   ]
  },
  {
   "cell_type": "code",
   "execution_count": 51,
   "metadata": {
    "id": "tz-dq_V00q1O"
   },
   "outputs": [
    {
     "data": {
      "text/html": [
       "<div>\n",
       "<style scoped>\n",
       "    .dataframe tbody tr th:only-of-type {\n",
       "        vertical-align: middle;\n",
       "    }\n",
       "\n",
       "    .dataframe tbody tr th {\n",
       "        vertical-align: top;\n",
       "    }\n",
       "\n",
       "    .dataframe thead th {\n",
       "        text-align: right;\n",
       "    }\n",
       "</style>\n",
       "<table border=\"1\" class=\"dataframe\">\n",
       "  <thead>\n",
       "    <tr style=\"text-align: right;\">\n",
       "      <th></th>\n",
       "      <th></th>\n",
       "      <th>surf</th>\n",
       "      <th>ultimate</th>\n",
       "    </tr>\n",
       "  </thead>\n",
       "  <tbody>\n",
       "    <tr>\n",
       "      <th>0</th>\n",
       "      <th>Dec</th>\n",
       "      <td>NaN</td>\n",
       "      <td>70.0</td>\n",
       "    </tr>\n",
       "    <tr>\n",
       "      <th rowspan=\"4\" valign=\"top\">1</th>\n",
       "      <th>Aug</th>\n",
       "      <td>20.00</td>\n",
       "      <td>NaN</td>\n",
       "    </tr>\n",
       "    <tr>\n",
       "      <th>Dec</th>\n",
       "      <td>60.00</td>\n",
       "      <td>NaN</td>\n",
       "    </tr>\n",
       "    <tr>\n",
       "      <th>Nov</th>\n",
       "      <td>60.00</td>\n",
       "      <td>NaN</td>\n",
       "    </tr>\n",
       "    <tr>\n",
       "      <th>Oct</th>\n",
       "      <td>90.09</td>\n",
       "      <td>NaN</td>\n",
       "    </tr>\n",
       "    <tr>\n",
       "      <th>...</th>\n",
       "      <th>...</th>\n",
       "      <td>...</td>\n",
       "      <td>...</td>\n",
       "    </tr>\n",
       "    <tr>\n",
       "      <th>498</th>\n",
       "      <th>Sep</th>\n",
       "      <td>100.00</td>\n",
       "      <td>NaN</td>\n",
       "    </tr>\n",
       "    <tr>\n",
       "      <th rowspan=\"4\" valign=\"top\">499</th>\n",
       "      <th>Dec</th>\n",
       "      <td>90.00</td>\n",
       "      <td>NaN</td>\n",
       "    </tr>\n",
       "    <tr>\n",
       "      <th>Nov</th>\n",
       "      <td>40.00</td>\n",
       "      <td>NaN</td>\n",
       "    </tr>\n",
       "    <tr>\n",
       "      <th>Oct</th>\n",
       "      <td>70.00</td>\n",
       "      <td>NaN</td>\n",
       "    </tr>\n",
       "    <tr>\n",
       "      <th>Sep</th>\n",
       "      <td>20.00</td>\n",
       "      <td>NaN</td>\n",
       "    </tr>\n",
       "  </tbody>\n",
       "</table>\n",
       "<p>2293 rows × 2 columns</p>\n",
       "</div>"
      ],
      "text/plain": [
       "           surf  ultimate\n",
       "0   Dec     NaN      70.0\n",
       "1   Aug   20.00       NaN\n",
       "    Dec   60.00       NaN\n",
       "    Nov   60.00       NaN\n",
       "    Oct   90.09       NaN\n",
       "...         ...       ...\n",
       "498 Sep  100.00       NaN\n",
       "499 Dec   90.00       NaN\n",
       "    Nov   40.00       NaN\n",
       "    Oct   70.00       NaN\n",
       "    Sep   20.00       NaN\n",
       "\n",
       "[2293 rows x 2 columns]"
      ]
     },
     "execution_count": 51,
     "metadata": {},
     "output_type": "execute_result"
    }
   ],
   "source": [
    "# Get the incomes\n",
    "incomes = user_use.loc[:, ['plan', mes[0], mes[1], mes[2], mes[3], mes[4], mes[5], mes[6], mes[7], mes[8], mes[9], mes[10], mes[11]]]\n",
    "surf_incomes = incomes[incomes['plan'] == 'surf']\n",
    "ultimate_incomes = incomes[incomes['plan'] == 'ultimate']\n",
    "\n",
    "surf_incomes = surf_incomes.drop(columns='plan')\n",
    "ultimate_incomes = ultimate_incomes.drop(columns='plan')\n",
    "\n",
    "surf_incomes = surf_incomes.stack()\n",
    "ultimate_incomes = ultimate_incomes.stack()\n",
    "\n",
    "surf_incomes = surf_incomes.replace(0.0, np.NaN).dropna()\n",
    "ultimate_incomes = ultimate_incomes.replace(0.0, np.NaN).dropna()\n",
    "\n",
    "incomes_by_plan = pd.DataFrame({'surf':surf_incomes, 'ultimate':ultimate_incomes})\n",
    "incomes_by_plan = incomes_by_plan[['surf', 'ultimate']]\n",
    "incomes_by_plan"
   ]
  },
  {
   "cell_type": "code",
   "execution_count": 52,
   "metadata": {
    "id": "0Y1v8ZUz0q1P"
   },
   "outputs": [
    {
     "data": {
      "image/png": "[encoded data removed]",
      "text/plain": [
       "<Figure size 640x480 with 1 Axes>"
      ]
     },
     "metadata": {},
     "output_type": "display_data"
    },
    {
     "data": {
      "text/html": [
       "<div>\n",
       "<style scoped>\n",
       "    .dataframe tbody tr th:only-of-type {\n",
       "        vertical-align: middle;\n",
       "    }\n",
       "\n",
       "    .dataframe tbody tr th {\n",
       "        vertical-align: top;\n",
       "    }\n",
       "\n",
       "    .dataframe thead th {\n",
       "        text-align: right;\n",
       "    }\n",
       "</style>\n",
       "<table border=\"1\" class=\"dataframe\">\n",
       "  <thead>\n",
       "    <tr style=\"text-align: right;\">\n",
       "      <th></th>\n",
       "      <th>surf</th>\n",
       "      <th>ultimate</th>\n",
       "    </tr>\n",
       "  </thead>\n",
       "  <tbody>\n",
       "    <tr>\n",
       "      <th>count</th>\n",
       "      <td>1573.000000</td>\n",
       "      <td>720.000000</td>\n",
       "    </tr>\n",
       "    <tr>\n",
       "      <th>mean</th>\n",
       "      <td>60.706408</td>\n",
       "      <td>72.313889</td>\n",
       "    </tr>\n",
       "    <tr>\n",
       "      <th>std</th>\n",
       "      <td>55.388042</td>\n",
       "      <td>11.395108</td>\n",
       "    </tr>\n",
       "    <tr>\n",
       "      <th>min</th>\n",
       "      <td>20.000000</td>\n",
       "      <td>70.000000</td>\n",
       "    </tr>\n",
       "    <tr>\n",
       "      <th>25%</th>\n",
       "      <td>20.000000</td>\n",
       "      <td>70.000000</td>\n",
       "    </tr>\n",
       "    <tr>\n",
       "      <th>50%</th>\n",
       "      <td>40.360000</td>\n",
       "      <td>70.000000</td>\n",
       "    </tr>\n",
       "    <tr>\n",
       "      <th>75%</th>\n",
       "      <td>80.360000</td>\n",
       "      <td>70.000000</td>\n",
       "    </tr>\n",
       "    <tr>\n",
       "      <th>max</th>\n",
       "      <td>590.370000</td>\n",
       "      <td>182.000000</td>\n",
       "    </tr>\n",
       "  </tbody>\n",
       "</table>\n",
       "</div>"
      ],
      "text/plain": [
       "              surf    ultimate\n",
       "count  1573.000000  720.000000\n",
       "mean     60.706408   72.313889\n",
       "std      55.388042   11.395108\n",
       "min      20.000000   70.000000\n",
       "25%      20.000000   70.000000\n",
       "50%      40.360000   70.000000\n",
       "75%      80.360000   70.000000\n",
       "max     590.370000  182.000000"
      ]
     },
     "execution_count": 52,
     "metadata": {},
     "output_type": "execute_result"
    }
   ],
   "source": [
    "incomes_by_plan.plot(kind='box')\n",
    "plt.title('Los ingresos que genera el Plan ultimate son usualmente mayores')\n",
    "plt.xlabel('Plan')\n",
    "plt.ylabel('Tarifa mensual ($)')\n",
    "plt.grid(True, alpha=0.1)\n",
    "plt.show()\n",
    "incomes_by_plan.describe()"
   ]
  },
  {
   "cell_type": "markdown",
   "metadata": {
    "id": "KAFidcXZ0q1P"
   },
   "source": [
    "- Aunquela tarifa promedio para los suscriptores ultimate es mayor, los usuarios surf pueden llegar a gastar mucho más en sus tarifas mensuales, es por esto que no es tan fácil determinar cual de los dos genera más ingresos.\n",
    "- Para poder determinar estadísticamente cuál de los dos genera más ingresos o si generan igual, será necesario realizar pruebas de hipótesis estadísticas."
   ]
  },
  {
   "cell_type": "markdown",
   "metadata": {
    "id": "ajJ7VKeI0q1Q"
   },
   "source": [
    "# Prueba las hipótesis estadísticas"
   ]
  },
  {
   "cell_type": "markdown",
   "metadata": {},
   "source": [
    "Hipotesis Nula <b>H<sub>0</sub></b><br>\n",
    "Los ingresos de Ambos Planes son Iguales<br><br>\n",
    "Hipotesis Alternativa <b>H<sub>1</sub></b><br>\n",
    "Los ingresos de los Planes son Diferentes"
   ]
  },
  {
   "cell_type": "code",
   "execution_count": 53,
   "metadata": {
    "id": "nFoPNlPq0q1R"
   },
   "outputs": [
    {
     "name": "stdout",
     "output_type": "stream",
     "text": [
      "valor p: 3.1703905481135734e-15\n",
      "La hipotesis Nula es rechazada\n"
     ]
    }
   ],
   "source": [
    "# Prueba las hipótesis\n",
    "surf_inc = surf_incomes\n",
    "ulti_inc = ultimate_incomes\n",
    "\n",
    "alpha = 0.05\n",
    "\n",
    "results = st.ttest_ind(surf_inc, ulti_inc, equal_var=False)\n",
    "\n",
    "print('valor p:', results.pvalue)\n",
    "\n",
    "if (results.pvalue < alpha):\n",
    "    print(\"La hipotesis Nula es rechazada\")\n",
    "else:\n",
    "    print(\"No se puede rechazar la hipótesis nula\")"
   ]
  },
  {
   "cell_type": "markdown",
   "metadata": {},
   "source": [
    "- Si la hipotesis Nula es rechazada entonces los ingresos por plan si son diferentes.\n",
    "- Basándome en que la tarifa media de los usuarios surf es mayor, realizaré una prueba estadística para determinar si en efecto es mayor."
   ]
  },
  {
   "cell_type": "code",
   "execution_count": 54,
   "metadata": {},
   "outputs": [
    {
     "name": "stdout",
     "output_type": "stream",
     "text": [
      "valor-p:  9.767638034782731e-114\n",
      "Rechazamos la hipótesis nula\n"
     ]
    }
   ],
   "source": [
    "# Prueba de hipótesis H0 - Las tarifas son iguales para ambos planes\n",
    "m_ultimate = ultimate_incomes\n",
    "tarifa_media_de_surf = 60.7\n",
    "\n",
    "alpha = 0.05 \n",
    "\n",
    "results = st.ttest_1samp(m_ultimate, tarifa_media_de_surf)\n",
    "\n",
    "print('valor-p: ', results.pvalue / 2)\n",
    "\n",
    "if (results.pvalue / 2 < alpha) and (m_ultimate.mean() > tarifa_media_de_surf):\n",
    "    print(\"Rechazamos la hipótesis nula\")\n",
    "else:\n",
    "    print(\"No podemos rechazar la hipótesis nula\")"
   ]
  },
  {
   "cell_type": "markdown",
   "metadata": {},
   "source": [
    "- Dado que la prueba arrojó que se debe rechazar la hipótesis, podemos decir que el ingreso proviniente del plan <b>ultimate</b> es significativamente mayor que el que proviene del plan surf."
   ]
  },
  {
   "cell_type": "code",
   "execution_count": 55,
   "metadata": {},
   "outputs": [
    {
     "data": {
      "text/html": [
       "<div>\n",
       "<style scoped>\n",
       "    .dataframe tbody tr th:only-of-type {\n",
       "        vertical-align: middle;\n",
       "    }\n",
       "\n",
       "    .dataframe tbody tr th {\n",
       "        vertical-align: top;\n",
       "    }\n",
       "\n",
       "    .dataframe thead th {\n",
       "        text-align: right;\n",
       "    }\n",
       "</style>\n",
       "<table border=\"1\" class=\"dataframe\">\n",
       "  <thead>\n",
       "    <tr style=\"text-align: right;\">\n",
       "      <th></th>\n",
       "      <th>user_id</th>\n",
       "      <th>Jan</th>\n",
       "      <th>Feb</th>\n",
       "      <th>Mar</th>\n",
       "      <th>Apr</th>\n",
       "      <th>May</th>\n",
       "      <th>Jun</th>\n",
       "      <th>Jul</th>\n",
       "      <th>Aug</th>\n",
       "      <th>Sep</th>\n",
       "      <th>Oct</th>\n",
       "      <th>Nov</th>\n",
       "      <th>Dec</th>\n",
       "      <th>city</th>\n",
       "      <th>plan</th>\n",
       "    </tr>\n",
       "  </thead>\n",
       "  <tbody>\n",
       "    <tr>\n",
       "      <th>0</th>\n",
       "      <td>1000</td>\n",
       "      <td>0.0</td>\n",
       "      <td>0.0</td>\n",
       "      <td>0.0</td>\n",
       "      <td>0.0</td>\n",
       "      <td>0.0</td>\n",
       "      <td>0.0</td>\n",
       "      <td>0.0</td>\n",
       "      <td>0.0</td>\n",
       "      <td>0.0</td>\n",
       "      <td>0.00</td>\n",
       "      <td>0.0</td>\n",
       "      <td>70.0</td>\n",
       "      <td>Atlanta-Sandy Springs-Roswell, GA MSA</td>\n",
       "      <td>ultimate</td>\n",
       "    </tr>\n",
       "    <tr>\n",
       "      <th>1</th>\n",
       "      <td>1001</td>\n",
       "      <td>0.0</td>\n",
       "      <td>0.0</td>\n",
       "      <td>0.0</td>\n",
       "      <td>0.0</td>\n",
       "      <td>0.0</td>\n",
       "      <td>0.0</td>\n",
       "      <td>0.0</td>\n",
       "      <td>20.0</td>\n",
       "      <td>20.0</td>\n",
       "      <td>90.09</td>\n",
       "      <td>60.0</td>\n",
       "      <td>60.0</td>\n",
       "      <td>Seattle-Tacoma-Bellevue, WA MSA</td>\n",
       "      <td>surf</td>\n",
       "    </tr>\n",
       "    <tr>\n",
       "      <th>2</th>\n",
       "      <td>1002</td>\n",
       "      <td>0.0</td>\n",
       "      <td>0.0</td>\n",
       "      <td>0.0</td>\n",
       "      <td>0.0</td>\n",
       "      <td>0.0</td>\n",
       "      <td>0.0</td>\n",
       "      <td>0.0</td>\n",
       "      <td>0.0</td>\n",
       "      <td>0.0</td>\n",
       "      <td>20.00</td>\n",
       "      <td>60.0</td>\n",
       "      <td>20.0</td>\n",
       "      <td>Las Vegas-Henderson-Paradise, NV MSA</td>\n",
       "      <td>surf</td>\n",
       "    </tr>\n",
       "  </tbody>\n",
       "</table>\n",
       "</div>"
      ],
      "text/plain": [
       "   user_id  Jan  Feb  Mar  Apr  May  Jun  Jul   Aug   Sep    Oct   Nov   Dec  \\\n",
       "0     1000  0.0  0.0  0.0  0.0  0.0  0.0  0.0   0.0   0.0   0.00   0.0  70.0   \n",
       "1     1001  0.0  0.0  0.0  0.0  0.0  0.0  0.0  20.0  20.0  90.09  60.0  60.0   \n",
       "2     1002  0.0  0.0  0.0  0.0  0.0  0.0  0.0   0.0   0.0  20.00  60.0  20.0   \n",
       "\n",
       "                                    city      plan  \n",
       "0  Atlanta-Sandy Springs-Roswell, GA MSA  ultimate  \n",
       "1        Seattle-Tacoma-Bellevue, WA MSA      surf  \n",
       "2   Las Vegas-Henderson-Paradise, NV MSA      surf  "
      ]
     },
     "execution_count": 55,
     "metadata": {},
     "output_type": "execute_result"
    }
   ],
   "source": [
    "# ingresos NY-NJ\n",
    "income_zone = user_use.loc[:, ['user_id', mes[0], mes[1], mes[2], mes[3], mes[4], mes[5], mes[6], mes[7], mes[8], mes[9], mes[10], mes[11]]]\n",
    "income_zone = income_zone.merge(user, on='user_id', how='left')\n",
    "income_zone = income_zone.drop(columns=['first_name', 'last_name', 'age', 'reg_date', 'churn_date'])\n",
    "income_zone.head(3)"
   ]
  },
  {
   "cell_type": "code",
   "execution_count": 56,
   "metadata": {},
   "outputs": [
    {
     "data": {
      "text/html": [
       "<div>\n",
       "<style scoped>\n",
       "    .dataframe tbody tr th:only-of-type {\n",
       "        vertical-align: middle;\n",
       "    }\n",
       "\n",
       "    .dataframe tbody tr th {\n",
       "        vertical-align: top;\n",
       "    }\n",
       "\n",
       "    .dataframe thead th {\n",
       "        text-align: right;\n",
       "    }\n",
       "</style>\n",
       "<table border=\"1\" class=\"dataframe\">\n",
       "  <thead>\n",
       "    <tr style=\"text-align: right;\">\n",
       "      <th></th>\n",
       "      <th></th>\n",
       "      <th>ny_nj</th>\n",
       "      <th>other</th>\n",
       "    </tr>\n",
       "  </thead>\n",
       "  <tbody>\n",
       "    <tr>\n",
       "      <th>0</th>\n",
       "      <th>Dec</th>\n",
       "      <td>NaN</td>\n",
       "      <td>70.00</td>\n",
       "    </tr>\n",
       "    <tr>\n",
       "      <th rowspan=\"4\" valign=\"top\">1</th>\n",
       "      <th>Aug</th>\n",
       "      <td>NaN</td>\n",
       "      <td>20.00</td>\n",
       "    </tr>\n",
       "    <tr>\n",
       "      <th>Dec</th>\n",
       "      <td>NaN</td>\n",
       "      <td>60.00</td>\n",
       "    </tr>\n",
       "    <tr>\n",
       "      <th>Nov</th>\n",
       "      <td>NaN</td>\n",
       "      <td>60.00</td>\n",
       "    </tr>\n",
       "    <tr>\n",
       "      <th>Oct</th>\n",
       "      <td>NaN</td>\n",
       "      <td>90.09</td>\n",
       "    </tr>\n",
       "    <tr>\n",
       "      <th>...</th>\n",
       "      <th>...</th>\n",
       "      <td>...</td>\n",
       "      <td>...</td>\n",
       "    </tr>\n",
       "    <tr>\n",
       "      <th>498</th>\n",
       "      <th>Sep</th>\n",
       "      <td>100.0</td>\n",
       "      <td>NaN</td>\n",
       "    </tr>\n",
       "    <tr>\n",
       "      <th rowspan=\"4\" valign=\"top\">499</th>\n",
       "      <th>Dec</th>\n",
       "      <td>NaN</td>\n",
       "      <td>90.00</td>\n",
       "    </tr>\n",
       "    <tr>\n",
       "      <th>Nov</th>\n",
       "      <td>NaN</td>\n",
       "      <td>40.00</td>\n",
       "    </tr>\n",
       "    <tr>\n",
       "      <th>Oct</th>\n",
       "      <td>NaN</td>\n",
       "      <td>70.00</td>\n",
       "    </tr>\n",
       "    <tr>\n",
       "      <th>Sep</th>\n",
       "      <td>NaN</td>\n",
       "      <td>20.00</td>\n",
       "    </tr>\n",
       "  </tbody>\n",
       "</table>\n",
       "<p>2293 rows × 2 columns</p>\n",
       "</div>"
      ],
      "text/plain": [
       "         ny_nj  other\n",
       "0   Dec    NaN  70.00\n",
       "1   Aug    NaN  20.00\n",
       "    Dec    NaN  60.00\n",
       "    Nov    NaN  60.00\n",
       "    Oct    NaN  90.09\n",
       "...        ...    ...\n",
       "498 Sep  100.0    NaN\n",
       "499 Dec    NaN  90.00\n",
       "    Nov    NaN  40.00\n",
       "    Oct    NaN  70.00\n",
       "    Sep    NaN  20.00\n",
       "\n",
       "[2293 rows x 2 columns]"
      ]
     },
     "execution_count": 56,
     "metadata": {},
     "output_type": "execute_result"
    }
   ],
   "source": [
    "ny_nj_income = income_zone[income_zone['city'].str.contains('NY-NJ')]\n",
    "other_zone_income = income_zone[~income_zone['city'].str.contains('NY-NJ')]\n",
    "\n",
    "ny_nj_income = ny_nj_income.drop(columns=['plan', 'city', 'user_id'])\n",
    "other_zone_income = other_zone_income.drop(columns=['plan', 'city', 'user_id'])\n",
    "\n",
    "ny_nj_income = ny_nj_income.stack()\n",
    "other_zone_income = other_zone_income.stack()\n",
    "\n",
    "ny_nj_income = ny_nj_income.replace(0.0, np.NaN).dropna()\n",
    "other_zone_income = other_zone_income.replace(0.0, np.NaN).dropna()\n",
    "\n",
    "incomes_by_zone = pd.DataFrame({'ny_nj':ny_nj_income, 'other':other_zone_income})\n",
    "incomes_by_zone = incomes_by_zone[['ny_nj', 'other']]\n",
    "incomes_by_zone"
   ]
  },
  {
   "cell_type": "code",
   "execution_count": 57,
   "metadata": {},
   "outputs": [
    {
     "data": {
      "image/png": "[encoded data removed]",
      "text/plain": [
       "<Figure size 640x480 with 1 Axes>"
      ]
     },
     "metadata": {},
     "output_type": "display_data"
    },
    {
     "data": {
      "text/html": [
       "<div>\n",
       "<style scoped>\n",
       "    .dataframe tbody tr th:only-of-type {\n",
       "        vertical-align: middle;\n",
       "    }\n",
       "\n",
       "    .dataframe tbody tr th {\n",
       "        vertical-align: top;\n",
       "    }\n",
       "\n",
       "    .dataframe thead th {\n",
       "        text-align: right;\n",
       "    }\n",
       "</style>\n",
       "<table border=\"1\" class=\"dataframe\">\n",
       "  <thead>\n",
       "    <tr style=\"text-align: right;\">\n",
       "      <th></th>\n",
       "      <th>ny_nj</th>\n",
       "      <th>other</th>\n",
       "    </tr>\n",
       "  </thead>\n",
       "  <tbody>\n",
       "    <tr>\n",
       "      <th>count</th>\n",
       "      <td>377.000000</td>\n",
       "      <td>1916.000000</td>\n",
       "    </tr>\n",
       "    <tr>\n",
       "      <th>mean</th>\n",
       "      <td>59.921353</td>\n",
       "      <td>65.222771</td>\n",
       "    </tr>\n",
       "    <tr>\n",
       "      <th>std</th>\n",
       "      <td>43.537865</td>\n",
       "      <td>47.170414</td>\n",
       "    </tr>\n",
       "    <tr>\n",
       "      <th>min</th>\n",
       "      <td>20.000000</td>\n",
       "      <td>20.000000</td>\n",
       "    </tr>\n",
       "    <tr>\n",
       "      <th>25%</th>\n",
       "      <td>20.000000</td>\n",
       "      <td>24.927500</td>\n",
       "    </tr>\n",
       "    <tr>\n",
       "      <th>50%</th>\n",
       "      <td>51.770000</td>\n",
       "      <td>70.000000</td>\n",
       "    </tr>\n",
       "    <tr>\n",
       "      <th>75%</th>\n",
       "      <td>72.460000</td>\n",
       "      <td>70.000000</td>\n",
       "    </tr>\n",
       "    <tr>\n",
       "      <th>max</th>\n",
       "      <td>280.000000</td>\n",
       "      <td>590.370000</td>\n",
       "    </tr>\n",
       "  </tbody>\n",
       "</table>\n",
       "</div>"
      ],
      "text/plain": [
       "            ny_nj        other\n",
       "count  377.000000  1916.000000\n",
       "mean    59.921353    65.222771\n",
       "std     43.537865    47.170414\n",
       "min     20.000000    20.000000\n",
       "25%     20.000000    24.927500\n",
       "50%     51.770000    70.000000\n",
       "75%     72.460000    70.000000\n",
       "max    280.000000   590.370000"
      ]
     },
     "execution_count": 57,
     "metadata": {},
     "output_type": "execute_result"
    }
   ],
   "source": [
    "#ny_nj_income.plot(kind='box')\n",
    "incomes_by_zone.plot(kind='box')\n",
    "plt.title('Los ingresos que son menores en NY-NJ')\n",
    "plt.xlabel('Zona')\n",
    "plt.ylabel('Tarifa mensual ($)')\n",
    "plt.grid(True, alpha=0.1)\n",
    "plt.show()\n",
    "incomes_by_zone.describe()"
   ]
  },
  {
   "cell_type": "markdown",
   "metadata": {},
   "source": [
    "Hipotesis Nula <b>H<sub>0</sub></b><br>\n",
    "Los ingresos de la sona NY-NJ es igual al resto de zonas<br><br>\n",
    "Hipotesis Alternativa <b>H<sub>1</sub></b><br>\n",
    "Los ingresos de Ambos Planes son Diferentes"
   ]
  },
  {
   "cell_type": "code",
   "execution_count": 58,
   "metadata": {
    "id": "Cqcj7wrZ0q1S"
   },
   "outputs": [
    {
     "name": "stdout",
     "output_type": "stream",
     "text": [
      "valor p: 0.043557431621342436\n",
      "La hipotesis Nula es rechazada\n"
     ]
    }
   ],
   "source": [
    "# Prueba las hipótesis\n",
    "ny_nj = ny_nj_income\n",
    "other = other_zone_income\n",
    "\n",
    "alpha = 0.05\n",
    "\n",
    "results = st.ttest_ind(ny_nj, other)\n",
    "\n",
    "print('valor p:', results.pvalue)\n",
    "\n",
    "if (results.pvalue < alpha):\n",
    "    print(\"La hipotesis Nula es rechazada\")\n",
    "else:\n",
    "    print(\"No se puede rechazar la hipótesis nula\")"
   ]
  },
  {
   "cell_type": "markdown",
   "metadata": {
    "id": "bbTR8UQO0q1T"
   },
   "source": [
    "# Conclusión general"
   ]
  },
  {
   "cell_type": "markdown",
   "metadata": {},
   "source": [
    "- La duración promedio de las llamadas en ambos planes es la misma para ambos plames.\n",
    "- La cantidad promedio de mensajes enviados en promedio por cada plan es casi la misma (ligeramente mayor para los suscriptores ultimate).\n",
    "- La cantidad de MB consumidos en ambos planes también es muy similar, los datos no proporcionan información suficiente para afirmar que son diferentes los consumos.\n",
    "- Pero, los Ingresos provinientes del plan Ultimate sí son estadistícamente mayores.\n",
    "- En esencia el consumo es el mismo para ambos planes pero los ingresos del plan ultimate son mayores.\n",
    "- Con la información previa parece claro que el presupuesto de marketing debería dedicarse a promover el plan ultimate."
   ]
  }
 ],
 "metadata": {
  "ExecuteTimeLog": [
   {
    "duration": 828,
    "start_time": "2021-11-16T09:21:11.304Z"
   },
   {
    "duration": 893,
    "start_time": "2021-11-16T09:21:17.728Z"
   },
   {
    "duration": 1150,
    "start_time": "2021-11-16T09:21:29.568Z"
   },
   {
    "duration": 3,
    "start_time": "2021-11-16T09:24:14.495Z"
   },
   {
    "duration": 120,
    "start_time": "2021-11-16T09:24:46.630Z"
   },
   {
    "duration": 3,
    "start_time": "2021-11-16T09:28:27.882Z"
   },
   {
    "duration": 4,
    "start_time": "2021-11-16T09:29:54.281Z"
   },
   {
    "duration": 3,
    "start_time": "2021-11-16T09:30:45.936Z"
   },
   {
    "duration": 4,
    "start_time": "2021-11-16T09:31:06.300Z"
   },
   {
    "duration": 113,
    "start_time": "2021-11-16T09:31:37.208Z"
   },
   {
    "duration": 143,
    "start_time": "2021-11-16T09:31:48.656Z"
   },
   {
    "duration": 98,
    "start_time": "2021-11-16T09:31:55.678Z"
   },
   {
    "duration": 3,
    "start_time": "2021-11-16T09:32:08.535Z"
   },
   {
    "duration": 111,
    "start_time": "2021-11-16T09:32:10.120Z"
   },
   {
    "duration": 3,
    "start_time": "2021-11-16T09:32:15.732Z"
   },
   {
    "duration": 4,
    "start_time": "2021-11-16T09:32:29.423Z"
   },
   {
    "duration": 3,
    "start_time": "2021-11-16T10:03:03.074Z"
   },
   {
    "duration": 3,
    "start_time": "2021-11-16T10:10:01.288Z"
   },
   {
    "duration": 3,
    "start_time": "2021-11-16T10:10:46.923Z"
   },
   {
    "duration": 121,
    "start_time": "2021-11-16T10:37:46.494Z"
   },
   {
    "duration": 125,
    "start_time": "2021-11-16T10:38:20.632Z"
   },
   {
    "duration": 112,
    "start_time": "2021-11-16T10:46:53.001Z"
   },
   {
    "duration": 110,
    "start_time": "2021-11-16T10:48:25.775Z"
   },
   {
    "duration": 3,
    "start_time": "2021-11-16T10:50:18.720Z"
   },
   {
    "duration": 4,
    "start_time": "2021-11-16T10:50:37.649Z"
   },
   {
    "duration": 2,
    "start_time": "2021-11-16T10:50:51.884Z"
   },
   {
    "duration": 3,
    "start_time": "2021-11-16T10:51:56.237Z"
   },
   {
    "duration": 101,
    "start_time": "2021-11-16T10:53:13.791Z"
   },
   {
    "duration": 3,
    "start_time": "2021-11-16T10:55:59.186Z"
   },
   {
    "duration": 3,
    "start_time": "2021-11-16T10:56:10.751Z"
   },
   {
    "duration": 3,
    "start_time": "2021-11-16T10:56:49.038Z"
   },
   {
    "duration": 3,
    "start_time": "2021-11-16T10:56:49.174Z"
   },
   {
    "duration": 4,
    "start_time": "2021-11-16T10:56:49.414Z"
   },
   {
    "duration": 3,
    "start_time": "2021-11-16T10:56:49.680Z"
   },
   {
    "duration": 3,
    "start_time": "2021-11-16T10:56:50.370Z"
   },
   {
    "duration": 114,
    "start_time": "2021-11-16T10:59:34.518Z"
   },
   {
    "duration": 3,
    "start_time": "2021-11-16T11:01:41.201Z"
   },
   {
    "duration": 116,
    "start_time": "2021-11-16T11:01:48.754Z"
   },
   {
    "duration": 3,
    "start_time": "2021-11-16T11:02:16.685Z"
   },
   {
    "duration": 3,
    "start_time": "2021-11-16T11:02:19.479Z"
   },
   {
    "duration": 3,
    "start_time": "2021-11-16T11:02:47.067Z"
   },
   {
    "duration": 3,
    "start_time": "2021-11-16T11:02:49.353Z"
   },
   {
    "duration": 3,
    "start_time": "2021-11-16T11:03:07.835Z"
   },
   {
    "duration": 3,
    "start_time": "2021-11-16T11:03:07.953Z"
   },
   {
    "duration": 112,
    "start_time": "2021-11-16T11:07:52.072Z"
   },
   {
    "duration": 187,
    "start_time": "2021-11-16T11:09:23.468Z"
   },
   {
    "duration": 4,
    "start_time": "2021-11-16T11:10:01.455Z"
   },
   {
    "duration": 3,
    "start_time": "2021-11-16T11:10:05.069Z"
   },
   {
    "duration": 4,
    "start_time": "2021-11-16T11:10:13.376Z"
   },
   {
    "duration": 3,
    "start_time": "2021-11-16T11:10:14.434Z"
   },
   {
    "duration": 3,
    "start_time": "2021-11-16T11:10:22.853Z"
   },
   {
    "duration": 4,
    "start_time": "2021-11-16T11:27:29.279Z"
   },
   {
    "duration": 4,
    "start_time": "2021-11-16T11:29:08.919Z"
   },
   {
    "duration": 118,
    "start_time": "2021-11-16T11:29:46.703Z"
   },
   {
    "duration": 437,
    "start_time": "2021-11-16T11:36:02.181Z"
   },
   {
    "duration": 157,
    "start_time": "2021-11-16T11:36:14.388Z"
   },
   {
    "duration": 207,
    "start_time": "2021-11-16T11:47:15.898Z"
   },
   {
    "duration": 3,
    "start_time": "2021-11-16T11:53:52.092Z"
   },
   {
    "duration": 3,
    "start_time": "2021-11-16T11:53:52.236Z"
   },
   {
    "duration": 3,
    "start_time": "2021-11-16T11:59:12.005Z"
   },
   {
    "duration": 112,
    "start_time": "2021-11-16T12:00:33.446Z"
   },
   {
    "duration": 3,
    "start_time": "2021-11-16T12:02:14.453Z"
   },
   {
    "duration": 3,
    "start_time": "2021-11-16T12:02:39.512Z"
   },
   {
    "duration": 106,
    "start_time": "2021-11-16T12:03:03.460Z"
   },
   {
    "duration": 3,
    "start_time": "2021-11-17T20:37:21.139Z"
   },
   {
    "duration": 3,
    "start_time": "2021-11-17T20:37:22.229Z"
   },
   {
    "duration": 3,
    "start_time": "2021-11-17T20:38:38.806Z"
   },
   {
    "duration": 3,
    "start_time": "2021-11-17T20:38:41.958Z"
   },
   {
    "duration": 3,
    "start_time": "2021-11-17T20:43:46.551Z"
   },
   {
    "duration": 4,
    "start_time": "2021-11-17T20:58:21.835Z"
   },
   {
    "duration": 3,
    "start_time": "2021-11-17T20:59:21.872Z"
   },
   {
    "duration": 4,
    "start_time": "2021-11-17T20:59:45.352Z"
   },
   {
    "duration": 4,
    "start_time": "2021-11-17T20:59:49.646Z"
   },
   {
    "duration": 159,
    "start_time": "2021-11-17T21:02:26.949Z"
   },
   {
    "duration": 3,
    "start_time": "2021-11-17T21:03:53.461Z"
   },
   {
    "duration": 3,
    "start_time": "2021-11-17T21:03:53.694Z"
   },
   {
    "duration": 3,
    "start_time": "2021-11-17T21:05:28.145Z"
   },
   {
    "duration": 116,
    "start_time": "2021-11-17T21:05:57.787Z"
   },
   {
    "duration": 3,
    "start_time": "2021-11-17T21:06:37.993Z"
   },
   {
    "duration": 3,
    "start_time": "2021-11-17T21:06:38.261Z"
   },
   {
    "duration": 3,
    "start_time": "2021-11-17T21:11:54.358Z"
   },
   {
    "duration": 3,
    "start_time": "2021-11-17T21:12:43.846Z"
   },
   {
    "duration": 4,
    "start_time": "2021-11-17T21:13:08.773Z"
   },
   {
    "duration": 3,
    "start_time": "2021-11-17T21:14:44.441Z"
   },
   {
    "duration": 3,
    "start_time": "2021-11-17T21:15:42.059Z"
   },
   {
    "duration": 4,
    "start_time": "2021-11-17T21:15:51.995Z"
   },
   {
    "duration": 3,
    "start_time": "2021-11-17T21:15:53.923Z"
   },
   {
    "duration": 3,
    "start_time": "2021-11-17T21:15:55.282Z"
   },
   {
    "duration": 3,
    "start_time": "2021-11-17T21:16:28.492Z"
   },
   {
    "duration": 3,
    "start_time": "2021-11-17T21:16:32.603Z"
   },
   {
    "duration": 3,
    "start_time": "2021-11-17T21:17:06.941Z"
   },
   {
    "duration": 98,
    "start_time": "2021-11-17T21:18:05.733Z"
   },
   {
    "duration": 4,
    "start_time": "2021-11-17T21:21:35.255Z"
   },
   {
    "duration": 3,
    "start_time": "2021-11-17T21:21:37.804Z"
   },
   {
    "duration": 4,
    "start_time": "2021-11-17T21:23:06.071Z"
   },
   {
    "duration": 3,
    "start_time": "2021-11-17T21:23:24.799Z"
   },
   {
    "duration": 3,
    "start_time": "2021-11-17T21:23:32.591Z"
   },
   {
    "duration": 98,
    "start_time": "2021-11-17T21:28:31.559Z"
   },
   {
    "duration": 3,
    "start_time": "2021-11-17T21:28:45.448Z"
   },
   {
    "duration": 3,
    "start_time": "2021-11-17T21:29:17.303Z"
   },
   {
    "duration": 3,
    "start_time": "2021-11-17T21:29:29.617Z"
   },
   {
    "duration": 3,
    "start_time": "2021-11-17T21:29:32.681Z"
   },
   {
    "duration": 3,
    "start_time": "2021-11-17T21:36:11.474Z"
   },
   {
    "duration": 3,
    "start_time": "2021-11-17T21:36:14.791Z"
   },
   {
    "duration": 3,
    "start_time": "2021-11-17T21:36:53.943Z"
   },
   {
    "duration": 3,
    "start_time": "2021-11-17T21:36:56.165Z"
   },
   {
    "duration": 4,
    "start_time": "2021-11-17T21:37:16.590Z"
   },
   {
    "duration": 3,
    "start_time": "2021-11-17T21:37:22.702Z"
   },
   {
    "duration": 4,
    "start_time": "2021-11-17T21:38:03.479Z"
   },
   {
    "duration": 3,
    "start_time": "2021-11-17T21:38:08.601Z"
   },
   {
    "duration": 3,
    "start_time": "2021-11-17T21:38:12.928Z"
   },
   {
    "duration": 3,
    "start_time": "2021-11-17T21:38:48.896Z"
   },
   {
    "duration": 2,
    "start_time": "2021-11-17T21:38:49.171Z"
   },
   {
    "duration": 4,
    "start_time": "2021-11-17T21:39:57.889Z"
   },
   {
    "duration": 3,
    "start_time": "2021-11-17T21:39:58.057Z"
   },
   {
    "duration": 3,
    "start_time": "2021-11-17T21:41:20.108Z"
   },
   {
    "duration": 3,
    "start_time": "2021-11-17T21:41:20.629Z"
   },
   {
    "duration": 3,
    "start_time": "2021-11-17T21:42:49.136Z"
   },
   {
    "duration": 3,
    "start_time": "2021-11-17T21:43:15.137Z"
   },
   {
    "duration": 4,
    "start_time": "2021-11-17T21:43:16.766Z"
   },
   {
    "duration": 4,
    "start_time": "2021-11-17T21:43:31.711Z"
   },
   {
    "duration": 3,
    "start_time": "2021-11-17T21:43:36.312Z"
   },
   {
    "duration": 4,
    "start_time": "2021-11-17T21:45:08.825Z"
   },
   {
    "duration": 4,
    "start_time": "2021-11-17T21:45:10.119Z"
   },
   {
    "duration": 4,
    "start_time": "2021-11-17T21:45:13.748Z"
   },
   {
    "duration": 3,
    "start_time": "2021-11-17T21:45:22.219Z"
   },
   {
    "duration": 3,
    "start_time": "2021-11-17T21:45:33.412Z"
   },
   {
    "duration": 2,
    "start_time": "2021-11-17T21:46:01.885Z"
   },
   {
    "duration": 3,
    "start_time": "2021-11-17T21:46:03.628Z"
   },
   {
    "duration": 107,
    "start_time": "2021-11-17T21:47:32.512Z"
   },
   {
    "duration": 103,
    "start_time": "2021-11-17T21:50:36.243Z"
   },
   {
    "duration": 3,
    "start_time": "2021-11-18T06:28:31.440Z"
   },
   {
    "duration": 3,
    "start_time": "2021-11-18T06:29:00.168Z"
   },
   {
    "duration": 3,
    "start_time": "2021-11-18T06:31:27.008Z"
   },
   {
    "duration": 2,
    "start_time": "2021-11-18T06:35:34.288Z"
   },
   {
    "duration": 2,
    "start_time": "2021-11-18T06:38:04.527Z"
   },
   {
    "duration": 3,
    "start_time": "2024-09-20T23:45:25.322Z"
   },
   {
    "duration": 13,
    "start_time": "2024-09-20T23:46:01.537Z"
   },
   {
    "duration": 8,
    "start_time": "2024-09-20T23:46:05.737Z"
   },
   {
    "duration": 155,
    "start_time": "2024-09-20T23:47:40.931Z"
   },
   {
    "duration": 9,
    "start_time": "2024-09-21T00:28:37.263Z"
   },
   {
    "duration": 7,
    "start_time": "2024-09-21T00:28:47.028Z"
   },
   {
    "duration": 4,
    "start_time": "2024-09-21T00:31:52.539Z"
   },
   {
    "duration": 3,
    "start_time": "2024-09-21T00:37:31.268Z"
   },
   {
    "duration": 8,
    "start_time": "2024-09-21T00:37:36.854Z"
   },
   {
    "duration": 7,
    "start_time": "2024-09-21T00:37:39.571Z"
   },
   {
    "duration": 8,
    "start_time": "2024-09-21T00:38:50.550Z"
   },
   {
    "duration": 9,
    "start_time": "2024-09-21T00:39:02.501Z"
   },
   {
    "duration": 4,
    "start_time": "2024-09-21T00:48:54.648Z"
   },
   {
    "duration": 4,
    "start_time": "2024-09-21T00:49:01.769Z"
   },
   {
    "duration": 9,
    "start_time": "2024-09-21T00:49:12.684Z"
   },
   {
    "duration": 5,
    "start_time": "2024-09-21T00:51:43.907Z"
   },
   {
    "duration": 155,
    "start_time": "2024-09-21T00:54:22.759Z"
   },
   {
    "duration": 3,
    "start_time": "2024-09-21T00:54:27.310Z"
   },
   {
    "duration": 9,
    "start_time": "2024-09-21T00:54:29.710Z"
   },
   {
    "duration": 7,
    "start_time": "2024-09-21T00:54:32.494Z"
   },
   {
    "duration": 6,
    "start_time": "2024-09-21T00:55:36.559Z"
   },
   {
    "duration": 9,
    "start_time": "2024-09-21T00:55:40.631Z"
   },
   {
    "duration": 9,
    "start_time": "2024-09-21T00:55:49.186Z"
   },
   {
    "duration": 152,
    "start_time": "2024-09-21T00:56:12.228Z"
   },
   {
    "duration": 10,
    "start_time": "2024-09-21T00:56:16.072Z"
   },
   {
    "duration": 4,
    "start_time": "2024-09-21T00:56:20.969Z"
   },
   {
    "duration": 8,
    "start_time": "2024-09-21T00:56:22.961Z"
   },
   {
    "duration": 5,
    "start_time": "2024-09-21T00:56:47.583Z"
   },
   {
    "duration": 9,
    "start_time": "2024-09-21T00:56:49.666Z"
   },
   {
    "duration": 10,
    "start_time": "2024-09-21T00:57:11.670Z"
   },
   {
    "duration": 10,
    "start_time": "2024-09-21T00:57:15.625Z"
   },
   {
    "duration": 15,
    "start_time": "2024-09-21T00:58:34.010Z"
   },
   {
    "duration": 9,
    "start_time": "2024-09-21T00:58:46.889Z"
   },
   {
    "duration": 9,
    "start_time": "2024-09-21T01:02:45.092Z"
   },
   {
    "duration": 8,
    "start_time": "2024-09-21T01:02:56.297Z"
   },
   {
    "duration": 17,
    "start_time": "2024-09-21T01:04:23.036Z"
   },
   {
    "duration": 71,
    "start_time": "2024-09-21T01:05:50.554Z"
   },
   {
    "duration": 14,
    "start_time": "2024-09-21T01:05:53.328Z"
   },
   {
    "duration": 9,
    "start_time": "2024-09-21T01:05:56.516Z"
   },
   {
    "duration": 9,
    "start_time": "2024-09-21T01:05:57.132Z"
   },
   {
    "duration": 8,
    "start_time": "2024-09-21T01:05:57.842Z"
   },
   {
    "duration": 9,
    "start_time": "2024-09-21T01:05:58.910Z"
   },
   {
    "duration": 9,
    "start_time": "2024-09-21T01:05:59.703Z"
   },
   {
    "duration": 9,
    "start_time": "2024-09-21T01:06:02.885Z"
   },
   {
    "duration": 13,
    "start_time": "2024-09-21T01:06:03.686Z"
   },
   {
    "duration": 8,
    "start_time": "2024-09-21T01:06:04.297Z"
   },
   {
    "duration": 9,
    "start_time": "2024-09-21T01:06:04.953Z"
   },
   {
    "duration": 9,
    "start_time": "2024-09-21T01:06:05.649Z"
   },
   {
    "duration": 8,
    "start_time": "2024-09-21T01:06:06.948Z"
   },
   {
    "duration": 8,
    "start_time": "2024-09-21T01:06:07.368Z"
   },
   {
    "duration": 8,
    "start_time": "2024-09-21T01:06:07.919Z"
   },
   {
    "duration": 9,
    "start_time": "2024-09-21T01:06:08.278Z"
   },
   {
    "duration": 8,
    "start_time": "2024-09-21T01:06:08.698Z"
   },
   {
    "duration": 8,
    "start_time": "2024-09-21T01:06:09.173Z"
   },
   {
    "duration": 9,
    "start_time": "2024-09-21T01:06:10.605Z"
   },
   {
    "duration": 9,
    "start_time": "2024-09-21T01:06:11.074Z"
   },
   {
    "duration": 9,
    "start_time": "2024-09-21T01:06:11.468Z"
   },
   {
    "duration": 8,
    "start_time": "2024-09-21T01:06:11.797Z"
   },
   {
    "duration": 8,
    "start_time": "2024-09-21T01:06:12.006Z"
   },
   {
    "duration": 9,
    "start_time": "2024-09-21T01:06:12.239Z"
   },
   {
    "duration": 9,
    "start_time": "2024-09-21T01:06:12.479Z"
   },
   {
    "duration": 9,
    "start_time": "2024-09-21T01:06:12.697Z"
   },
   {
    "duration": 8,
    "start_time": "2024-09-21T01:06:12.905Z"
   },
   {
    "duration": 9,
    "start_time": "2024-09-21T01:06:13.098Z"
   },
   {
    "duration": 9,
    "start_time": "2024-09-21T01:06:13.277Z"
   },
   {
    "duration": 8,
    "start_time": "2024-09-21T01:06:13.482Z"
   },
   {
    "duration": 8,
    "start_time": "2024-09-21T01:06:14.021Z"
   },
   {
    "duration": 9,
    "start_time": "2024-09-21T01:06:14.371Z"
   },
   {
    "duration": 8,
    "start_time": "2024-09-21T01:06:14.945Z"
   },
   {
    "duration": 8,
    "start_time": "2024-09-21T01:06:15.234Z"
   },
   {
    "duration": 8,
    "start_time": "2024-09-21T01:06:16.009Z"
   },
   {
    "duration": 8,
    "start_time": "2024-09-21T01:06:16.377Z"
   },
   {
    "duration": 8,
    "start_time": "2024-09-21T01:06:17.102Z"
   },
   {
    "duration": 148,
    "start_time": "2024-09-21T01:06:41.998Z"
   },
   {
    "duration": 8,
    "start_time": "2024-09-21T01:06:47.760Z"
   },
   {
    "duration": 9,
    "start_time": "2024-09-21T01:06:48.428Z"
   },
   {
    "duration": 9,
    "start_time": "2024-09-21T01:06:49.061Z"
   },
   {
    "duration": 9,
    "start_time": "2024-09-21T01:06:51.035Z"
   },
   {
    "duration": 9,
    "start_time": "2024-09-21T01:06:51.714Z"
   },
   {
    "duration": 8,
    "start_time": "2024-09-21T01:06:52.369Z"
   },
   {
    "duration": 9,
    "start_time": "2024-09-21T01:06:55.211Z"
   },
   {
    "duration": 11,
    "start_time": "2024-09-21T01:06:56.053Z"
   },
   {
    "duration": 18,
    "start_time": "2024-09-21T01:06:59.402Z"
   },
   {
    "duration": 10,
    "start_time": "2024-09-21T01:07:01.729Z"
   },
   {
    "duration": 9,
    "start_time": "2024-09-21T01:07:02.562Z"
   },
   {
    "duration": 9,
    "start_time": "2024-09-21T01:07:02.987Z"
   },
   {
    "duration": 9,
    "start_time": "2024-09-21T01:07:03.410Z"
   },
   {
    "duration": 325,
    "start_time": "2024-09-21T01:23:57.703Z"
   },
   {
    "duration": 12,
    "start_time": "2024-09-21T01:24:01.663Z"
   },
   {
    "duration": 13,
    "start_time": "2024-09-21T01:24:07.450Z"
   },
   {
    "duration": 14,
    "start_time": "2024-09-21T01:26:18.926Z"
   },
   {
    "duration": 7,
    "start_time": "2024-09-21T01:26:45.094Z"
   },
   {
    "duration": 10,
    "start_time": "2024-09-21T01:30:50.529Z"
   },
   {
    "duration": 408,
    "start_time": "2024-09-21T01:30:52.509Z"
   },
   {
    "duration": 234,
    "start_time": "2024-09-21T01:31:01.567Z"
   },
   {
    "duration": 9,
    "start_time": "2024-09-21T01:31:04.698Z"
   },
   {
    "duration": 10,
    "start_time": "2024-09-21T01:31:07.098Z"
   },
   {
    "duration": 14,
    "start_time": "2024-09-21T01:32:00.473Z"
   },
   {
    "duration": 8,
    "start_time": "2024-09-21T01:32:24.682Z"
   },
   {
    "duration": 8,
    "start_time": "2024-09-21T01:32:30.923Z"
   },
   {
    "duration": 13,
    "start_time": "2024-09-21T01:33:42.982Z"
   },
   {
    "duration": 10,
    "start_time": "2024-09-21T01:33:45.205Z"
   },
   {
    "duration": 12,
    "start_time": "2024-09-21T01:33:48.416Z"
   },
   {
    "duration": 38,
    "start_time": "2024-09-21T01:34:08.253Z"
   },
   {
    "duration": 282,
    "start_time": "2024-09-21T01:34:24.077Z"
   },
   {
    "duration": 13,
    "start_time": "2024-09-21T01:34:26.968Z"
   },
   {
    "duration": 12,
    "start_time": "2024-09-21T01:34:29.588Z"
   },
   {
    "duration": 7,
    "start_time": "2024-09-21T01:35:09.711Z"
   },
   {
    "duration": 575,
    "start_time": "2024-09-23T18:10:16.076Z"
   },
   {
    "duration": 237,
    "start_time": "2024-09-23T18:10:18.780Z"
   },
   {
    "duration": 10,
    "start_time": "2024-09-23T18:10:20.919Z"
   },
   {
    "duration": 11,
    "start_time": "2024-09-23T18:10:22.345Z"
   },
   {
    "duration": 2,
    "start_time": "2024-09-23T18:10:24.545Z"
   },
   {
    "duration": 8,
    "start_time": "2024-09-23T18:10:26.067Z"
   },
   {
    "duration": 8,
    "start_time": "2024-09-23T18:10:28.054Z"
   },
   {
    "duration": 5,
    "start_time": "2024-09-23T18:10:29.794Z"
   },
   {
    "duration": 9,
    "start_time": "2024-09-23T18:10:38.809Z"
   },
   {
    "duration": 4,
    "start_time": "2024-09-23T18:10:41.356Z"
   },
   {
    "duration": 16,
    "start_time": "2024-09-23T18:10:46.575Z"
   },
   {
    "duration": 9,
    "start_time": "2024-09-23T18:10:48.912Z"
   },
   {
    "duration": 18,
    "start_time": "2024-09-23T18:10:52.272Z"
   },
   {
    "duration": 352,
    "start_time": "2024-09-23T18:10:54.164Z"
   },
   {
    "duration": 12,
    "start_time": "2024-09-23T18:10:56.561Z"
   },
   {
    "duration": 8,
    "start_time": "2024-09-23T18:10:58.054Z"
   },
   {
    "duration": 10,
    "start_time": "2024-09-23T18:11:00.315Z"
   },
   {
    "duration": 193,
    "start_time": "2024-09-23T18:11:02.113Z"
   },
   {
    "duration": 13,
    "start_time": "2024-09-23T18:11:04.015Z"
   },
   {
    "duration": 9,
    "start_time": "2024-09-23T18:11:08.603Z"
   },
   {
    "duration": 14,
    "start_time": "2024-09-23T18:11:10.837Z"
   },
   {
    "duration": 241,
    "start_time": "2024-09-23T18:11:12.230Z"
   },
   {
    "duration": 7,
    "start_time": "2024-09-23T18:11:14.609Z"
   },
   {
    "duration": 14,
    "start_time": "2024-09-23T18:14:29.156Z"
   },
   {
    "duration": 9,
    "start_time": "2024-09-23T18:14:37.377Z"
   },
   {
    "duration": 18,
    "start_time": "2024-09-23T18:15:24.701Z"
   },
   {
    "duration": 42,
    "start_time": "2024-09-23T18:22:49.483Z"
   },
   {
    "duration": 204,
    "start_time": "2024-09-23T18:23:12.008Z"
   },
   {
    "duration": 32,
    "start_time": "2024-09-23T18:23:23.392Z"
   },
   {
    "duration": 28,
    "start_time": "2024-09-23T18:25:22.449Z"
   },
   {
    "duration": 25,
    "start_time": "2024-09-23T18:25:30.107Z"
   },
   {
    "duration": 26,
    "start_time": "2024-09-23T18:25:39.521Z"
   },
   {
    "duration": 33,
    "start_time": "2024-09-23T18:26:17.202Z"
   },
   {
    "duration": 25,
    "start_time": "2024-09-23T18:26:22.535Z"
   },
   {
    "duration": 10,
    "start_time": "2024-09-23T18:28:06.455Z"
   },
   {
    "duration": 8,
    "start_time": "2024-09-23T18:28:11.051Z"
   },
   {
    "duration": 24,
    "start_time": "2024-09-23T18:28:33.269Z"
   },
   {
    "duration": 23,
    "start_time": "2024-09-23T18:29:52.792Z"
   },
   {
    "duration": 21,
    "start_time": "2024-09-23T18:29:55.523Z"
   },
   {
    "duration": 21,
    "start_time": "2024-09-23T18:29:56.670Z"
   },
   {
    "duration": 20,
    "start_time": "2024-09-23T18:29:57.547Z"
   },
   {
    "duration": 21,
    "start_time": "2024-09-23T18:29:58.501Z"
   },
   {
    "duration": 20,
    "start_time": "2024-09-23T18:30:01.382Z"
   },
   {
    "duration": 10,
    "start_time": "2024-09-23T18:32:13.902Z"
   },
   {
    "duration": 33,
    "start_time": "2024-09-23T18:33:08.633Z"
   },
   {
    "duration": 23,
    "start_time": "2024-09-23T18:33:13.591Z"
   },
   {
    "duration": 2,
    "start_time": "2024-09-23T18:36:38.284Z"
   },
   {
    "duration": 279,
    "start_time": "2024-09-23T18:37:36.748Z"
   },
   {
    "duration": 206,
    "start_time": "2024-09-23T18:38:04.365Z"
   },
   {
    "duration": 238,
    "start_time": "2024-09-23T18:38:15.964Z"
   },
   {
    "duration": 221,
    "start_time": "2024-09-23T18:38:23.088Z"
   },
   {
    "duration": 312,
    "start_time": "2024-09-23T18:38:55.616Z"
   },
   {
    "duration": 307,
    "start_time": "2024-09-23T18:39:26.898Z"
   },
   {
    "duration": 619,
    "start_time": "2024-09-23T18:39:32.513Z"
   },
   {
    "duration": 157,
    "start_time": "2024-09-23T18:39:33.134Z"
   },
   {
    "duration": 3,
    "start_time": "2024-09-23T18:39:33.293Z"
   },
   {
    "duration": 18,
    "start_time": "2024-09-23T18:39:33.298Z"
   },
   {
    "duration": 11,
    "start_time": "2024-09-23T18:39:33.319Z"
   },
   {
    "duration": 3,
    "start_time": "2024-09-23T18:39:33.333Z"
   },
   {
    "duration": 9,
    "start_time": "2024-09-23T18:39:33.337Z"
   },
   {
    "duration": 10,
    "start_time": "2024-09-23T18:39:33.348Z"
   },
   {
    "duration": 6,
    "start_time": "2024-09-23T18:39:33.360Z"
   },
   {
    "duration": 49,
    "start_time": "2024-09-23T18:39:33.368Z"
   },
   {
    "duration": 9,
    "start_time": "2024-09-23T18:39:33.419Z"
   },
   {
    "duration": 18,
    "start_time": "2024-09-23T18:39:33.430Z"
   },
   {
    "duration": 347,
    "start_time": "2024-09-23T18:39:33.451Z"
   },
   {
    "duration": 17,
    "start_time": "2024-09-23T18:39:33.802Z"
   },
   {
    "duration": 7,
    "start_time": "2024-09-23T18:39:33.821Z"
   },
   {
    "duration": 11,
    "start_time": "2024-09-23T18:39:33.829Z"
   },
   {
    "duration": 200,
    "start_time": "2024-09-23T18:39:33.841Z"
   },
   {
    "duration": 14,
    "start_time": "2024-09-23T18:39:34.042Z"
   },
   {
    "duration": 8,
    "start_time": "2024-09-23T18:39:34.058Z"
   },
   {
    "duration": 13,
    "start_time": "2024-09-23T18:39:34.068Z"
   },
   {
    "duration": 265,
    "start_time": "2024-09-23T18:39:34.083Z"
   },
   {
    "duration": 8,
    "start_time": "2024-09-23T18:39:34.350Z"
   },
   {
    "duration": 53,
    "start_time": "2024-09-23T18:39:34.359Z"
   },
   {
    "duration": 28,
    "start_time": "2024-09-23T18:39:34.414Z"
   },
   {
    "duration": 9,
    "start_time": "2024-09-23T18:39:34.444Z"
   },
   {
    "duration": 26,
    "start_time": "2024-09-23T18:39:34.455Z"
   },
   {
    "duration": 42,
    "start_time": "2024-09-23T18:39:34.483Z"
   },
   {
    "duration": 3,
    "start_time": "2024-09-23T18:39:34.526Z"
   },
   {
    "duration": 3,
    "start_time": "2024-09-23T18:39:34.530Z"
   },
   {
    "duration": 3,
    "start_time": "2024-09-23T18:39:34.534Z"
   },
   {
    "duration": 3,
    "start_time": "2024-09-23T18:39:34.538Z"
   },
   {
    "duration": 3,
    "start_time": "2024-09-23T18:39:34.543Z"
   },
   {
    "duration": 3,
    "start_time": "2024-09-23T18:39:34.547Z"
   },
   {
    "duration": 3,
    "start_time": "2024-09-23T18:39:34.551Z"
   },
   {
    "duration": 2,
    "start_time": "2024-09-23T18:39:34.556Z"
   },
   {
    "duration": 2,
    "start_time": "2024-09-23T18:39:34.560Z"
   },
   {
    "duration": 3,
    "start_time": "2024-09-23T18:39:34.564Z"
   },
   {
    "duration": 3,
    "start_time": "2024-09-23T18:39:34.612Z"
   },
   {
    "duration": 249,
    "start_time": "2024-09-23T18:40:39.850Z"
   },
   {
    "duration": 27,
    "start_time": "2024-09-23T18:40:51.989Z"
   },
   {
    "duration": 33,
    "start_time": "2024-09-23T18:42:03.440Z"
   },
   {
    "duration": 34,
    "start_time": "2024-09-23T18:42:21.586Z"
   },
   {
    "duration": 35,
    "start_time": "2024-09-23T18:42:22.655Z"
   },
   {
    "duration": 33,
    "start_time": "2024-09-23T18:42:23.777Z"
   },
   {
    "duration": 34,
    "start_time": "2024-09-23T18:42:24.531Z"
   },
   {
    "duration": 34,
    "start_time": "2024-09-23T18:42:25.484Z"
   },
   {
    "duration": 32,
    "start_time": "2024-09-23T18:42:57.350Z"
   },
   {
    "duration": 23,
    "start_time": "2024-09-23T18:52:22.392Z"
   },
   {
    "duration": 25,
    "start_time": "2024-09-23T18:52:32.721Z"
   },
   {
    "duration": 25,
    "start_time": "2024-09-23T18:52:48.913Z"
   },
   {
    "duration": 26,
    "start_time": "2024-09-23T18:52:57.149Z"
   },
   {
    "duration": 6,
    "start_time": "2024-09-23T19:18:39.886Z"
   },
   {
    "duration": 14,
    "start_time": "2024-09-23T19:18:56.240Z"
   },
   {
    "duration": 200,
    "start_time": "2024-09-23T19:21:08.482Z"
   },
   {
    "duration": 26,
    "start_time": "2024-09-23T19:21:13.101Z"
   },
   {
    "duration": 12,
    "start_time": "2024-09-23T19:21:27.643Z"
   },
   {
    "duration": 14,
    "start_time": "2024-09-23T19:23:35.384Z"
   },
   {
    "duration": 339,
    "start_time": "2024-09-23T19:29:35.801Z"
   },
   {
    "duration": 14,
    "start_time": "2024-09-23T19:31:10.429Z"
   },
   {
    "duration": 15,
    "start_time": "2024-09-23T19:31:17.589Z"
   },
   {
    "duration": 19,
    "start_time": "2024-09-23T19:34:32.585Z"
   },
   {
    "duration": 16,
    "start_time": "2024-09-23T19:35:46.626Z"
   },
   {
    "duration": 21,
    "start_time": "2024-09-23T19:36:04.482Z"
   },
   {
    "duration": 8,
    "start_time": "2024-09-23T19:36:30.880Z"
   },
   {
    "duration": 3,
    "start_time": "2024-09-23T19:37:07.391Z"
   },
   {
    "duration": 4,
    "start_time": "2024-09-23T19:37:18.844Z"
   },
   {
    "duration": 4,
    "start_time": "2024-09-23T19:37:33.640Z"
   },
   {
    "duration": 4,
    "start_time": "2024-09-23T19:37:40.297Z"
   },
   {
    "duration": 4,
    "start_time": "2024-09-23T19:37:43.193Z"
   },
   {
    "duration": 4,
    "start_time": "2024-09-23T19:37:45.257Z"
   },
   {
    "duration": 3,
    "start_time": "2024-09-23T19:37:54.967Z"
   },
   {
    "duration": 4,
    "start_time": "2024-09-23T19:37:59.945Z"
   },
   {
    "duration": 3,
    "start_time": "2024-09-23T19:38:18.868Z"
   },
   {
    "duration": 3,
    "start_time": "2024-09-23T19:38:22.295Z"
   },
   {
    "duration": 45,
    "start_time": "2024-09-23T19:39:15.088Z"
   },
   {
    "duration": 36,
    "start_time": "2024-09-23T19:39:41.859Z"
   },
   {
    "duration": 41,
    "start_time": "2024-09-23T19:39:47.054Z"
   },
   {
    "duration": 36,
    "start_time": "2024-09-23T19:39:57.055Z"
   },
   {
    "duration": 37,
    "start_time": "2024-09-23T19:40:33.418Z"
   },
   {
    "duration": 36,
    "start_time": "2024-09-23T19:40:47.030Z"
   },
   {
    "duration": 36,
    "start_time": "2024-09-23T19:41:02.276Z"
   },
   {
    "duration": 37,
    "start_time": "2024-09-23T19:41:03.427Z"
   },
   {
    "duration": 36,
    "start_time": "2024-09-23T19:41:04.165Z"
   },
   {
    "duration": 37,
    "start_time": "2024-09-23T19:41:07.366Z"
   },
   {
    "duration": 43,
    "start_time": "2024-09-23T19:41:07.997Z"
   },
   {
    "duration": 36,
    "start_time": "2024-09-23T19:41:08.490Z"
   },
   {
    "duration": 4,
    "start_time": "2024-09-23T19:41:25.073Z"
   },
   {
    "duration": 28,
    "start_time": "2024-09-24T03:40:45.625Z"
   },
   {
    "duration": 12,
    "start_time": "2024-09-24T03:48:08.139Z"
   },
   {
    "duration": 34,
    "start_time": "2024-09-24T03:51:06.839Z"
   },
   {
    "duration": 28,
    "start_time": "2024-09-24T03:52:10.431Z"
   },
   {
    "duration": 24,
    "start_time": "2024-09-24T04:55:36.781Z"
   },
   {
    "duration": 35,
    "start_time": "2024-09-24T04:57:03.702Z"
   },
   {
    "duration": 31,
    "start_time": "2024-09-24T04:57:07.485Z"
   },
   {
    "duration": 35,
    "start_time": "2024-09-24T04:57:22.178Z"
   },
   {
    "duration": 31,
    "start_time": "2024-09-24T04:57:30.232Z"
   },
   {
    "duration": 26,
    "start_time": "2024-09-24T04:57:51.437Z"
   },
   {
    "duration": 30,
    "start_time": "2024-09-24T04:57:57.207Z"
   },
   {
    "duration": 13,
    "start_time": "2024-09-24T04:58:07.016Z"
   },
   {
    "duration": 15,
    "start_time": "2024-09-24T04:58:43.130Z"
   },
   {
    "duration": 14,
    "start_time": "2024-09-24T04:59:43.214Z"
   },
   {
    "duration": 16,
    "start_time": "2024-09-24T05:01:15.556Z"
   },
   {
    "duration": 25,
    "start_time": "2024-09-24T05:01:28.446Z"
   },
   {
    "duration": 27,
    "start_time": "2024-09-24T05:10:32.092Z"
   },
   {
    "duration": 5,
    "start_time": "2024-09-24T05:35:38.307Z"
   },
   {
    "duration": 6,
    "start_time": "2024-09-24T05:36:50.803Z"
   },
   {
    "duration": 22,
    "start_time": "2024-09-24T05:37:05.172Z"
   },
   {
    "duration": 281,
    "start_time": "2024-09-24T05:37:14.587Z"
   },
   {
    "duration": 54,
    "start_time": "2024-09-24T05:37:25.412Z"
   },
   {
    "duration": 53,
    "start_time": "2024-09-24T05:37:44.492Z"
   },
   {
    "duration": 55,
    "start_time": "2024-09-24T05:38:07.599Z"
   },
   {
    "duration": 15,
    "start_time": "2024-09-24T05:40:37.495Z"
   },
   {
    "duration": 5,
    "start_time": "2024-09-24T05:41:30.254Z"
   },
   {
    "duration": 8,
    "start_time": "2024-09-24T05:41:34.403Z"
   },
   {
    "duration": 39,
    "start_time": "2024-09-24T05:41:50.677Z"
   },
   {
    "duration": 6,
    "start_time": "2024-09-24T05:45:03.619Z"
   },
   {
    "duration": 7,
    "start_time": "2024-09-24T05:45:40.748Z"
   },
   {
    "duration": 7,
    "start_time": "2024-09-24T05:45:55.655Z"
   },
   {
    "duration": 36,
    "start_time": "2024-09-24T05:48:05.548Z"
   },
   {
    "duration": 37,
    "start_time": "2024-09-24T05:48:13.023Z"
   },
   {
    "duration": 37,
    "start_time": "2024-09-24T05:48:31.911Z"
   },
   {
    "duration": 35,
    "start_time": "2024-09-24T05:48:53.899Z"
   },
   {
    "duration": 32,
    "start_time": "2024-09-24T05:49:09.982Z"
   },
   {
    "duration": 23,
    "start_time": "2024-09-24T05:49:30.586Z"
   },
   {
    "duration": 155,
    "start_time": "2024-09-24T17:13:10.261Z"
   },
   {
    "duration": 581,
    "start_time": "2024-09-24T17:13:25.218Z"
   },
   {
    "duration": 212,
    "start_time": "2024-09-24T17:13:25.801Z"
   },
   {
    "duration": 3,
    "start_time": "2024-09-24T17:13:26.014Z"
   },
   {
    "duration": 10,
    "start_time": "2024-09-24T17:13:26.019Z"
   },
   {
    "duration": 10,
    "start_time": "2024-09-24T17:13:26.032Z"
   },
   {
    "duration": 3,
    "start_time": "2024-09-24T17:13:26.043Z"
   },
   {
    "duration": 8,
    "start_time": "2024-09-24T17:13:26.047Z"
   },
   {
    "duration": 8,
    "start_time": "2024-09-24T17:13:26.056Z"
   },
   {
    "duration": 6,
    "start_time": "2024-09-24T17:13:26.065Z"
   },
   {
    "duration": 15,
    "start_time": "2024-09-24T17:13:26.072Z"
   },
   {
    "duration": 37,
    "start_time": "2024-09-24T17:13:26.088Z"
   },
   {
    "duration": 18,
    "start_time": "2024-09-24T17:13:26.127Z"
   },
   {
    "duration": 328,
    "start_time": "2024-09-24T17:13:26.147Z"
   },
   {
    "duration": 12,
    "start_time": "2024-09-24T17:13:26.480Z"
   },
   {
    "duration": 8,
    "start_time": "2024-09-24T17:13:26.493Z"
   },
   {
    "duration": 27,
    "start_time": "2024-09-24T17:13:26.502Z"
   },
   {
    "duration": 186,
    "start_time": "2024-09-24T17:13:26.530Z"
   },
   {
    "duration": 13,
    "start_time": "2024-09-24T17:13:26.718Z"
   },
   {
    "duration": 8,
    "start_time": "2024-09-24T17:13:26.733Z"
   },
   {
    "duration": 12,
    "start_time": "2024-09-24T17:13:26.742Z"
   },
   {
    "duration": 252,
    "start_time": "2024-09-24T17:13:26.756Z"
   },
   {
    "duration": 15,
    "start_time": "2024-09-24T17:13:27.010Z"
   },
   {
    "duration": 37,
    "start_time": "2024-09-24T17:13:27.027Z"
   },
   {
    "duration": 27,
    "start_time": "2024-09-24T17:13:27.066Z"
   },
   {
    "duration": 29,
    "start_time": "2024-09-24T17:13:27.095Z"
   },
   {
    "duration": 36,
    "start_time": "2024-09-24T17:13:27.126Z"
   },
   {
    "duration": 42,
    "start_time": "2024-09-24T17:13:27.168Z"
   },
   {
    "duration": 8,
    "start_time": "2024-09-24T17:13:27.223Z"
   },
   {
    "duration": 35,
    "start_time": "2024-09-24T17:13:27.233Z"
   },
   {
    "duration": 2,
    "start_time": "2024-09-24T17:13:27.271Z"
   },
   {
    "duration": 3,
    "start_time": "2024-09-24T17:13:27.275Z"
   },
   {
    "duration": 2,
    "start_time": "2024-09-24T17:13:27.280Z"
   },
   {
    "duration": 2,
    "start_time": "2024-09-24T17:13:27.284Z"
   },
   {
    "duration": 3,
    "start_time": "2024-09-24T17:13:27.288Z"
   },
   {
    "duration": 3,
    "start_time": "2024-09-24T17:13:27.324Z"
   },
   {
    "duration": 2,
    "start_time": "2024-09-24T17:13:27.330Z"
   },
   {
    "duration": 3,
    "start_time": "2024-09-24T17:13:27.334Z"
   },
   {
    "duration": 2,
    "start_time": "2024-09-24T17:13:27.339Z"
   },
   {
    "duration": 2,
    "start_time": "2024-09-24T17:13:27.343Z"
   },
   {
    "duration": 203,
    "start_time": "2024-09-24T17:13:47.331Z"
   },
   {
    "duration": 21,
    "start_time": "2024-09-24T17:13:51.907Z"
   },
   {
    "duration": 2,
    "start_time": "2024-09-24T17:36:54.901Z"
   },
   {
    "duration": 15,
    "start_time": "2024-09-24T17:37:56.810Z"
   },
   {
    "duration": 49,
    "start_time": "2024-09-24T17:54:58.516Z"
   },
   {
    "duration": 12,
    "start_time": "2024-09-24T17:55:49.698Z"
   },
   {
    "duration": 63,
    "start_time": "2024-09-24T17:55:54.194Z"
   },
   {
    "duration": 3,
    "start_time": "2024-09-24T17:58:31.494Z"
   },
   {
    "duration": 9,
    "start_time": "2024-09-24T17:58:32.917Z"
   },
   {
    "duration": 3,
    "start_time": "2024-09-24T17:59:26.413Z"
   },
   {
    "duration": 3,
    "start_time": "2024-09-24T17:59:35.460Z"
   },
   {
    "duration": 7,
    "start_time": "2024-09-24T17:59:37.390Z"
   },
   {
    "duration": 4,
    "start_time": "2024-09-24T18:00:28.259Z"
   },
   {
    "duration": 8,
    "start_time": "2024-09-24T18:00:30.282Z"
   },
   {
    "duration": 3,
    "start_time": "2024-09-24T18:03:40.856Z"
   },
   {
    "duration": 7,
    "start_time": "2024-09-24T18:03:41.455Z"
   },
   {
    "duration": 3,
    "start_time": "2024-09-24T18:04:02.259Z"
   },
   {
    "duration": 13,
    "start_time": "2024-09-24T18:04:03.294Z"
   },
   {
    "duration": 8,
    "start_time": "2024-09-24T18:04:15.137Z"
   },
   {
    "duration": 11,
    "start_time": "2024-09-24T18:04:16.202Z"
   },
   {
    "duration": 571,
    "start_time": "2024-09-24T18:04:24.697Z"
   },
   {
    "duration": 3,
    "start_time": "2024-09-24T18:04:38.809Z"
   },
   {
    "duration": 6,
    "start_time": "2024-09-24T18:04:40.657Z"
   },
   {
    "duration": 13,
    "start_time": "2024-09-24T18:05:58.246Z"
   },
   {
    "duration": 5,
    "start_time": "2024-09-24T18:06:01.054Z"
   },
   {
    "duration": 7,
    "start_time": "2024-09-24T18:12:21.565Z"
   },
   {
    "duration": 33,
    "start_time": "2024-09-24T18:12:43.437Z"
   },
   {
    "duration": 153,
    "start_time": "2024-09-24T18:42:59.620Z"
   },
   {
    "duration": 13,
    "start_time": "2024-09-24T18:43:37.992Z"
   },
   {
    "duration": 9,
    "start_time": "2024-09-24T18:44:44.944Z"
   },
   {
    "duration": 49,
    "start_time": "2024-09-24T18:44:47.218Z"
   },
   {
    "duration": 20,
    "start_time": "2024-09-24T18:45:29.431Z"
   },
   {
    "duration": 18,
    "start_time": "2024-09-24T18:45:30.417Z"
   },
   {
    "duration": 30,
    "start_time": "2024-09-24T18:45:32.891Z"
   },
   {
    "duration": 4,
    "start_time": "2024-09-24T18:46:54.977Z"
   },
   {
    "duration": 9,
    "start_time": "2024-09-24T18:49:37.494Z"
   },
   {
    "duration": 23,
    "start_time": "2024-09-24T18:49:38.844Z"
   },
   {
    "duration": 27,
    "start_time": "2024-09-24T18:54:28.320Z"
   },
   {
    "duration": 27,
    "start_time": "2024-09-24T18:56:24.464Z"
   },
   {
    "duration": 21,
    "start_time": "2024-09-24T18:56:45.266Z"
   },
   {
    "duration": 189,
    "start_time": "2024-09-24T19:06:15.018Z"
   },
   {
    "duration": 10,
    "start_time": "2024-09-24T19:06:44.902Z"
   },
   {
    "duration": 33,
    "start_time": "2024-09-24T19:06:46.911Z"
   },
   {
    "duration": 24,
    "start_time": "2024-09-24T19:07:48.529Z"
   },
   {
    "duration": 22,
    "start_time": "2024-09-24T19:08:05.991Z"
   },
   {
    "duration": 11,
    "start_time": "2024-09-24T19:08:22.486Z"
   },
   {
    "duration": 35,
    "start_time": "2024-09-24T19:08:24.572Z"
   },
   {
    "duration": 23,
    "start_time": "2024-09-24T19:08:45.885Z"
   },
   {
    "duration": 41,
    "start_time": "2024-09-24T19:09:29.677Z"
   },
   {
    "duration": 15,
    "start_time": "2024-09-24T19:09:49.215Z"
   },
   {
    "duration": 23,
    "start_time": "2024-09-24T19:09:52.190Z"
   },
   {
    "duration": 23,
    "start_time": "2024-09-24T19:10:28.653Z"
   },
   {
    "duration": 24,
    "start_time": "2024-09-24T19:10:55.091Z"
   },
   {
    "duration": 18,
    "start_time": "2024-09-24T19:11:01.628Z"
   },
   {
    "duration": 17,
    "start_time": "2024-09-24T19:11:07.451Z"
   },
   {
    "duration": 13,
    "start_time": "2024-09-24T19:11:13.159Z"
   },
   {
    "duration": 4,
    "start_time": "2024-09-24T19:11:24.362Z"
   },
   {
    "duration": 7,
    "start_time": "2024-09-24T19:11:25.678Z"
   },
   {
    "duration": 26,
    "start_time": "2024-09-24T19:11:27.617Z"
   },
   {
    "duration": 14,
    "start_time": "2024-09-24T19:11:38.695Z"
   },
   {
    "duration": 3,
    "start_time": "2024-09-24T19:11:41.835Z"
   },
   {
    "duration": 8,
    "start_time": "2024-09-24T19:11:42.494Z"
   },
   {
    "duration": 22,
    "start_time": "2024-09-24T19:11:43.837Z"
   },
   {
    "duration": 19,
    "start_time": "2024-09-24T19:11:56.708Z"
   },
   {
    "duration": 3,
    "start_time": "2024-09-24T19:19:19.513Z"
   },
   {
    "duration": 4,
    "start_time": "2024-09-24T19:19:23.240Z"
   },
   {
    "duration": 9,
    "start_time": "2024-09-24T19:19:24.007Z"
   },
   {
    "duration": 20,
    "start_time": "2024-09-24T19:19:27.738Z"
   },
   {
    "duration": 3,
    "start_time": "2024-09-24T19:20:21.065Z"
   },
   {
    "duration": 9,
    "start_time": "2024-09-24T19:20:21.908Z"
   },
   {
    "duration": 16,
    "start_time": "2024-09-24T19:20:23.166Z"
   },
   {
    "duration": 4,
    "start_time": "2024-09-24T19:20:40.461Z"
   },
   {
    "duration": 11,
    "start_time": "2024-09-24T19:20:41.177Z"
   },
   {
    "duration": 19,
    "start_time": "2024-09-24T19:20:42.263Z"
   },
   {
    "duration": 3,
    "start_time": "2024-09-24T19:20:50.210Z"
   },
   {
    "duration": 9,
    "start_time": "2024-09-24T19:20:50.981Z"
   },
   {
    "duration": 8,
    "start_time": "2024-09-24T19:20:51.781Z"
   },
   {
    "duration": 3,
    "start_time": "2024-09-24T19:21:01.642Z"
   },
   {
    "duration": 9,
    "start_time": "2024-09-24T19:21:02.318Z"
   },
   {
    "duration": 26,
    "start_time": "2024-09-24T19:21:03.865Z"
   },
   {
    "duration": 3,
    "start_time": "2024-09-24T19:21:30.161Z"
   },
   {
    "duration": 8,
    "start_time": "2024-09-24T19:21:30.865Z"
   },
   {
    "duration": 8,
    "start_time": "2024-09-24T19:21:32.071Z"
   },
   {
    "duration": 16,
    "start_time": "2024-09-24T19:21:33.213Z"
   },
   {
    "duration": 16,
    "start_time": "2024-09-24T19:26:03.271Z"
   },
   {
    "duration": 4,
    "start_time": "2024-09-24T19:44:00.467Z"
   },
   {
    "duration": 198,
    "start_time": "2024-09-24T19:45:02.963Z"
   },
   {
    "duration": 64,
    "start_time": "2024-09-24T19:45:40.205Z"
   },
   {
    "duration": 3,
    "start_time": "2024-09-24T19:46:11.260Z"
   },
   {
    "duration": 72,
    "start_time": "2024-09-24T19:46:15.813Z"
   },
   {
    "duration": 21,
    "start_time": "2024-09-24T19:47:01.533Z"
   },
   {
    "duration": 23,
    "start_time": "2024-09-24T19:47:24.452Z"
   },
   {
    "duration": 50,
    "start_time": "2024-09-24T19:48:04.886Z"
   },
   {
    "duration": 47,
    "start_time": "2024-09-24T19:51:22.585Z"
   },
   {
    "duration": 20,
    "start_time": "2024-09-24T19:51:30.550Z"
   },
   {
    "duration": 578,
    "start_time": "2024-09-24T19:53:27.919Z"
   },
   {
    "duration": 158,
    "start_time": "2024-09-24T19:53:28.499Z"
   },
   {
    "duration": 3,
    "start_time": "2024-09-24T19:53:28.659Z"
   },
   {
    "duration": 10,
    "start_time": "2024-09-24T19:53:28.663Z"
   },
   {
    "duration": 11,
    "start_time": "2024-09-24T19:53:28.675Z"
   },
   {
    "duration": 3,
    "start_time": "2024-09-24T19:53:28.687Z"
   },
   {
    "duration": 8,
    "start_time": "2024-09-24T19:53:28.691Z"
   },
   {
    "duration": 7,
    "start_time": "2024-09-24T19:53:28.725Z"
   },
   {
    "duration": 4,
    "start_time": "2024-09-24T19:53:28.734Z"
   },
   {
    "duration": 15,
    "start_time": "2024-09-24T19:53:28.740Z"
   },
   {
    "duration": 9,
    "start_time": "2024-09-24T19:53:28.757Z"
   },
   {
    "duration": 18,
    "start_time": "2024-09-24T19:53:28.768Z"
   },
   {
    "duration": 328,
    "start_time": "2024-09-24T19:53:28.823Z"
   },
   {
    "duration": 12,
    "start_time": "2024-09-24T19:53:29.156Z"
   },
   {
    "duration": 8,
    "start_time": "2024-09-24T19:53:29.170Z"
   },
   {
    "duration": 11,
    "start_time": "2024-09-24T19:53:29.180Z"
   },
   {
    "duration": 211,
    "start_time": "2024-09-24T19:53:29.192Z"
   },
   {
    "duration": 19,
    "start_time": "2024-09-24T19:53:29.405Z"
   },
   {
    "duration": 8,
    "start_time": "2024-09-24T19:53:29.426Z"
   },
   {
    "duration": 12,
    "start_time": "2024-09-24T19:53:29.436Z"
   },
   {
    "duration": 250,
    "start_time": "2024-09-24T19:53:29.450Z"
   },
   {
    "duration": 6,
    "start_time": "2024-09-24T19:53:29.702Z"
   },
   {
    "duration": 52,
    "start_time": "2024-09-24T19:53:29.710Z"
   },
   {
    "duration": 29,
    "start_time": "2024-09-24T19:53:29.764Z"
   },
   {
    "duration": 31,
    "start_time": "2024-09-24T19:53:29.794Z"
   },
   {
    "duration": 25,
    "start_time": "2024-09-24T19:53:29.827Z"
   },
   {
    "duration": 25,
    "start_time": "2024-09-24T19:53:29.854Z"
   },
   {
    "duration": 3,
    "start_time": "2024-09-24T19:53:29.881Z"
   },
   {
    "duration": 41,
    "start_time": "2024-09-24T19:53:29.886Z"
   },
   {
    "duration": 6,
    "start_time": "2024-09-24T19:53:29.928Z"
   },
   {
    "duration": 12,
    "start_time": "2024-09-24T19:53:29.936Z"
   },
   {
    "duration": 3,
    "start_time": "2024-09-24T19:53:29.950Z"
   },
   {
    "duration": 21,
    "start_time": "2024-09-24T19:53:29.955Z"
   },
   {
    "duration": 14,
    "start_time": "2024-09-24T19:53:29.977Z"
   },
   {
    "duration": 34,
    "start_time": "2024-09-24T19:53:29.993Z"
   },
   {
    "duration": 3,
    "start_time": "2024-09-24T19:53:30.028Z"
   },
   {
    "duration": 2,
    "start_time": "2024-09-24T19:53:30.033Z"
   },
   {
    "duration": 2,
    "start_time": "2024-09-24T19:53:30.036Z"
   },
   {
    "duration": 2,
    "start_time": "2024-09-24T19:53:30.040Z"
   },
   {
    "duration": 2,
    "start_time": "2024-09-24T19:53:30.044Z"
   },
   {
    "duration": 2,
    "start_time": "2024-09-24T19:53:30.053Z"
   },
   {
    "duration": 2,
    "start_time": "2024-09-24T19:53:30.057Z"
   },
   {
    "duration": 15,
    "start_time": "2024-09-24T19:55:16.353Z"
   },
   {
    "duration": 21,
    "start_time": "2024-09-24T19:55:45.118Z"
   },
   {
    "duration": 14,
    "start_time": "2024-09-24T19:55:47.105Z"
   },
   {
    "duration": 619,
    "start_time": "2024-09-24T19:58:42.970Z"
   },
   {
    "duration": 158,
    "start_time": "2024-09-24T19:58:43.591Z"
   },
   {
    "duration": 2,
    "start_time": "2024-09-24T19:58:43.755Z"
   },
   {
    "duration": 9,
    "start_time": "2024-09-24T19:58:43.759Z"
   },
   {
    "duration": 11,
    "start_time": "2024-09-24T19:58:43.770Z"
   },
   {
    "duration": 2,
    "start_time": "2024-09-24T19:58:43.783Z"
   },
   {
    "duration": 37,
    "start_time": "2024-09-24T19:58:43.787Z"
   },
   {
    "duration": 7,
    "start_time": "2024-09-24T19:58:43.828Z"
   },
   {
    "duration": 4,
    "start_time": "2024-09-24T19:58:43.837Z"
   },
   {
    "duration": 17,
    "start_time": "2024-09-24T19:58:43.843Z"
   },
   {
    "duration": 11,
    "start_time": "2024-09-24T19:58:43.863Z"
   },
   {
    "duration": 59,
    "start_time": "2024-09-24T19:58:43.876Z"
   },
   {
    "duration": 332,
    "start_time": "2024-09-24T19:58:43.937Z"
   },
   {
    "duration": 12,
    "start_time": "2024-09-24T19:58:44.271Z"
   },
   {
    "duration": 8,
    "start_time": "2024-09-24T19:58:44.284Z"
   },
   {
    "duration": 33,
    "start_time": "2024-09-24T19:58:44.294Z"
   },
   {
    "duration": 179,
    "start_time": "2024-09-24T19:58:44.329Z"
   },
   {
    "duration": 17,
    "start_time": "2024-09-24T19:58:44.509Z"
   },
   {
    "duration": 7,
    "start_time": "2024-09-24T19:58:44.528Z"
   },
   {
    "duration": 13,
    "start_time": "2024-09-24T19:58:44.537Z"
   },
   {
    "duration": 260,
    "start_time": "2024-09-24T19:58:44.552Z"
   },
   {
    "duration": 11,
    "start_time": "2024-09-24T19:58:44.814Z"
   },
   {
    "duration": 38,
    "start_time": "2024-09-24T19:58:44.827Z"
   },
   {
    "duration": 27,
    "start_time": "2024-09-24T19:58:44.867Z"
   },
   {
    "duration": 38,
    "start_time": "2024-09-24T19:58:44.896Z"
   },
   {
    "duration": 26,
    "start_time": "2024-09-24T19:58:44.938Z"
   },
   {
    "duration": 29,
    "start_time": "2024-09-24T19:58:44.965Z"
   },
   {
    "duration": 30,
    "start_time": "2024-09-24T19:58:44.995Z"
   },
   {
    "duration": 8,
    "start_time": "2024-09-24T19:58:45.027Z"
   },
   {
    "duration": 6,
    "start_time": "2024-09-24T19:58:45.036Z"
   },
   {
    "duration": 14,
    "start_time": "2024-09-24T19:58:45.044Z"
   },
   {
    "duration": 4,
    "start_time": "2024-09-24T19:58:45.060Z"
   },
   {
    "duration": 57,
    "start_time": "2024-09-24T19:58:45.066Z"
   },
   {
    "duration": 21,
    "start_time": "2024-09-24T19:58:45.125Z"
   },
   {
    "duration": 2,
    "start_time": "2024-09-24T19:58:45.147Z"
   },
   {
    "duration": 3,
    "start_time": "2024-09-24T19:58:45.151Z"
   },
   {
    "duration": 2,
    "start_time": "2024-09-24T19:58:45.156Z"
   },
   {
    "duration": 2,
    "start_time": "2024-09-24T19:58:45.160Z"
   },
   {
    "duration": 2,
    "start_time": "2024-09-24T19:58:45.164Z"
   },
   {
    "duration": 3,
    "start_time": "2024-09-24T19:58:45.168Z"
   },
   {
    "duration": 3,
    "start_time": "2024-09-24T19:58:45.173Z"
   },
   {
    "duration": 46,
    "start_time": "2024-09-24T19:58:45.178Z"
   },
   {
    "duration": 123,
    "start_time": "2024-09-24T20:51:12.527Z"
   },
   {
    "duration": 5,
    "start_time": "2024-09-24T20:51:18.310Z"
   },
   {
    "duration": 12,
    "start_time": "2024-09-24T20:51:20.177Z"
   },
   {
    "duration": 6,
    "start_time": "2024-09-24T20:51:52.265Z"
   },
   {
    "duration": 21,
    "start_time": "2024-09-24T20:52:00.355Z"
   },
   {
    "duration": 16,
    "start_time": "2024-09-24T20:53:40.112Z"
   },
   {
    "duration": 34,
    "start_time": "2024-09-24T22:19:21.821Z"
   },
   {
    "duration": 29,
    "start_time": "2024-09-24T22:19:41.889Z"
   },
   {
    "duration": 23,
    "start_time": "2024-09-24T22:19:57.107Z"
   },
   {
    "duration": 396,
    "start_time": "2024-09-24T22:21:50.396Z"
   },
   {
    "duration": 38,
    "start_time": "2024-09-24T22:22:01.140Z"
   },
   {
    "duration": 32,
    "start_time": "2024-09-24T22:22:06.654Z"
   },
   {
    "duration": 27,
    "start_time": "2024-09-24T22:22:10.238Z"
   },
   {
    "duration": 30,
    "start_time": "2024-09-24T22:22:15.649Z"
   },
   {
    "duration": 4,
    "start_time": "2024-09-24T22:22:20.589Z"
   },
   {
    "duration": 9,
    "start_time": "2024-09-24T22:22:21.340Z"
   },
   {
    "duration": 18,
    "start_time": "2024-09-24T22:22:22.211Z"
   },
   {
    "duration": 14,
    "start_time": "2024-09-24T22:22:24.686Z"
   },
   {
    "duration": 15,
    "start_time": "2024-09-24T22:22:29.192Z"
   },
   {
    "duration": 4,
    "start_time": "2024-09-24T22:22:36.367Z"
   },
   {
    "duration": 28,
    "start_time": "2024-09-24T22:22:37.619Z"
   },
   {
    "duration": 19,
    "start_time": "2024-09-24T22:22:39.251Z"
   },
   {
    "duration": 4,
    "start_time": "2024-09-24T22:23:58.894Z"
   },
   {
    "duration": 21,
    "start_time": "2024-09-24T22:23:59.704Z"
   },
   {
    "duration": 18,
    "start_time": "2024-09-24T22:24:00.416Z"
   },
   {
    "duration": 116,
    "start_time": "2024-09-24T22:24:40.847Z"
   },
   {
    "duration": 20,
    "start_time": "2024-09-24T22:25:19.236Z"
   },
   {
    "duration": 18,
    "start_time": "2024-09-24T22:25:20.138Z"
   },
   {
    "duration": 10,
    "start_time": "2024-09-24T22:26:22.921Z"
   },
   {
    "duration": 31,
    "start_time": "2024-09-24T22:28:00.528Z"
   },
   {
    "duration": 40,
    "start_time": "2024-09-24T22:28:53.433Z"
   },
   {
    "duration": 14,
    "start_time": "2024-09-24T22:28:55.877Z"
   },
   {
    "duration": 12,
    "start_time": "2024-09-24T22:29:06.556Z"
   },
   {
    "duration": 236,
    "start_time": "2024-09-24T22:31:27.395Z"
   },
   {
    "duration": 15,
    "start_time": "2024-09-24T22:31:33.313Z"
   },
   {
    "duration": 14,
    "start_time": "2024-09-24T22:35:49.537Z"
   },
   {
    "duration": 556,
    "start_time": "2024-09-24T22:37:04.801Z"
   },
   {
    "duration": 154,
    "start_time": "2024-09-24T22:37:05.359Z"
   },
   {
    "duration": 2,
    "start_time": "2024-09-24T22:37:05.515Z"
   },
   {
    "duration": 9,
    "start_time": "2024-09-24T22:37:05.519Z"
   },
   {
    "duration": 10,
    "start_time": "2024-09-24T22:37:05.530Z"
   },
   {
    "duration": 3,
    "start_time": "2024-09-24T22:37:05.542Z"
   },
   {
    "duration": 9,
    "start_time": "2024-09-24T22:37:05.547Z"
   },
   {
    "duration": 9,
    "start_time": "2024-09-24T22:37:05.559Z"
   },
   {
    "duration": 5,
    "start_time": "2024-09-24T22:37:05.569Z"
   },
   {
    "duration": 59,
    "start_time": "2024-09-24T22:37:05.575Z"
   },
   {
    "duration": 9,
    "start_time": "2024-09-24T22:37:05.635Z"
   },
   {
    "duration": 19,
    "start_time": "2024-09-24T22:37:05.645Z"
   },
   {
    "duration": 365,
    "start_time": "2024-09-24T22:37:05.666Z"
   },
   {
    "duration": 11,
    "start_time": "2024-09-24T22:37:06.035Z"
   },
   {
    "duration": 8,
    "start_time": "2024-09-24T22:37:06.047Z"
   },
   {
    "duration": 10,
    "start_time": "2024-09-24T22:37:06.056Z"
   },
   {
    "duration": 220,
    "start_time": "2024-09-24T22:37:06.069Z"
   },
   {
    "duration": 13,
    "start_time": "2024-09-24T22:37:06.291Z"
   },
   {
    "duration": 21,
    "start_time": "2024-09-24T22:37:06.306Z"
   },
   {
    "duration": 12,
    "start_time": "2024-09-24T22:37:06.329Z"
   },
   {
    "duration": 245,
    "start_time": "2024-09-24T22:37:06.343Z"
   },
   {
    "duration": 6,
    "start_time": "2024-09-24T22:37:06.590Z"
   },
   {
    "duration": 52,
    "start_time": "2024-09-24T22:37:06.597Z"
   },
   {
    "duration": 28,
    "start_time": "2024-09-24T22:37:06.651Z"
   },
   {
    "duration": 11,
    "start_time": "2024-09-24T22:37:06.681Z"
   },
   {
    "duration": 45,
    "start_time": "2024-09-24T22:37:06.693Z"
   },
   {
    "duration": 27,
    "start_time": "2024-09-24T22:37:06.740Z"
   },
   {
    "duration": 4,
    "start_time": "2024-09-24T22:37:06.769Z"
   },
   {
    "duration": 8,
    "start_time": "2024-09-24T22:37:06.775Z"
   },
   {
    "duration": 49,
    "start_time": "2024-09-24T22:37:06.784Z"
   },
   {
    "duration": 14,
    "start_time": "2024-09-24T22:37:06.834Z"
   },
   {
    "duration": 4,
    "start_time": "2024-09-24T22:37:06.850Z"
   },
   {
    "duration": 219,
    "start_time": "2024-09-24T22:37:06.856Z"
   },
   {
    "duration": 13,
    "start_time": "2024-09-24T22:37:07.077Z"
   },
   {
    "duration": 3,
    "start_time": "2024-09-24T22:37:07.091Z"
   },
   {
    "duration": 3,
    "start_time": "2024-09-24T22:37:07.095Z"
   },
   {
    "duration": 25,
    "start_time": "2024-09-24T22:37:07.100Z"
   },
   {
    "duration": 4,
    "start_time": "2024-09-24T22:37:07.127Z"
   },
   {
    "duration": 4,
    "start_time": "2024-09-24T22:37:07.132Z"
   },
   {
    "duration": 2,
    "start_time": "2024-09-24T22:37:07.138Z"
   },
   {
    "duration": 2,
    "start_time": "2024-09-24T22:37:07.145Z"
   },
   {
    "duration": 3,
    "start_time": "2024-09-24T22:37:07.148Z"
   },
   {
    "duration": 14,
    "start_time": "2024-09-24T22:37:16.008Z"
   },
   {
    "duration": 14,
    "start_time": "2024-09-24T22:37:36.231Z"
   },
   {
    "duration": 12,
    "start_time": "2024-09-24T22:37:43.824Z"
   },
   {
    "duration": 559,
    "start_time": "2024-09-24T22:38:03.604Z"
   },
   {
    "duration": 41,
    "start_time": "2024-09-24T22:38:12.282Z"
   },
   {
    "duration": 3,
    "start_time": "2024-09-24T22:38:33.582Z"
   },
   {
    "duration": 228,
    "start_time": "2024-09-24T22:39:37.302Z"
   },
   {
    "duration": 14,
    "start_time": "2024-09-24T22:39:40.022Z"
   },
   {
    "duration": 3,
    "start_time": "2024-09-24T22:40:17.997Z"
   },
   {
    "duration": 3,
    "start_time": "2024-09-24T22:41:37.233Z"
   },
   {
    "duration": 10,
    "start_time": "2024-09-24T22:41:44.502Z"
   },
   {
    "duration": 10,
    "start_time": "2024-09-24T22:42:07.877Z"
   },
   {
    "duration": 11,
    "start_time": "2024-09-24T22:42:23.590Z"
   },
   {
    "duration": 14,
    "start_time": "2024-09-24T22:42:48.056Z"
   },
   {
    "duration": 12,
    "start_time": "2024-09-24T22:43:14.563Z"
   },
   {
    "duration": 12,
    "start_time": "2024-09-24T23:05:51.494Z"
   },
   {
    "duration": 30,
    "start_time": "2024-09-24T23:07:27.084Z"
   },
   {
    "duration": 13,
    "start_time": "2024-09-24T23:07:34.566Z"
   },
   {
    "duration": 5,
    "start_time": "2024-09-24T23:12:31.427Z"
   },
   {
    "duration": 18,
    "start_time": "2024-09-24T23:12:39.858Z"
   },
   {
    "duration": 12,
    "start_time": "2024-09-24T23:14:47.399Z"
   },
   {
    "duration": 11,
    "start_time": "2024-09-24T23:14:52.394Z"
   },
   {
    "duration": 27,
    "start_time": "2024-09-24T23:17:11.049Z"
   },
   {
    "duration": 19,
    "start_time": "2024-09-24T23:17:23.891Z"
   },
   {
    "duration": 24,
    "start_time": "2024-09-24T23:17:51.205Z"
   },
   {
    "duration": 28,
    "start_time": "2024-09-24T23:18:10.117Z"
   },
   {
    "duration": 1849,
    "start_time": "2024-09-24T23:18:43.744Z"
   },
   {
    "duration": 199,
    "start_time": "2024-09-24T23:19:16.062Z"
   },
   {
    "duration": 25,
    "start_time": "2024-09-24T23:19:37.243Z"
   },
   {
    "duration": 158,
    "start_time": "2024-09-24T23:19:39.571Z"
   },
   {
    "duration": 159,
    "start_time": "2024-09-24T23:22:01.407Z"
   },
   {
    "duration": 163,
    "start_time": "2024-09-24T23:22:42.743Z"
   },
   {
    "duration": 177,
    "start_time": "2024-09-24T23:22:53.518Z"
   },
   {
    "duration": 65,
    "start_time": "2024-09-24T23:23:28.088Z"
   },
   {
    "duration": 13,
    "start_time": "2024-09-24T23:24:52.143Z"
   },
   {
    "duration": 27,
    "start_time": "2024-09-24T23:25:29.227Z"
   },
   {
    "duration": 165,
    "start_time": "2024-09-24T23:27:59.251Z"
   },
   {
    "duration": 34,
    "start_time": "2024-09-24T23:29:53.565Z"
   },
   {
    "duration": 160,
    "start_time": "2024-09-24T23:29:56.095Z"
   },
   {
    "duration": 254,
    "start_time": "2024-09-24T23:30:39.494Z"
   },
   {
    "duration": 167,
    "start_time": "2024-09-24T23:31:07.615Z"
   },
   {
    "duration": 373,
    "start_time": "2024-09-24T23:31:58.071Z"
   },
   {
    "duration": 167,
    "start_time": "2024-09-24T23:32:06.187Z"
   },
   {
    "duration": 245,
    "start_time": "2024-09-24T23:32:19.325Z"
   },
   {
    "duration": 159,
    "start_time": "2024-09-24T23:32:36.743Z"
   },
   {
    "duration": 28,
    "start_time": "2024-09-24T23:34:53.151Z"
   },
   {
    "duration": 179,
    "start_time": "2024-09-24T23:35:12.336Z"
   },
   {
    "duration": 196,
    "start_time": "2024-09-24T23:35:32.463Z"
   },
   {
    "duration": 182,
    "start_time": "2024-09-24T23:36:10.609Z"
   },
   {
    "duration": 194,
    "start_time": "2024-09-24T23:37:28.371Z"
   },
   {
    "duration": 199,
    "start_time": "2024-09-24T23:37:47.492Z"
   },
   {
    "duration": 177,
    "start_time": "2024-09-24T23:48:33.101Z"
   },
   {
    "duration": 158,
    "start_time": "2024-09-24T23:49:04.401Z"
   },
   {
    "duration": 183,
    "start_time": "2024-09-24T23:49:26.732Z"
   },
   {
    "duration": 189,
    "start_time": "2024-09-24T23:50:16.094Z"
   },
   {
    "duration": 4,
    "start_time": "2024-09-24T23:52:32.816Z"
   },
   {
    "duration": 174,
    "start_time": "2024-09-24T23:52:44.843Z"
   },
   {
    "duration": 205,
    "start_time": "2024-09-24T23:52:57.206Z"
   },
   {
    "duration": 203,
    "start_time": "2024-09-24T23:53:14.430Z"
   },
   {
    "duration": 327,
    "start_time": "2024-09-24T23:53:43.375Z"
   },
   {
    "duration": 217,
    "start_time": "2024-09-24T23:53:57.520Z"
   },
   {
    "duration": 195,
    "start_time": "2024-09-24T23:54:36.844Z"
   },
   {
    "duration": 196,
    "start_time": "2024-09-24T23:55:02.220Z"
   },
   {
    "duration": 207,
    "start_time": "2024-09-24T23:55:14.136Z"
   },
   {
    "duration": 189,
    "start_time": "2024-09-24T23:55:32.508Z"
   },
   {
    "duration": 206,
    "start_time": "2024-09-24T23:55:53.639Z"
   },
   {
    "duration": 204,
    "start_time": "2024-09-24T23:56:49.975Z"
   },
   {
    "duration": 158,
    "start_time": "2024-09-24T23:57:54.830Z"
   },
   {
    "duration": 203,
    "start_time": "2024-09-24T23:58:08.263Z"
   },
   {
    "duration": 380,
    "start_time": "2024-09-25T00:01:05.805Z"
   },
   {
    "duration": 166,
    "start_time": "2024-09-25T00:01:39.054Z"
   },
   {
    "duration": 177,
    "start_time": "2024-09-25T00:01:54.962Z"
   },
   {
    "duration": 202,
    "start_time": "2024-09-25T00:02:01.221Z"
   },
   {
    "duration": 211,
    "start_time": "2024-09-25T00:02:44.761Z"
   },
   {
    "duration": 397,
    "start_time": "2024-09-25T00:03:41.571Z"
   },
   {
    "duration": 375,
    "start_time": "2024-09-25T00:04:02.328Z"
   },
   {
    "duration": 2727,
    "start_time": "2024-09-25T16:32:59.682Z"
   },
   {
    "duration": 245,
    "start_time": "2024-09-25T16:33:02.411Z"
   },
   {
    "duration": 3,
    "start_time": "2024-09-25T16:33:02.658Z"
   },
   {
    "duration": 12,
    "start_time": "2024-09-25T16:33:02.664Z"
   },
   {
    "duration": 13,
    "start_time": "2024-09-25T16:33:02.678Z"
   },
   {
    "duration": 4,
    "start_time": "2024-09-25T16:33:02.693Z"
   },
   {
    "duration": 8,
    "start_time": "2024-09-25T16:33:02.699Z"
   },
   {
    "duration": 34,
    "start_time": "2024-09-25T16:33:02.710Z"
   },
   {
    "duration": 6,
    "start_time": "2024-09-25T16:33:02.747Z"
   },
   {
    "duration": 20,
    "start_time": "2024-09-25T16:33:02.757Z"
   },
   {
    "duration": 10,
    "start_time": "2024-09-25T16:33:02.779Z"
   },
   {
    "duration": 19,
    "start_time": "2024-09-25T16:33:02.791Z"
   },
   {
    "duration": 351,
    "start_time": "2024-09-25T16:33:02.842Z"
   },
   {
    "duration": 14,
    "start_time": "2024-09-25T16:33:03.194Z"
   },
   {
    "duration": 7,
    "start_time": "2024-09-25T16:33:03.210Z"
   },
   {
    "duration": 23,
    "start_time": "2024-09-25T16:33:03.220Z"
   },
   {
    "duration": 209,
    "start_time": "2024-09-25T16:33:03.244Z"
   },
   {
    "duration": 17,
    "start_time": "2024-09-25T16:33:03.456Z"
   },
   {
    "duration": 9,
    "start_time": "2024-09-25T16:33:03.475Z"
   },
   {
    "duration": 13,
    "start_time": "2024-09-25T16:33:03.486Z"
   },
   {
    "duration": 292,
    "start_time": "2024-09-25T16:33:03.501Z"
   },
   {
    "duration": 7,
    "start_time": "2024-09-25T16:33:03.795Z"
   },
   {
    "duration": 59,
    "start_time": "2024-09-25T16:33:03.804Z"
   },
   {
    "duration": 30,
    "start_time": "2024-09-25T16:33:03.866Z"
   },
   {
    "duration": 11,
    "start_time": "2024-09-25T16:33:03.898Z"
   },
   {
    "duration": 45,
    "start_time": "2024-09-25T16:33:03.911Z"
   },
   {
    "duration": 33,
    "start_time": "2024-09-25T16:33:03.958Z"
   },
   {
    "duration": 3,
    "start_time": "2024-09-25T16:33:03.996Z"
   },
   {
    "duration": 38,
    "start_time": "2024-09-25T16:33:04.002Z"
   },
   {
    "duration": 17,
    "start_time": "2024-09-25T16:33:04.042Z"
   },
   {
    "duration": 14,
    "start_time": "2024-09-25T16:33:04.061Z"
   },
   {
    "duration": 4,
    "start_time": "2024-09-25T16:33:04.078Z"
   },
   {
    "duration": 252,
    "start_time": "2024-09-25T16:33:04.084Z"
   },
   {
    "duration": 12,
    "start_time": "2024-09-25T16:33:04.342Z"
   },
   {
    "duration": 25,
    "start_time": "2024-09-25T16:33:04.356Z"
   },
   {
    "duration": 35,
    "start_time": "2024-09-25T16:33:04.383Z"
   },
   {
    "duration": 215,
    "start_time": "2024-09-25T16:33:04.420Z"
   },
   {
    "duration": 536,
    "start_time": "2024-09-25T16:33:04.643Z"
   },
   {
    "duration": 8,
    "start_time": "2024-09-25T16:33:05.183Z"
   },
   {
    "duration": 3,
    "start_time": "2024-09-25T16:33:05.193Z"
   },
   {
    "duration": 4,
    "start_time": "2024-09-25T16:33:05.198Z"
   },
   {
    "duration": 4,
    "start_time": "2024-09-25T16:33:05.205Z"
   },
   {
    "duration": 2,
    "start_time": "2024-09-25T16:33:05.211Z"
   },
   {
    "duration": 2,
    "start_time": "2024-09-25T16:33:05.216Z"
   },
   {
    "duration": 3,
    "start_time": "2024-09-25T16:37:04.044Z"
   },
   {
    "duration": 212,
    "start_time": "2024-09-25T16:40:35.587Z"
   },
   {
    "duration": 4,
    "start_time": "2024-09-25T16:40:41.251Z"
   },
   {
    "duration": 14,
    "start_time": "2024-09-25T16:40:55.069Z"
   },
   {
    "duration": 363,
    "start_time": "2024-09-25T16:41:23.336Z"
   },
   {
    "duration": 21,
    "start_time": "2024-09-25T16:41:36.129Z"
   },
   {
    "duration": 78,
    "start_time": "2024-09-25T16:41:46.349Z"
   },
   {
    "duration": 41,
    "start_time": "2024-09-25T16:43:05.639Z"
   },
   {
    "duration": 41,
    "start_time": "2024-09-25T16:43:10.756Z"
   },
   {
    "duration": 23,
    "start_time": "2024-09-25T16:43:39.398Z"
   },
   {
    "duration": 14,
    "start_time": "2024-09-25T16:46:38.328Z"
   },
   {
    "duration": 14,
    "start_time": "2024-09-25T16:46:42.904Z"
   },
   {
    "duration": 13,
    "start_time": "2024-09-25T16:46:57.426Z"
   },
   {
    "duration": 14,
    "start_time": "2024-09-25T16:48:22.213Z"
   },
   {
    "duration": 63,
    "start_time": "2024-09-25T16:49:00.292Z"
   },
   {
    "duration": 33,
    "start_time": "2024-09-25T16:52:37.052Z"
   },
   {
    "duration": 34,
    "start_time": "2024-09-25T16:52:42.951Z"
   },
   {
    "duration": 17,
    "start_time": "2024-09-25T16:54:23.891Z"
   },
   {
    "duration": 27,
    "start_time": "2024-09-25T16:54:47.238Z"
   },
   {
    "duration": 25,
    "start_time": "2024-09-25T16:57:37.688Z"
   },
   {
    "duration": 28,
    "start_time": "2024-09-25T16:57:52.246Z"
   },
   {
    "duration": 29,
    "start_time": "2024-09-25T17:01:07.490Z"
   },
   {
    "duration": 14,
    "start_time": "2024-09-25T17:03:25.984Z"
   },
   {
    "duration": 28,
    "start_time": "2024-09-25T17:03:31.160Z"
   },
   {
    "duration": 98,
    "start_time": "2024-09-25T17:03:32.366Z"
   },
   {
    "duration": 83,
    "start_time": "2024-09-25T17:04:09.811Z"
   },
   {
    "duration": 46,
    "start_time": "2024-09-25T17:04:34.754Z"
   },
   {
    "duration": 84,
    "start_time": "2024-09-25T17:04:37.747Z"
   },
   {
    "duration": 29,
    "start_time": "2024-09-25T17:08:10.332Z"
   },
   {
    "duration": 45,
    "start_time": "2024-09-25T17:11:28.660Z"
   },
   {
    "duration": 40,
    "start_time": "2024-09-25T17:11:33.995Z"
   },
   {
    "duration": 40,
    "start_time": "2024-09-25T17:12:09.722Z"
   },
   {
    "duration": 39,
    "start_time": "2024-09-25T17:12:59.992Z"
   },
   {
    "duration": 321,
    "start_time": "2024-09-25T17:13:36.987Z"
   },
   {
    "duration": 94,
    "start_time": "2024-09-25T17:13:48.802Z"
   },
   {
    "duration": 93,
    "start_time": "2024-09-25T17:17:05.372Z"
   },
   {
    "duration": 100,
    "start_time": "2024-09-25T17:19:09.628Z"
   },
   {
    "duration": 292,
    "start_time": "2024-09-25T17:19:53.387Z"
   },
   {
    "duration": 107,
    "start_time": "2024-09-25T17:20:15.066Z"
   },
   {
    "duration": 101,
    "start_time": "2024-09-25T17:21:08.879Z"
   },
   {
    "duration": 106,
    "start_time": "2024-09-25T17:21:45.739Z"
   },
   {
    "duration": 108,
    "start_time": "2024-09-25T17:21:52.620Z"
   },
   {
    "duration": 209,
    "start_time": "2024-09-25T17:21:55.943Z"
   },
   {
    "duration": 109,
    "start_time": "2024-09-25T17:22:56.198Z"
   },
   {
    "duration": 110,
    "start_time": "2024-09-25T17:23:52.897Z"
   },
   {
    "duration": 206,
    "start_time": "2024-09-25T17:25:22.728Z"
   },
   {
    "duration": 214,
    "start_time": "2024-09-25T17:26:23.798Z"
   },
   {
    "duration": 222,
    "start_time": "2024-09-25T17:28:26.763Z"
   },
   {
    "duration": 315,
    "start_time": "2024-09-25T17:31:57.783Z"
   },
   {
    "duration": 218,
    "start_time": "2024-09-25T17:33:30.604Z"
   },
   {
    "duration": 13,
    "start_time": "2024-09-25T18:03:44.722Z"
   },
   {
    "duration": 11,
    "start_time": "2024-09-25T18:03:49.270Z"
   },
   {
    "duration": 7,
    "start_time": "2024-09-25T18:03:55.920Z"
   },
   {
    "duration": 7,
    "start_time": "2024-09-25T18:09:24.980Z"
   },
   {
    "duration": 32,
    "start_time": "2024-09-25T18:09:58.111Z"
   },
   {
    "duration": 20,
    "start_time": "2024-09-25T18:10:42.387Z"
   },
   {
    "duration": 28,
    "start_time": "2024-09-25T18:11:05.255Z"
   },
   {
    "duration": 27,
    "start_time": "2024-09-25T18:11:50.376Z"
   },
   {
    "duration": 22,
    "start_time": "2024-09-25T18:12:01.407Z"
   },
   {
    "duration": 18,
    "start_time": "2024-09-25T18:12:22.249Z"
   },
   {
    "duration": 137,
    "start_time": "2024-09-25T18:12:48.735Z"
   },
   {
    "duration": 169,
    "start_time": "2024-09-25T18:13:35.301Z"
   },
   {
    "duration": 164,
    "start_time": "2024-09-25T18:13:48.335Z"
   },
   {
    "duration": 18,
    "start_time": "2024-09-25T18:14:11.506Z"
   },
   {
    "duration": 151,
    "start_time": "2024-09-25T18:14:12.558Z"
   },
   {
    "duration": 157,
    "start_time": "2024-09-25T18:15:36.609Z"
   },
   {
    "duration": 669,
    "start_time": "2024-09-25T18:15:47.104Z"
   },
   {
    "duration": 158,
    "start_time": "2024-09-25T18:15:53.748Z"
   },
   {
    "duration": 171,
    "start_time": "2024-09-25T18:17:18.672Z"
   },
   {
    "duration": 176,
    "start_time": "2024-09-25T18:17:35.042Z"
   },
   {
    "duration": 40,
    "start_time": "2024-09-25T18:18:16.445Z"
   },
   {
    "duration": 166,
    "start_time": "2024-09-25T18:18:17.283Z"
   },
   {
    "duration": 167,
    "start_time": "2024-09-25T18:18:42.374Z"
   },
   {
    "duration": 179,
    "start_time": "2024-09-25T18:18:56.597Z"
   },
   {
    "duration": 324,
    "start_time": "2024-09-25T18:19:02.562Z"
   },
   {
    "duration": 160,
    "start_time": "2024-09-25T18:19:09.666Z"
   },
   {
    "duration": 5,
    "start_time": "2024-09-25T18:26:10.137Z"
   },
   {
    "duration": 9,
    "start_time": "2024-09-25T18:26:22.964Z"
   },
   {
    "duration": 143,
    "start_time": "2024-09-25T18:26:27.873Z"
   },
   {
    "duration": 156,
    "start_time": "2024-09-25T18:26:52.618Z"
   },
   {
    "duration": 92,
    "start_time": "2024-09-25T18:27:10.883Z"
   },
   {
    "duration": 87,
    "start_time": "2024-09-25T18:27:34.767Z"
   },
   {
    "duration": 97,
    "start_time": "2024-09-25T18:29:19.611Z"
   },
   {
    "duration": 97,
    "start_time": "2024-09-25T18:29:51.742Z"
   },
   {
    "duration": 99,
    "start_time": "2024-09-25T18:30:42.807Z"
   },
   {
    "duration": 98,
    "start_time": "2024-09-25T18:44:51.960Z"
   },
   {
    "duration": 377,
    "start_time": "2024-09-25T18:47:29.541Z"
   },
   {
    "duration": 388,
    "start_time": "2024-09-25T18:55:34.637Z"
   },
   {
    "duration": 204,
    "start_time": "2024-09-25T18:55:56.460Z"
   },
   {
    "duration": 427,
    "start_time": "2024-09-25T18:56:22.624Z"
   },
   {
    "duration": 78,
    "start_time": "2024-09-25T18:57:36.986Z"
   },
   {
    "duration": 22,
    "start_time": "2024-09-25T18:57:52.882Z"
   },
   {
    "duration": 23,
    "start_time": "2024-09-25T18:57:56.385Z"
   },
   {
    "duration": 36,
    "start_time": "2024-09-25T18:58:00.470Z"
   },
   {
    "duration": 22,
    "start_time": "2024-09-25T18:59:30.378Z"
   },
   {
    "duration": 27,
    "start_time": "2024-09-25T18:59:35.375Z"
   },
   {
    "duration": 78,
    "start_time": "2024-09-25T19:00:48.955Z"
   },
   {
    "duration": 36,
    "start_time": "2024-09-25T19:01:00.139Z"
   },
   {
    "duration": 169,
    "start_time": "2024-09-25T19:01:02.918Z"
   },
   {
    "duration": 86,
    "start_time": "2024-09-25T19:02:46.828Z"
   },
   {
    "duration": 51,
    "start_time": "2024-09-25T19:02:48.773Z"
   },
   {
    "duration": 41,
    "start_time": "2024-09-25T19:02:58.014Z"
   },
   {
    "duration": 168,
    "start_time": "2024-09-25T19:02:59.644Z"
   },
   {
    "duration": 32,
    "start_time": "2024-09-25T19:03:45.926Z"
   },
   {
    "duration": 53,
    "start_time": "2024-09-25T19:08:56.344Z"
   },
   {
    "duration": 38,
    "start_time": "2024-09-25T19:09:04.233Z"
   },
   {
    "duration": 163,
    "start_time": "2024-09-25T19:09:09.894Z"
   },
   {
    "duration": 43,
    "start_time": "2024-09-25T19:09:55.012Z"
   },
   {
    "duration": 85,
    "start_time": "2024-09-25T19:12:51.720Z"
   },
   {
    "duration": 62,
    "start_time": "2024-09-25T19:14:32.872Z"
   },
   {
    "duration": 59,
    "start_time": "2024-09-25T19:16:08.723Z"
   },
   {
    "duration": 160,
    "start_time": "2024-09-25T19:16:25.017Z"
   },
   {
    "duration": 169,
    "start_time": "2024-09-25T19:17:55.274Z"
   },
   {
    "duration": 57,
    "start_time": "2024-09-25T19:18:13.593Z"
   },
   {
    "duration": 159,
    "start_time": "2024-09-25T19:18:14.527Z"
   },
   {
    "duration": 164,
    "start_time": "2024-09-25T19:21:02.572Z"
   },
   {
    "duration": 329,
    "start_time": "2024-09-25T19:23:01.094Z"
   },
   {
    "duration": 316,
    "start_time": "2024-09-25T19:23:24.778Z"
   },
   {
    "duration": 8,
    "start_time": "2024-09-25T19:25:17.409Z"
   },
   {
    "duration": 18,
    "start_time": "2024-09-25T19:25:56.845Z"
   },
   {
    "duration": 32,
    "start_time": "2024-09-25T19:27:57.875Z"
   },
   {
    "duration": 31,
    "start_time": "2024-09-25T19:28:22.165Z"
   },
   {
    "duration": 141,
    "start_time": "2024-09-25T19:28:44.824Z"
   },
   {
    "duration": 35,
    "start_time": "2024-09-25T19:28:53.736Z"
   },
   {
    "duration": 11,
    "start_time": "2024-09-25T19:29:08.070Z"
   },
   {
    "duration": 25,
    "start_time": "2024-09-25T19:29:20.937Z"
   },
   {
    "duration": 5,
    "start_time": "2024-09-25T19:30:36.644Z"
   },
   {
    "duration": 100,
    "start_time": "2024-09-25T19:32:06.054Z"
   },
   {
    "duration": 12,
    "start_time": "2024-09-25T19:32:12.672Z"
   },
   {
    "duration": 13,
    "start_time": "2024-09-25T19:32:59.124Z"
   },
   {
    "duration": 14,
    "start_time": "2024-09-25T19:33:10.680Z"
   },
   {
    "duration": 12,
    "start_time": "2024-09-25T19:33:27.700Z"
   },
   {
    "duration": 12,
    "start_time": "2024-09-25T19:34:57.543Z"
   },
   {
    "duration": 12,
    "start_time": "2024-09-25T19:35:08.846Z"
   },
   {
    "duration": 11,
    "start_time": "2024-09-25T19:35:15.496Z"
   },
   {
    "duration": 18,
    "start_time": "2024-09-25T19:35:50.102Z"
   },
   {
    "duration": 26,
    "start_time": "2024-09-25T19:38:51.698Z"
   },
   {
    "duration": 41,
    "start_time": "2024-09-25T19:38:59.882Z"
   },
   {
    "duration": 11,
    "start_time": "2024-09-25T19:40:45.594Z"
   },
   {
    "duration": 8,
    "start_time": "2024-09-25T19:40:53.245Z"
   },
   {
    "duration": 9,
    "start_time": "2024-09-25T19:41:16.518Z"
   },
   {
    "duration": 59,
    "start_time": "2024-09-25T20:41:09.045Z"
   },
   {
    "duration": 58,
    "start_time": "2024-09-25T20:42:03.546Z"
   },
   {
    "duration": 49,
    "start_time": "2024-09-25T20:44:22.690Z"
   },
   {
    "duration": 62,
    "start_time": "2024-09-25T20:44:26.212Z"
   },
   {
    "duration": 56,
    "start_time": "2024-09-25T20:44:56.339Z"
   },
   {
    "duration": 45,
    "start_time": "2024-09-25T21:25:52.228Z"
   },
   {
    "duration": 58,
    "start_time": "2024-09-25T21:33:32.997Z"
   },
   {
    "duration": 51,
    "start_time": "2024-09-25T21:33:45.306Z"
   },
   {
    "duration": 15,
    "start_time": "2024-09-25T21:35:58.666Z"
   },
   {
    "duration": 37,
    "start_time": "2024-09-25T21:36:04.105Z"
   },
   {
    "duration": 26,
    "start_time": "2024-09-25T21:36:06.408Z"
   },
   {
    "duration": 20,
    "start_time": "2024-09-25T21:36:25.026Z"
   },
   {
    "duration": 29,
    "start_time": "2024-09-25T21:36:28.473Z"
   },
   {
    "duration": 169,
    "start_time": "2024-09-25T21:36:58.452Z"
   },
   {
    "duration": 56,
    "start_time": "2024-09-25T21:38:56.624Z"
   },
   {
    "duration": 51,
    "start_time": "2024-09-25T21:39:18.900Z"
   },
   {
    "duration": 161,
    "start_time": "2024-09-25T21:39:29.110Z"
   },
   {
    "duration": 65,
    "start_time": "2024-09-25T21:41:52.074Z"
   },
   {
    "duration": 206,
    "start_time": "2024-09-25T21:41:56.384Z"
   },
   {
    "duration": 185,
    "start_time": "2024-09-25T21:44:56.168Z"
   },
   {
    "duration": 195,
    "start_time": "2024-09-25T21:50:23.305Z"
   },
   {
    "duration": 712,
    "start_time": "2024-09-25T21:50:47.556Z"
   },
   {
    "duration": 166,
    "start_time": "2024-09-25T21:50:52.767Z"
   },
   {
    "duration": 44,
    "start_time": "2024-09-25T21:51:27.427Z"
   },
   {
    "duration": 210,
    "start_time": "2024-09-25T21:51:29.383Z"
   },
   {
    "duration": 79,
    "start_time": "2024-09-25T21:56:06.311Z"
   },
   {
    "duration": 31,
    "start_time": "2024-09-25T21:56:37.674Z"
   },
   {
    "duration": 26,
    "start_time": "2024-09-25T21:56:56.430Z"
   },
   {
    "duration": 19,
    "start_time": "2024-09-25T23:12:01.107Z"
   },
   {
    "duration": 25,
    "start_time": "2024-09-25T23:12:10.924Z"
   },
   {
    "duration": 5,
    "start_time": "2024-09-25T23:12:37.597Z"
   },
   {
    "duration": 29,
    "start_time": "2024-09-25T23:12:47.332Z"
   },
   {
    "duration": 251,
    "start_time": "2024-09-25T23:14:36.428Z"
   },
   {
    "duration": 9210,
    "start_time": "2024-09-25T23:15:30.158Z"
   },
   {
    "duration": 304,
    "start_time": "2024-09-25T23:16:39.830Z"
   },
   {
    "duration": 13,
    "start_time": "2024-09-25T23:24:23.723Z"
   },
   {
    "duration": 629,
    "start_time": "2024-09-25T23:25:17.593Z"
   },
   {
    "duration": 11,
    "start_time": "2024-09-25T23:28:31.937Z"
   },
   {
    "duration": 18,
    "start_time": "2024-09-25T23:29:08.278Z"
   },
   {
    "duration": 9,
    "start_time": "2024-09-25T23:29:22.696Z"
   },
   {
    "duration": 28,
    "start_time": "2024-09-25T23:39:11.527Z"
   },
   {
    "duration": 6,
    "start_time": "2024-09-25T23:39:57.211Z"
   },
   {
    "duration": 7,
    "start_time": "2024-09-25T23:40:07.452Z"
   },
   {
    "duration": 26,
    "start_time": "2024-09-25T23:41:24.509Z"
   },
   {
    "duration": 26,
    "start_time": "2024-09-25T23:41:39.199Z"
   },
   {
    "duration": 39,
    "start_time": "2024-09-25T23:42:39.104Z"
   },
   {
    "duration": 38,
    "start_time": "2024-09-25T23:42:47.619Z"
   },
   {
    "duration": 28,
    "start_time": "2024-09-25T23:43:42.379Z"
   },
   {
    "duration": 39,
    "start_time": "2024-09-25T23:45:54.065Z"
   },
   {
    "duration": 51,
    "start_time": "2024-09-25T23:45:59.060Z"
   },
   {
    "duration": 29,
    "start_time": "2024-09-25T23:46:08.188Z"
   },
   {
    "duration": 27,
    "start_time": "2024-09-25T23:48:26.710Z"
   },
   {
    "duration": 33,
    "start_time": "2024-09-25T23:48:36.150Z"
   },
   {
    "duration": 34,
    "start_time": "2024-09-25T23:48:40.283Z"
   },
   {
    "duration": 122,
    "start_time": "2024-09-25T23:48:47.485Z"
   },
   {
    "duration": 142,
    "start_time": "2024-09-25T23:49:27.108Z"
   },
   {
    "duration": 140,
    "start_time": "2024-09-25T23:50:50.864Z"
   },
   {
    "duration": 106,
    "start_time": "2024-09-25T23:51:38.224Z"
   },
   {
    "duration": 88,
    "start_time": "2024-09-25T23:54:31.553Z"
   },
   {
    "duration": 99,
    "start_time": "2024-09-25T23:54:57.308Z"
   },
   {
    "duration": 5,
    "start_time": "2024-09-26T00:07:59.491Z"
   },
   {
    "duration": 28,
    "start_time": "2024-09-26T00:09:32.759Z"
   },
   {
    "duration": 101,
    "start_time": "2024-09-26T00:09:35.742Z"
   },
   {
    "duration": 9,
    "start_time": "2024-09-26T00:11:35.991Z"
   },
   {
    "duration": 94,
    "start_time": "2024-09-26T00:11:50.402Z"
   },
   {
    "duration": 8,
    "start_time": "2024-09-26T00:12:27.113Z"
   },
   {
    "duration": 85,
    "start_time": "2024-09-26T00:12:29.804Z"
   },
   {
    "duration": 13,
    "start_time": "2024-09-26T00:12:35.314Z"
   },
   {
    "duration": 61,
    "start_time": "2024-09-26T00:13:19.477Z"
   },
   {
    "duration": 24,
    "start_time": "2024-09-26T00:14:13.019Z"
   },
   {
    "duration": 85,
    "start_time": "2024-09-26T00:14:22.233Z"
   },
   {
    "duration": 97,
    "start_time": "2024-09-26T00:14:49.919Z"
   },
   {
    "duration": 5,
    "start_time": "2024-09-26T00:15:11.667Z"
   },
   {
    "duration": 4,
    "start_time": "2024-09-26T00:16:15.580Z"
   },
   {
    "duration": 2635,
    "start_time": "2024-09-26T18:59:02.188Z"
   },
   {
    "duration": 239,
    "start_time": "2024-09-26T18:59:04.826Z"
   },
   {
    "duration": 3,
    "start_time": "2024-09-26T18:59:05.066Z"
   },
   {
    "duration": 10,
    "start_time": "2024-09-26T18:59:05.071Z"
   },
   {
    "duration": 10,
    "start_time": "2024-09-26T18:59:05.083Z"
   },
   {
    "duration": 3,
    "start_time": "2024-09-26T18:59:05.094Z"
   },
   {
    "duration": 9,
    "start_time": "2024-09-26T18:59:05.099Z"
   },
   {
    "duration": 8,
    "start_time": "2024-09-26T18:59:05.110Z"
   },
   {
    "duration": 5,
    "start_time": "2024-09-26T18:59:05.119Z"
   },
   {
    "duration": 15,
    "start_time": "2024-09-26T18:59:05.129Z"
   },
   {
    "duration": 45,
    "start_time": "2024-09-26T18:59:05.145Z"
   },
   {
    "duration": 20,
    "start_time": "2024-09-26T18:59:05.192Z"
   },
   {
    "duration": 319,
    "start_time": "2024-09-26T18:59:05.214Z"
   },
   {
    "duration": 12,
    "start_time": "2024-09-26T18:59:05.535Z"
   },
   {
    "duration": 7,
    "start_time": "2024-09-26T18:59:05.548Z"
   },
   {
    "duration": 29,
    "start_time": "2024-09-26T18:59:05.557Z"
   },
   {
    "duration": 194,
    "start_time": "2024-09-26T18:59:05.588Z"
   },
   {
    "duration": 14,
    "start_time": "2024-09-26T18:59:05.787Z"
   },
   {
    "duration": 8,
    "start_time": "2024-09-26T18:59:05.802Z"
   },
   {
    "duration": 13,
    "start_time": "2024-09-26T18:59:05.812Z"
   },
   {
    "duration": 268,
    "start_time": "2024-09-26T18:59:05.827Z"
   },
   {
    "duration": 8,
    "start_time": "2024-09-26T18:59:06.096Z"
   },
   {
    "duration": 40,
    "start_time": "2024-09-26T18:59:06.106Z"
   },
   {
    "duration": 50,
    "start_time": "2024-09-26T18:59:06.148Z"
   },
   {
    "duration": 10,
    "start_time": "2024-09-26T18:59:06.201Z"
   },
   {
    "duration": 25,
    "start_time": "2024-09-26T18:59:06.213Z"
   },
   {
    "duration": 49,
    "start_time": "2024-09-26T18:59:06.240Z"
   },
   {
    "duration": 3,
    "start_time": "2024-09-26T18:59:06.293Z"
   },
   {
    "duration": 9,
    "start_time": "2024-09-26T18:59:06.298Z"
   },
   {
    "duration": 16,
    "start_time": "2024-09-26T18:59:06.309Z"
   },
   {
    "duration": 20,
    "start_time": "2024-09-26T18:59:06.326Z"
   },
   {
    "duration": 6,
    "start_time": "2024-09-26T18:59:06.348Z"
   },
   {
    "duration": 240,
    "start_time": "2024-09-26T18:59:06.355Z"
   },
   {
    "duration": 12,
    "start_time": "2024-09-26T18:59:06.597Z"
   },
   {
    "duration": 119,
    "start_time": "2024-09-26T18:59:06.611Z"
   },
   {
    "duration": 23,
    "start_time": "2024-09-26T18:59:06.732Z"
   },
   {
    "duration": 48,
    "start_time": "2024-09-26T18:59:06.758Z"
   },
   {
    "duration": 167,
    "start_time": "2024-09-26T18:59:06.808Z"
   },
   {
    "duration": 272,
    "start_time": "2024-09-26T18:59:06.977Z"
   },
   {
    "duration": 49,
    "start_time": "2024-09-26T18:59:07.251Z"
   },
   {
    "duration": 223,
    "start_time": "2024-09-26T18:59:07.302Z"
   },
   {
    "duration": 76,
    "start_time": "2024-09-26T18:59:07.527Z"
   },
   {
    "duration": 339,
    "start_time": "2024-09-26T18:59:07.604Z"
   },
   {
    "duration": 250,
    "start_time": "2024-09-26T18:59:07.945Z"
   },
   {
    "duration": 0,
    "start_time": "2024-09-26T18:59:08.196Z"
   },
   {
    "duration": 0,
    "start_time": "2024-09-26T18:59:08.197Z"
   },
   {
    "duration": 0,
    "start_time": "2024-09-26T18:59:08.198Z"
   },
   {
    "duration": 0,
    "start_time": "2024-09-26T18:59:08.199Z"
   },
   {
    "duration": 0,
    "start_time": "2024-09-26T18:59:08.200Z"
   },
   {
    "duration": 0,
    "start_time": "2024-09-26T18:59:08.202Z"
   },
   {
    "duration": 0,
    "start_time": "2024-09-26T18:59:08.203Z"
   },
   {
    "duration": 5,
    "start_time": "2024-09-26T19:08:49.909Z"
   },
   {
    "duration": 17,
    "start_time": "2024-09-26T19:09:09.276Z"
   },
   {
    "duration": 15,
    "start_time": "2024-09-26T19:09:17.887Z"
   },
   {
    "duration": 744,
    "start_time": "2024-09-26T19:09:28.039Z"
   },
   {
    "duration": 159,
    "start_time": "2024-09-26T19:09:28.786Z"
   },
   {
    "duration": 4,
    "start_time": "2024-09-26T19:09:28.947Z"
   },
   {
    "duration": 10,
    "start_time": "2024-09-26T19:09:28.953Z"
   },
   {
    "duration": 24,
    "start_time": "2024-09-26T19:09:28.965Z"
   },
   {
    "duration": 3,
    "start_time": "2024-09-26T19:09:28.991Z"
   },
   {
    "duration": 9,
    "start_time": "2024-09-26T19:09:28.995Z"
   },
   {
    "duration": 9,
    "start_time": "2024-09-26T19:09:29.006Z"
   },
   {
    "duration": 6,
    "start_time": "2024-09-26T19:09:29.016Z"
   },
   {
    "duration": 15,
    "start_time": "2024-09-26T19:09:29.026Z"
   },
   {
    "duration": 46,
    "start_time": "2024-09-26T19:09:29.042Z"
   },
   {
    "duration": 19,
    "start_time": "2024-09-26T19:09:29.090Z"
   },
   {
    "duration": 365,
    "start_time": "2024-09-26T19:09:29.111Z"
   },
   {
    "duration": 15,
    "start_time": "2024-09-26T19:09:29.478Z"
   },
   {
    "duration": 8,
    "start_time": "2024-09-26T19:09:29.494Z"
   },
   {
    "duration": 11,
    "start_time": "2024-09-26T19:09:29.503Z"
   },
   {
    "duration": 161,
    "start_time": "2024-09-26T19:09:29.515Z"
   },
   {
    "duration": 21,
    "start_time": "2024-09-26T19:09:29.678Z"
   },
   {
    "duration": 9,
    "start_time": "2024-09-26T19:09:29.701Z"
   },
   {
    "duration": 14,
    "start_time": "2024-09-26T19:09:29.711Z"
   },
   {
    "duration": 326,
    "start_time": "2024-09-26T19:09:29.727Z"
   },
   {
    "duration": 8,
    "start_time": "2024-09-26T19:09:30.057Z"
   },
   {
    "duration": 49,
    "start_time": "2024-09-26T19:09:30.067Z"
   },
   {
    "duration": 29,
    "start_time": "2024-09-26T19:09:30.119Z"
   },
   {
    "duration": 15,
    "start_time": "2024-09-26T19:09:30.149Z"
   },
   {
    "duration": 50,
    "start_time": "2024-09-26T19:09:30.166Z"
   },
   {
    "duration": 28,
    "start_time": "2024-09-26T19:09:30.218Z"
   },
   {
    "duration": 3,
    "start_time": "2024-09-26T19:09:30.250Z"
   },
   {
    "duration": 11,
    "start_time": "2024-09-26T19:09:30.255Z"
   },
   {
    "duration": 33,
    "start_time": "2024-09-26T19:09:30.268Z"
   },
   {
    "duration": 15,
    "start_time": "2024-09-26T19:09:30.303Z"
   },
   {
    "duration": 5,
    "start_time": "2024-09-26T19:09:30.320Z"
   },
   {
    "duration": 243,
    "start_time": "2024-09-26T19:09:30.326Z"
   },
   {
    "duration": 12,
    "start_time": "2024-09-26T19:09:30.571Z"
   },
   {
    "duration": 110,
    "start_time": "2024-09-26T19:09:30.587Z"
   },
   {
    "duration": 24,
    "start_time": "2024-09-26T19:09:30.700Z"
   },
   {
    "duration": 34,
    "start_time": "2024-09-26T19:09:30.726Z"
   },
   {
    "duration": 183,
    "start_time": "2024-09-26T19:09:30.761Z"
   },
   {
    "duration": 233,
    "start_time": "2024-09-26T19:09:30.945Z"
   },
   {
    "duration": 41,
    "start_time": "2024-09-26T19:09:31.180Z"
   },
   {
    "duration": 233,
    "start_time": "2024-09-26T19:09:31.223Z"
   },
   {
    "duration": 72,
    "start_time": "2024-09-26T19:09:31.458Z"
   },
   {
    "duration": 344,
    "start_time": "2024-09-26T19:09:31.532Z"
   },
   {
    "duration": 320,
    "start_time": "2024-09-26T19:09:31.878Z"
   },
   {
    "duration": 0,
    "start_time": "2024-09-26T19:09:32.200Z"
   },
   {
    "duration": 0,
    "start_time": "2024-09-26T19:09:32.202Z"
   },
   {
    "duration": 0,
    "start_time": "2024-09-26T19:09:32.203Z"
   },
   {
    "duration": 0,
    "start_time": "2024-09-26T19:09:32.204Z"
   },
   {
    "duration": 0,
    "start_time": "2024-09-26T19:09:32.206Z"
   },
   {
    "duration": 0,
    "start_time": "2024-09-26T19:09:32.207Z"
   },
   {
    "duration": 0,
    "start_time": "2024-09-26T19:09:32.209Z"
   },
   {
    "duration": 25,
    "start_time": "2024-09-26T19:09:41.158Z"
   },
   {
    "duration": 53,
    "start_time": "2024-09-26T19:11:48.140Z"
   },
   {
    "duration": 27,
    "start_time": "2024-09-26T19:13:57.186Z"
   },
   {
    "duration": 295,
    "start_time": "2024-09-26T19:14:51.609Z"
   },
   {
    "duration": 22,
    "start_time": "2024-09-26T19:17:47.474Z"
   },
   {
    "duration": 17,
    "start_time": "2024-09-26T19:17:58.589Z"
   },
   {
    "duration": 19,
    "start_time": "2024-09-26T19:18:02.384Z"
   },
   {
    "duration": 31,
    "start_time": "2024-09-26T19:18:32.478Z"
   },
   {
    "duration": 29,
    "start_time": "2024-09-26T19:19:11.015Z"
   },
   {
    "duration": 26,
    "start_time": "2024-09-26T19:20:25.081Z"
   },
   {
    "duration": 19,
    "start_time": "2024-09-26T19:20:31.330Z"
   },
   {
    "duration": 17,
    "start_time": "2024-09-26T19:21:01.978Z"
   },
   {
    "duration": 42,
    "start_time": "2024-09-26T19:21:33.532Z"
   },
   {
    "duration": 17,
    "start_time": "2024-09-26T19:24:54.645Z"
   },
   {
    "duration": 17,
    "start_time": "2024-09-26T19:25:48.487Z"
   },
   {
    "duration": 18,
    "start_time": "2024-09-26T19:26:27.943Z"
   },
   {
    "duration": 324,
    "start_time": "2024-09-26T19:26:55.023Z"
   },
   {
    "duration": 4,
    "start_time": "2024-09-26T19:29:32.079Z"
   },
   {
    "duration": 14,
    "start_time": "2024-09-26T19:30:14.843Z"
   },
   {
    "duration": 29,
    "start_time": "2024-09-26T19:32:13.276Z"
   },
   {
    "duration": 18,
    "start_time": "2024-09-26T19:32:54.566Z"
   },
   {
    "duration": 15,
    "start_time": "2024-09-26T19:35:45.537Z"
   },
   {
    "duration": 3,
    "start_time": "2024-09-26T19:36:12.931Z"
   },
   {
    "duration": 153,
    "start_time": "2024-09-26T19:36:14.363Z"
   },
   {
    "duration": 154,
    "start_time": "2024-09-26T19:36:18.735Z"
   },
   {
    "duration": 3,
    "start_time": "2024-09-26T19:36:19.503Z"
   },
   {
    "duration": 10,
    "start_time": "2024-09-26T19:36:22.835Z"
   },
   {
    "duration": 8,
    "start_time": "2024-09-26T19:36:24.438Z"
   },
   {
    "duration": 3,
    "start_time": "2024-09-26T19:36:26.828Z"
   },
   {
    "duration": 12,
    "start_time": "2024-09-26T19:36:29.309Z"
   },
   {
    "duration": 9,
    "start_time": "2024-09-26T19:36:32.338Z"
   },
   {
    "duration": 5,
    "start_time": "2024-09-26T19:36:34.548Z"
   },
   {
    "duration": 16,
    "start_time": "2024-09-26T19:36:40.951Z"
   },
   {
    "duration": 10,
    "start_time": "2024-09-26T19:36:43.259Z"
   },
   {
    "duration": 17,
    "start_time": "2024-09-26T19:36:44.802Z"
   },
   {
    "duration": 347,
    "start_time": "2024-09-26T19:36:46.569Z"
   },
   {
    "duration": 13,
    "start_time": "2024-09-26T19:36:49.049Z"
   },
   {
    "duration": 8,
    "start_time": "2024-09-26T19:36:53.004Z"
   },
   {
    "duration": 12,
    "start_time": "2024-09-26T19:36:55.430Z"
   },
   {
    "duration": 244,
    "start_time": "2024-09-26T19:36:57.111Z"
   },
   {
    "duration": 14,
    "start_time": "2024-09-26T19:36:58.599Z"
   },
   {
    "duration": 9,
    "start_time": "2024-09-26T19:37:00.471Z"
   },
   {
    "duration": 16,
    "start_time": "2024-09-26T19:37:03.589Z"
   },
   {
    "duration": 281,
    "start_time": "2024-09-26T19:37:05.080Z"
   },
   {
    "duration": 12,
    "start_time": "2024-09-26T19:37:08.121Z"
   },
   {
    "duration": 36,
    "start_time": "2024-09-26T19:37:11.545Z"
   },
   {
    "duration": 25,
    "start_time": "2024-09-26T19:37:14.215Z"
   },
   {
    "duration": 12,
    "start_time": "2024-09-26T19:37:15.460Z"
   },
   {
    "duration": 26,
    "start_time": "2024-09-26T19:37:17.748Z"
   },
   {
    "duration": 26,
    "start_time": "2024-09-26T19:37:22.904Z"
   },
   {
    "duration": 3,
    "start_time": "2024-09-26T19:37:24.891Z"
   },
   {
    "duration": 9,
    "start_time": "2024-09-26T19:37:26.015Z"
   },
   {
    "duration": 17,
    "start_time": "2024-09-26T19:37:28.218Z"
   },
   {
    "duration": 17,
    "start_time": "2024-09-26T19:37:30.008Z"
   },
   {
    "duration": 5,
    "start_time": "2024-09-26T19:37:33.341Z"
   },
   {
    "duration": 210,
    "start_time": "2024-09-26T19:37:34.769Z"
   },
   {
    "duration": 13,
    "start_time": "2024-09-26T19:37:36.388Z"
   },
   {
    "duration": 97,
    "start_time": "2024-09-26T19:37:40.707Z"
   },
   {
    "duration": 25,
    "start_time": "2024-09-26T19:37:45.216Z"
   },
   {
    "duration": 32,
    "start_time": "2024-09-26T19:37:49.033Z"
   },
   {
    "duration": 159,
    "start_time": "2024-09-26T19:37:50.100Z"
   },
   {
    "duration": 206,
    "start_time": "2024-09-26T19:37:54.747Z"
   },
   {
    "duration": 40,
    "start_time": "2024-09-26T19:38:02.716Z"
   },
   {
    "duration": 302,
    "start_time": "2024-09-26T19:38:05.356Z"
   },
   {
    "duration": 51,
    "start_time": "2024-09-26T19:38:08.859Z"
   },
   {
    "duration": 51,
    "start_time": "2024-09-26T19:38:18.314Z"
   },
   {
    "duration": 327,
    "start_time": "2024-09-26T19:38:19.378Z"
   },
   {
    "duration": 41,
    "start_time": "2024-09-26T19:38:22.553Z"
   },
   {
    "duration": 39,
    "start_time": "2024-09-26T19:38:25.731Z"
   },
   {
    "duration": 162,
    "start_time": "2024-09-26T19:38:27.140Z"
   },
   {
    "duration": 23,
    "start_time": "2024-09-26T19:38:38.748Z"
   },
   {
    "duration": 96,
    "start_time": "2024-09-26T19:38:45.555Z"
   },
   {
    "duration": 5,
    "start_time": "2024-09-26T19:40:12.714Z"
   },
   {
    "duration": 18,
    "start_time": "2024-09-26T19:40:59.213Z"
   },
   {
    "duration": 20,
    "start_time": "2024-09-26T19:41:05.600Z"
   },
   {
    "duration": 4,
    "start_time": "2024-09-26T19:41:10.757Z"
   },
   {
    "duration": 19,
    "start_time": "2024-09-26T19:43:10.359Z"
   },
   {
    "duration": 135,
    "start_time": "2024-09-26T19:47:58.535Z"
   },
   {
    "duration": 23,
    "start_time": "2024-09-26T19:48:09.911Z"
   },
   {
    "duration": 20,
    "start_time": "2024-09-26T19:48:29.687Z"
   },
   {
    "duration": 24,
    "start_time": "2024-09-26T19:48:33.478Z"
   },
   {
    "duration": 22,
    "start_time": "2024-09-26T19:48:41.429Z"
   },
   {
    "duration": 138,
    "start_time": "2024-09-26T19:49:28.045Z"
   },
   {
    "duration": 87,
    "start_time": "2024-09-26T19:51:43.514Z"
   },
   {
    "duration": 659,
    "start_time": "2024-09-26T19:52:11.745Z"
   },
   {
    "duration": 88,
    "start_time": "2024-09-26T19:52:36.328Z"
   },
   {
    "duration": 83,
    "start_time": "2024-09-26T19:52:59.770Z"
   },
   {
    "duration": 208,
    "start_time": "2024-09-26T19:53:41.635Z"
   },
   {
    "duration": 100,
    "start_time": "2024-09-26T19:53:53.884Z"
   },
   {
    "duration": 90,
    "start_time": "2024-09-26T19:54:11.638Z"
   },
   {
    "duration": 23,
    "start_time": "2024-09-26T20:15:30.637Z"
   },
   {
    "duration": 89,
    "start_time": "2024-09-26T20:15:32.292Z"
   },
   {
    "duration": 110,
    "start_time": "2024-09-26T20:15:47.000Z"
   },
   {
    "duration": 16,
    "start_time": "2024-09-26T20:17:46.459Z"
   },
   {
    "duration": 4,
    "start_time": "2024-09-26T20:18:27.977Z"
   },
   {
    "duration": 9,
    "start_time": "2024-09-26T20:22:55.095Z"
   },
   {
    "duration": 11,
    "start_time": "2024-09-26T20:26:13.382Z"
   },
   {
    "duration": 9,
    "start_time": "2024-09-26T20:27:58.917Z"
   },
   {
    "duration": 10,
    "start_time": "2024-09-26T20:28:51.907Z"
   },
   {
    "duration": 32,
    "start_time": "2024-09-26T20:30:16.899Z"
   },
   {
    "duration": 27,
    "start_time": "2024-09-26T20:31:11.289Z"
   },
   {
    "duration": 28,
    "start_time": "2024-09-26T20:32:28.684Z"
   },
   {
    "duration": 18,
    "start_time": "2024-09-26T20:37:48.511Z"
   },
   {
    "duration": 160,
    "start_time": "2024-09-26T22:59:30.996Z"
   },
   {
    "duration": 14,
    "start_time": "2024-09-26T22:59:39.606Z"
   },
   {
    "duration": 2543,
    "start_time": "2024-09-26T22:59:44.057Z"
   },
   {
    "duration": 249,
    "start_time": "2024-09-26T22:59:46.602Z"
   },
   {
    "duration": 2,
    "start_time": "2024-09-26T22:59:46.853Z"
   },
   {
    "duration": 9,
    "start_time": "2024-09-26T22:59:46.857Z"
   },
   {
    "duration": 9,
    "start_time": "2024-09-26T22:59:46.870Z"
   },
   {
    "duration": 3,
    "start_time": "2024-09-26T22:59:46.880Z"
   },
   {
    "duration": 8,
    "start_time": "2024-09-26T22:59:46.885Z"
   },
   {
    "duration": 8,
    "start_time": "2024-09-26T22:59:46.923Z"
   },
   {
    "duration": 5,
    "start_time": "2024-09-26T22:59:46.933Z"
   },
   {
    "duration": 15,
    "start_time": "2024-09-26T22:59:46.939Z"
   },
   {
    "duration": 10,
    "start_time": "2024-09-26T22:59:46.956Z"
   },
   {
    "duration": 17,
    "start_time": "2024-09-26T22:59:46.968Z"
   },
   {
    "duration": 326,
    "start_time": "2024-09-26T22:59:46.988Z"
   },
   {
    "duration": 16,
    "start_time": "2024-09-26T22:59:47.318Z"
   },
   {
    "duration": 7,
    "start_time": "2024-09-26T22:59:47.336Z"
   },
   {
    "duration": 10,
    "start_time": "2024-09-26T22:59:47.345Z"
   },
   {
    "duration": 212,
    "start_time": "2024-09-26T22:59:47.356Z"
   },
   {
    "duration": 13,
    "start_time": "2024-09-26T22:59:47.570Z"
   },
   {
    "duration": 8,
    "start_time": "2024-09-26T22:59:47.585Z"
   },
   {
    "duration": 29,
    "start_time": "2024-09-26T22:59:47.595Z"
   },
   {
    "duration": 252,
    "start_time": "2024-09-26T22:59:47.626Z"
   },
   {
    "duration": 9,
    "start_time": "2024-09-26T22:59:47.880Z"
   },
   {
    "duration": 49,
    "start_time": "2024-09-26T22:59:47.891Z"
   },
   {
    "duration": 29,
    "start_time": "2024-09-26T22:59:47.943Z"
   },
   {
    "duration": 24,
    "start_time": "2024-09-26T22:59:47.974Z"
   },
   {
    "duration": 51,
    "start_time": "2024-09-26T22:59:47.999Z"
   },
   {
    "duration": 5,
    "start_time": "2024-09-26T22:59:48.052Z"
   },
   {
    "duration": 8,
    "start_time": "2024-09-26T22:59:48.059Z"
   },
   {
    "duration": 17,
    "start_time": "2024-09-26T22:59:48.069Z"
   },
   {
    "duration": 41,
    "start_time": "2024-09-26T22:59:48.088Z"
   },
   {
    "duration": 5,
    "start_time": "2024-09-26T22:59:48.131Z"
   },
   {
    "duration": 207,
    "start_time": "2024-09-26T22:59:48.138Z"
   },
   {
    "duration": 12,
    "start_time": "2024-09-26T22:59:48.347Z"
   },
   {
    "duration": 121,
    "start_time": "2024-09-26T22:59:48.360Z"
   },
   {
    "duration": 31,
    "start_time": "2024-09-26T22:59:48.483Z"
   },
   {
    "duration": 23,
    "start_time": "2024-09-26T22:59:48.524Z"
   },
   {
    "duration": 176,
    "start_time": "2024-09-26T22:59:48.549Z"
   },
   {
    "duration": 246,
    "start_time": "2024-09-26T22:59:48.727Z"
   },
   {
    "duration": 50,
    "start_time": "2024-09-26T22:59:48.975Z"
   },
   {
    "duration": 234,
    "start_time": "2024-09-26T22:59:49.026Z"
   },
   {
    "duration": 62,
    "start_time": "2024-09-26T22:59:49.265Z"
   },
   {
    "duration": 329,
    "start_time": "2024-09-26T22:59:49.329Z"
   },
   {
    "duration": 46,
    "start_time": "2024-09-26T22:59:49.660Z"
   },
   {
    "duration": 50,
    "start_time": "2024-09-26T22:59:49.709Z"
   },
   {
    "duration": 174,
    "start_time": "2024-09-26T22:59:49.760Z"
   },
   {
    "duration": 21,
    "start_time": "2024-09-26T22:59:49.936Z"
   },
   {
    "duration": 110,
    "start_time": "2024-09-26T22:59:49.959Z"
   },
   {
    "duration": 5,
    "start_time": "2024-09-26T22:59:50.071Z"
   },
   {
    "duration": 16,
    "start_time": "2024-09-26T22:59:50.078Z"
   },
   {
    "duration": 37,
    "start_time": "2024-09-26T22:59:50.096Z"
   },
   {
    "duration": 120,
    "start_time": "2024-09-26T22:59:50.134Z"
   },
   {
    "duration": 4,
    "start_time": "2024-09-26T22:59:50.256Z"
   },
   {
    "duration": 31,
    "start_time": "2024-09-26T23:00:06.219Z"
   },
   {
    "duration": 28,
    "start_time": "2024-09-26T23:00:07.917Z"
   },
   {
    "duration": 26,
    "start_time": "2024-09-26T23:00:08.728Z"
   },
   {
    "duration": 31,
    "start_time": "2024-09-26T23:00:09.278Z"
   },
   {
    "duration": 30,
    "start_time": "2024-09-26T23:04:26.981Z"
   },
   {
    "duration": 38,
    "start_time": "2024-09-26T23:04:39.850Z"
   },
   {
    "duration": 42,
    "start_time": "2024-09-26T23:05:44.792Z"
   },
   {
    "duration": 156,
    "start_time": "2024-09-26T23:06:18.055Z"
   },
   {
    "duration": 101,
    "start_time": "2024-09-26T23:07:09.241Z"
   },
   {
    "duration": 113,
    "start_time": "2024-09-26T23:07:57.350Z"
   },
   {
    "duration": 97,
    "start_time": "2024-09-26T23:13:44.830Z"
   },
   {
    "duration": 110,
    "start_time": "2024-09-26T23:13:48.126Z"
   },
   {
    "duration": 112,
    "start_time": "2024-09-26T23:13:54.119Z"
   },
   {
    "duration": 23,
    "start_time": "2024-09-26T23:13:59.301Z"
   },
   {
    "duration": 163,
    "start_time": "2024-09-26T23:14:00.608Z"
   },
   {
    "duration": 214,
    "start_time": "2024-09-26T23:16:22.782Z"
   },
   {
    "duration": 39,
    "start_time": "2024-09-26T23:18:31.768Z"
   },
   {
    "duration": 40,
    "start_time": "2024-09-26T23:18:36.466Z"
   },
   {
    "duration": 216,
    "start_time": "2024-09-26T23:18:38.038Z"
   },
   {
    "duration": 59,
    "start_time": "2024-09-26T23:22:29.588Z"
   },
   {
    "duration": 394,
    "start_time": "2024-09-26T23:22:30.841Z"
   },
   {
    "duration": 52,
    "start_time": "2024-09-26T23:26:39.126Z"
   },
   {
    "duration": 342,
    "start_time": "2024-09-26T23:26:40.379Z"
   },
   {
    "duration": 53,
    "start_time": "2024-09-26T23:28:24.357Z"
   },
   {
    "duration": 59,
    "start_time": "2024-09-26T23:28:53.053Z"
   },
   {
    "duration": 59,
    "start_time": "2024-09-26T23:29:08.271Z"
   },
   {
    "duration": 103,
    "start_time": "2024-09-26T23:30:19.047Z"
   },
   {
    "duration": 103,
    "start_time": "2024-09-26T23:31:21.644Z"
   },
   {
    "duration": 105,
    "start_time": "2024-09-26T23:31:39.994Z"
   },
   {
    "duration": 104,
    "start_time": "2024-09-26T23:31:56.501Z"
   },
   {
    "duration": 45,
    "start_time": "2024-09-26T23:47:02.516Z"
   },
   {
    "duration": 40,
    "start_time": "2024-09-26T23:47:06.041Z"
   },
   {
    "duration": 170,
    "start_time": "2024-09-26T23:47:07.390Z"
   },
   {
    "duration": 47,
    "start_time": "2024-09-26T23:48:06.684Z"
   },
   {
    "duration": 159,
    "start_time": "2024-09-26T23:49:10.748Z"
   },
   {
    "duration": 109,
    "start_time": "2024-09-26T23:49:48.023Z"
   },
   {
    "duration": 105,
    "start_time": "2024-09-26T23:53:13.448Z"
   },
   {
    "duration": 191,
    "start_time": "2024-09-26T23:53:28.334Z"
   },
   {
    "duration": 170,
    "start_time": "2024-09-26T23:53:37.398Z"
   },
   {
    "duration": 5,
    "start_time": "2024-09-26T23:59:44.106Z"
   },
   {
    "duration": 25,
    "start_time": "2024-09-27T00:06:13.800Z"
   },
   {
    "duration": 107,
    "start_time": "2024-09-27T00:19:44.292Z"
   },
   {
    "duration": 91,
    "start_time": "2024-09-27T00:20:12.747Z"
   },
   {
    "duration": 5,
    "start_time": "2024-09-27T00:23:22.319Z"
   },
   {
    "duration": 106,
    "start_time": "2024-09-27T00:28:09.255Z"
   },
   {
    "duration": 306,
    "start_time": "2024-09-27T00:29:42.091Z"
   },
   {
    "duration": 182,
    "start_time": "2024-09-27T00:30:26.143Z"
   },
   {
    "duration": 19,
    "start_time": "2024-09-27T00:30:50.819Z"
   },
   {
    "duration": 22,
    "start_time": "2024-09-27T00:30:52.026Z"
   },
   {
    "duration": 95,
    "start_time": "2024-09-27T00:30:53.887Z"
   },
   {
    "duration": 114,
    "start_time": "2024-09-27T00:32:45.355Z"
   },
   {
    "duration": 110,
    "start_time": "2024-09-27T00:47:58.830Z"
   },
   {
    "duration": 2459,
    "start_time": "2024-09-27T14:55:39.529Z"
   },
   {
    "duration": 207,
    "start_time": "2024-09-27T14:55:41.990Z"
   },
   {
    "duration": 3,
    "start_time": "2024-09-27T14:55:42.199Z"
   },
   {
    "duration": 10,
    "start_time": "2024-09-27T14:55:42.203Z"
   },
   {
    "duration": 9,
    "start_time": "2024-09-27T14:55:42.216Z"
   },
   {
    "duration": 3,
    "start_time": "2024-09-27T14:55:42.227Z"
   },
   {
    "duration": 9,
    "start_time": "2024-09-27T14:55:42.231Z"
   },
   {
    "duration": 8,
    "start_time": "2024-09-27T14:55:42.241Z"
   },
   {
    "duration": 5,
    "start_time": "2024-09-27T14:55:42.250Z"
   },
   {
    "duration": 14,
    "start_time": "2024-09-27T14:55:42.257Z"
   },
   {
    "duration": 9,
    "start_time": "2024-09-27T14:55:42.273Z"
   },
   {
    "duration": 53,
    "start_time": "2024-09-27T14:55:42.283Z"
   },
   {
    "duration": 310,
    "start_time": "2024-09-27T14:55:42.338Z"
   },
   {
    "duration": 12,
    "start_time": "2024-09-27T14:55:42.652Z"
   },
   {
    "duration": 8,
    "start_time": "2024-09-27T14:55:42.665Z"
   },
   {
    "duration": 10,
    "start_time": "2024-09-27T14:55:42.674Z"
   },
   {
    "duration": 201,
    "start_time": "2024-09-27T14:55:42.685Z"
   },
   {
    "duration": 13,
    "start_time": "2024-09-27T14:55:42.887Z"
   },
   {
    "duration": 9,
    "start_time": "2024-09-27T14:55:42.901Z"
   },
   {
    "duration": 12,
    "start_time": "2024-09-27T14:55:42.925Z"
   },
   {
    "duration": 247,
    "start_time": "2024-09-27T14:55:42.938Z"
   },
   {
    "duration": 9,
    "start_time": "2024-09-27T14:55:43.186Z"
   },
   {
    "duration": 51,
    "start_time": "2024-09-27T14:55:43.197Z"
   },
   {
    "duration": 27,
    "start_time": "2024-09-27T14:55:43.250Z"
   },
   {
    "duration": 26,
    "start_time": "2024-09-27T14:55:43.278Z"
   },
   {
    "duration": 44,
    "start_time": "2024-09-27T14:55:43.306Z"
   },
   {
    "duration": 3,
    "start_time": "2024-09-27T14:55:43.352Z"
   },
   {
    "duration": 7,
    "start_time": "2024-09-27T14:55:43.357Z"
   },
   {
    "duration": 14,
    "start_time": "2024-09-27T14:55:43.365Z"
   },
   {
    "duration": 16,
    "start_time": "2024-09-27T14:55:43.380Z"
   },
   {
    "duration": 4,
    "start_time": "2024-09-27T14:55:43.423Z"
   },
   {
    "duration": 196,
    "start_time": "2024-09-27T14:55:43.429Z"
   },
   {
    "duration": 11,
    "start_time": "2024-09-27T14:55:43.626Z"
   },
   {
    "duration": 114,
    "start_time": "2024-09-27T14:55:43.639Z"
   },
   {
    "duration": 30,
    "start_time": "2024-09-27T14:55:43.755Z"
   },
   {
    "duration": 112,
    "start_time": "2024-09-27T14:55:43.787Z"
   },
   {
    "duration": 115,
    "start_time": "2024-09-27T14:55:43.901Z"
   },
   {
    "duration": 29,
    "start_time": "2024-09-27T14:55:44.018Z"
   },
   {
    "duration": 159,
    "start_time": "2024-09-27T14:55:44.048Z"
   },
   {
    "duration": 267,
    "start_time": "2024-09-27T14:55:44.209Z"
   },
   {
    "duration": 48,
    "start_time": "2024-09-27T14:55:44.481Z"
   },
   {
    "duration": 221,
    "start_time": "2024-09-27T14:55:44.530Z"
   },
   {
    "duration": 74,
    "start_time": "2024-09-27T14:55:44.753Z"
   },
   {
    "duration": 107,
    "start_time": "2024-09-27T14:55:44.829Z"
   },
   {
    "duration": 331,
    "start_time": "2024-09-27T14:55:44.938Z"
   },
   {
    "duration": 61,
    "start_time": "2024-09-27T14:55:45.271Z"
   },
   {
    "duration": 46,
    "start_time": "2024-09-27T14:55:45.334Z"
   },
   {
    "duration": 113,
    "start_time": "2024-09-27T14:55:45.382Z"
   },
   {
    "duration": 170,
    "start_time": "2024-09-27T14:55:45.497Z"
   },
   {
    "duration": 4,
    "start_time": "2024-09-27T14:55:45.669Z"
   },
   {
    "duration": 22,
    "start_time": "2024-09-27T14:55:45.675Z"
   },
   {
    "duration": 134,
    "start_time": "2024-09-27T14:55:45.699Z"
   },
   {
    "duration": 5,
    "start_time": "2024-09-27T14:55:45.835Z"
   },
   {
    "duration": 6,
    "start_time": "2024-09-27T14:55:45.842Z"
   },
   {
    "duration": 17,
    "start_time": "2024-09-27T14:55:45.849Z"
   },
   {
    "duration": 106,
    "start_time": "2024-09-27T14:55:45.867Z"
   },
   {
    "duration": 121,
    "start_time": "2024-09-27T14:55:45.974Z"
   },
   {
    "duration": 3,
    "start_time": "2024-09-27T14:55:46.097Z"
   },
   {
    "duration": 6,
    "start_time": "2024-09-27T14:57:00.509Z"
   },
   {
    "duration": 737,
    "start_time": "2024-09-27T15:34:26.123Z"
   },
   {
    "duration": 159,
    "start_time": "2024-09-27T15:34:26.863Z"
   },
   {
    "duration": 3,
    "start_time": "2024-09-27T15:34:27.024Z"
   },
   {
    "duration": 9,
    "start_time": "2024-09-27T15:34:27.029Z"
   },
   {
    "duration": 9,
    "start_time": "2024-09-27T15:34:27.040Z"
   },
   {
    "duration": 2,
    "start_time": "2024-09-27T15:34:27.051Z"
   },
   {
    "duration": 7,
    "start_time": "2024-09-27T15:34:27.056Z"
   },
   {
    "duration": 8,
    "start_time": "2024-09-27T15:34:27.065Z"
   },
   {
    "duration": 5,
    "start_time": "2024-09-27T15:34:27.074Z"
   },
   {
    "duration": 43,
    "start_time": "2024-09-27T15:34:27.082Z"
   },
   {
    "duration": 9,
    "start_time": "2024-09-27T15:34:27.126Z"
   },
   {
    "duration": 17,
    "start_time": "2024-09-27T15:34:27.137Z"
   },
   {
    "duration": 364,
    "start_time": "2024-09-27T15:34:27.156Z"
   },
   {
    "duration": 15,
    "start_time": "2024-09-27T15:34:27.524Z"
   },
   {
    "duration": 8,
    "start_time": "2024-09-27T15:34:27.541Z"
   },
   {
    "duration": 9,
    "start_time": "2024-09-27T15:34:27.552Z"
   },
   {
    "duration": 161,
    "start_time": "2024-09-27T15:34:27.563Z"
   },
   {
    "duration": 16,
    "start_time": "2024-09-27T15:34:27.726Z"
   },
   {
    "duration": 9,
    "start_time": "2024-09-27T15:34:27.744Z"
   },
   {
    "duration": 13,
    "start_time": "2024-09-27T15:34:27.755Z"
   },
   {
    "duration": 307,
    "start_time": "2024-09-27T15:34:27.769Z"
   },
   {
    "duration": 7,
    "start_time": "2024-09-27T15:34:28.078Z"
   },
   {
    "duration": 54,
    "start_time": "2024-09-27T15:34:28.086Z"
   },
   {
    "duration": 30,
    "start_time": "2024-09-27T15:34:28.142Z"
   },
   {
    "duration": 25,
    "start_time": "2024-09-27T15:34:28.173Z"
   },
   {
    "duration": 49,
    "start_time": "2024-09-27T15:34:28.199Z"
   },
   {
    "duration": 4,
    "start_time": "2024-09-27T15:34:28.249Z"
   },
   {
    "duration": 8,
    "start_time": "2024-09-27T15:34:28.257Z"
   },
   {
    "duration": 14,
    "start_time": "2024-09-27T15:34:28.266Z"
   },
   {
    "duration": 16,
    "start_time": "2024-09-27T15:34:28.282Z"
   },
   {
    "duration": 4,
    "start_time": "2024-09-27T15:34:28.326Z"
   },
   {
    "duration": 201,
    "start_time": "2024-09-27T15:34:28.331Z"
   },
   {
    "duration": 11,
    "start_time": "2024-09-27T15:34:28.534Z"
   },
   {
    "duration": 120,
    "start_time": "2024-09-27T15:34:28.547Z"
   },
   {
    "duration": 31,
    "start_time": "2024-09-27T15:34:28.668Z"
   },
   {
    "duration": 106,
    "start_time": "2024-09-27T15:34:28.701Z"
   },
   {
    "duration": 118,
    "start_time": "2024-09-27T15:34:28.808Z"
   },
   {
    "duration": 26,
    "start_time": "2024-09-27T15:34:28.927Z"
   },
   {
    "duration": 160,
    "start_time": "2024-09-27T15:34:28.955Z"
   },
   {
    "duration": 229,
    "start_time": "2024-09-27T15:34:29.116Z"
   },
   {
    "duration": 40,
    "start_time": "2024-09-27T15:34:29.347Z"
   },
   {
    "duration": 234,
    "start_time": "2024-09-27T15:34:29.388Z"
   },
   {
    "duration": 65,
    "start_time": "2024-09-27T15:34:29.624Z"
   },
   {
    "duration": 115,
    "start_time": "2024-09-27T15:34:29.691Z"
   },
   {
    "duration": 333,
    "start_time": "2024-09-27T15:34:29.808Z"
   },
   {
    "duration": 51,
    "start_time": "2024-09-27T15:34:30.143Z"
   },
   {
    "duration": 58,
    "start_time": "2024-09-27T15:34:30.196Z"
   },
   {
    "duration": 125,
    "start_time": "2024-09-27T15:34:30.256Z"
   },
   {
    "duration": 162,
    "start_time": "2024-09-27T15:34:30.382Z"
   },
   {
    "duration": 4,
    "start_time": "2024-09-27T15:34:30.546Z"
   },
   {
    "duration": 22,
    "start_time": "2024-09-27T15:34:30.552Z"
   },
   {
    "duration": 136,
    "start_time": "2024-09-27T15:34:30.575Z"
   },
   {
    "duration": 4,
    "start_time": "2024-09-27T15:34:30.713Z"
   },
   {
    "duration": 5,
    "start_time": "2024-09-27T15:34:30.724Z"
   },
   {
    "duration": 17,
    "start_time": "2024-09-27T15:34:30.730Z"
   },
   {
    "duration": 107,
    "start_time": "2024-09-27T15:34:30.749Z"
   },
   {
    "duration": 118,
    "start_time": "2024-09-27T15:34:30.857Z"
   },
   {
    "duration": 4,
    "start_time": "2024-09-27T15:34:30.976Z"
   },
   {
    "duration": 768,
    "start_time": "2024-09-27T15:35:15.231Z"
   },
   {
    "duration": 152,
    "start_time": "2024-09-27T15:35:16.001Z"
   },
   {
    "duration": 5,
    "start_time": "2024-09-27T15:35:16.154Z"
   },
   {
    "duration": 9,
    "start_time": "2024-09-27T15:35:16.162Z"
   },
   {
    "duration": 10,
    "start_time": "2024-09-27T15:35:16.172Z"
   },
   {
    "duration": 3,
    "start_time": "2024-09-27T15:35:16.183Z"
   },
   {
    "duration": 8,
    "start_time": "2024-09-27T15:35:16.188Z"
   },
   {
    "duration": 27,
    "start_time": "2024-09-27T15:35:16.198Z"
   },
   {
    "duration": 5,
    "start_time": "2024-09-27T15:35:16.227Z"
   },
   {
    "duration": 14,
    "start_time": "2024-09-27T15:35:16.235Z"
   },
   {
    "duration": 9,
    "start_time": "2024-09-27T15:35:16.250Z"
   },
   {
    "duration": 18,
    "start_time": "2024-09-27T15:35:16.260Z"
   },
   {
    "duration": 375,
    "start_time": "2024-09-27T15:35:16.280Z"
   },
   {
    "duration": 12,
    "start_time": "2024-09-27T15:35:16.657Z"
   },
   {
    "duration": 7,
    "start_time": "2024-09-27T15:35:16.670Z"
   },
   {
    "duration": 10,
    "start_time": "2024-09-27T15:35:16.679Z"
   },
   {
    "duration": 160,
    "start_time": "2024-09-27T15:35:16.690Z"
   },
   {
    "duration": 13,
    "start_time": "2024-09-27T15:35:16.852Z"
   },
   {
    "duration": 8,
    "start_time": "2024-09-27T15:35:16.866Z"
   },
   {
    "duration": 12,
    "start_time": "2024-09-27T15:35:16.876Z"
   },
   {
    "duration": 305,
    "start_time": "2024-09-27T15:35:16.890Z"
   },
   {
    "duration": 7,
    "start_time": "2024-09-27T15:35:17.197Z"
   },
   {
    "duration": 45,
    "start_time": "2024-09-27T15:35:17.206Z"
   },
   {
    "duration": 27,
    "start_time": "2024-09-27T15:35:17.253Z"
   },
   {
    "duration": 24,
    "start_time": "2024-09-27T15:35:17.282Z"
   },
   {
    "duration": 41,
    "start_time": "2024-09-27T15:35:17.308Z"
   },
   {
    "duration": 3,
    "start_time": "2024-09-27T15:35:17.350Z"
   },
   {
    "duration": 7,
    "start_time": "2024-09-27T15:35:17.358Z"
   },
   {
    "duration": 15,
    "start_time": "2024-09-27T15:35:17.368Z"
   },
   {
    "duration": 45,
    "start_time": "2024-09-27T15:35:17.384Z"
   },
   {
    "duration": 5,
    "start_time": "2024-09-27T15:35:17.431Z"
   },
   {
    "duration": 213,
    "start_time": "2024-09-27T15:35:17.437Z"
   },
   {
    "duration": 12,
    "start_time": "2024-09-27T15:35:17.652Z"
   },
   {
    "duration": 119,
    "start_time": "2024-09-27T15:35:17.667Z"
   },
   {
    "duration": 37,
    "start_time": "2024-09-27T15:35:17.789Z"
   },
   {
    "duration": 102,
    "start_time": "2024-09-27T15:35:17.828Z"
   },
   {
    "duration": 116,
    "start_time": "2024-09-27T15:35:17.932Z"
   },
   {
    "duration": 27,
    "start_time": "2024-09-27T15:35:18.050Z"
   },
   {
    "duration": 179,
    "start_time": "2024-09-27T15:35:18.079Z"
   },
   {
    "duration": 216,
    "start_time": "2024-09-27T15:35:18.260Z"
   },
   {
    "duration": 48,
    "start_time": "2024-09-27T15:35:18.478Z"
   },
   {
    "duration": 222,
    "start_time": "2024-09-27T15:35:18.528Z"
   },
   {
    "duration": 73,
    "start_time": "2024-09-27T15:35:18.752Z"
   },
   {
    "duration": 113,
    "start_time": "2024-09-27T15:35:18.826Z"
   },
   {
    "duration": 326,
    "start_time": "2024-09-27T15:35:18.941Z"
   },
   {
    "duration": 60,
    "start_time": "2024-09-27T15:35:19.269Z"
   },
   {
    "duration": 46,
    "start_time": "2024-09-27T15:35:19.331Z"
   },
   {
    "duration": 118,
    "start_time": "2024-09-27T15:35:19.379Z"
   },
   {
    "duration": 172,
    "start_time": "2024-09-27T15:35:19.499Z"
   },
   {
    "duration": 4,
    "start_time": "2024-09-27T15:35:19.673Z"
   },
   {
    "duration": 22,
    "start_time": "2024-09-27T15:35:19.679Z"
   },
   {
    "duration": 131,
    "start_time": "2024-09-27T15:35:19.702Z"
   },
   {
    "duration": 4,
    "start_time": "2024-09-27T15:35:19.835Z"
   },
   {
    "duration": 4,
    "start_time": "2024-09-27T15:35:19.841Z"
   },
   {
    "duration": 16,
    "start_time": "2024-09-27T15:35:19.846Z"
   },
   {
    "duration": 106,
    "start_time": "2024-09-27T15:35:19.864Z"
   },
   {
    "duration": 119,
    "start_time": "2024-09-27T15:35:19.971Z"
   },
   {
    "duration": 4,
    "start_time": "2024-09-27T15:35:20.091Z"
   }
  ],
  "colab": {
   "provenance": []
  },
  "kernelspec": {
   "display_name": "Python 3 (ipykernel)",
   "language": "python",
   "name": "python3"
  },
  "language_info": {
   "codemirror_mode": {
    "name": "ipython",
    "version": 3
   },
   "file_extension": ".py",
   "mimetype": "text/x-python",
   "name": "python",
   "nbconvert_exporter": "python",
   "pygments_lexer": "ipython3",
   "version": "3.9.19"
  },
  "toc": {
   "base_numbering": 1,
   "nav_menu": {},
   "number_sections": true,
   "sideBar": true,
   "skip_h1_title": false,
   "title_cell": "Table of Contents",
   "title_sidebar": "Contents",
   "toc_cell": false,
   "toc_position": {},
   "toc_section_display": true,
   "toc_window_display": false
  }
 },
 "nbformat": 4,
 "nbformat_minor": 1
}
